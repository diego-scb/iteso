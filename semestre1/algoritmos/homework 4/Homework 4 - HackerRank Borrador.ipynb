{
 "cells": [
  {
   "cell_type": "markdown",
   "metadata": {},
   "source": [
    "# EXERCICE 1"
   ]
  },
  {
   "cell_type": "code",
   "execution_count": 7,
   "metadata": {},
   "outputs": [
    {
     "name": "stdout",
     "output_type": "stream",
     "text": [
      "800 2 0\n",
      "809 2 0\n",
      "800 3 5\n"
     ]
    }
   ],
   "source": [
    "def RepeatedEvents(arr):\n",
    "    \n",
    "    evaluated = []\n",
    "    \n",
    "    bestreplen = len(arr)\n",
    "    bestevent = \"no repeated events\"\n",
    "    firstindex = \"NA\"\n",
    "    secondindex = \"NA\"\n",
    "    \n",
    "    for i in range(len(arr)):\n",
    "        j = i + 1\n",
    "        evalcount = 0\n",
    "        while j < len(arr):\n",
    "            if arr[j] in evaluated:\n",
    "                evalcount = evalcount + 1\n",
    "                \n",
    "            if arr[j] == arr[i]:\n",
    "                print(arr[i], j - i, evalcount)\n",
    "                if j-i<bestreplen:\n",
    "                    bestreplen = j - i\n",
    "                    bestevent = arr [i]\n",
    "                    firstindex = i\n",
    "                    secondindex = j\n",
    "                break\n",
    "            \n",
    "                \n",
    "            j = j + 1\n",
    "        if arr[i] not in evaluated:\n",
    "            evaluated.append(arr[i])\n",
    "    print(bestevent,firstindex, secondindex)\n",
    "        \n",
    "\n",
    "arr = [815, 604, 796, 800, 801, 800, 809, 792, 809, 75]\n",
    "\n",
    "RepeatedEvents(arr)"
   ]
  },
  {
   "cell_type": "code",
   "execution_count": null,
   "metadata": {},
   "outputs": [],
   "source": []
  },
  {
   "cell_type": "code",
   "execution_count": 14,
   "metadata": {},
   "outputs": [
    {
     "name": "stdout",
     "output_type": "stream",
     "text": [
      "800 2 0\n",
      "809 2 0\n",
      "800 3 5\n",
      "\n",
      "\n",
      "620 11 0\n",
      "809 10 1\n",
      "800 9 2\n",
      "800 5 14\n",
      "\n",
      "\n",
      "164 1 0\n",
      "808 4 0\n",
      "755 3 1\n",
      "782 5 0\n",
      "800 5 1\n",
      "792 1 0\n",
      "243 2 1\n",
      "164 0 1\n"
     ]
    }
   ],
   "source": [
    "def RepeatedEvents(arr):\n",
    "    \n",
    "    evaluated = []\n",
    "    \n",
    "    bestreplen = len(arr)\n",
    "    bestevent = \"no repeated events\"\n",
    "    firstindex = \"NA\"\n",
    "    secondindex = \"NA\"\n",
    "    \n",
    "    for i in range(len(arr)):\n",
    "        j = i + 1\n",
    "        evalcount = 0\n",
    "        while j < len(arr):\n",
    "            if arr[j] in evaluated:\n",
    "                evalcount = evalcount + 1\n",
    "                \n",
    "            if arr[j] == arr[i]:\n",
    "                print(arr[i], j - i, evalcount)\n",
    "                if j-i<bestreplen:\n",
    "                    bestreplen = j - i\n",
    "                    bestevent = arr [i]\n",
    "                    firstindex = i\n",
    "                    secondindex = j\n",
    "                break\n",
    "            \n",
    "                \n",
    "            j = j + 1\n",
    "        if arr[i] not in evaluated:\n",
    "            evaluated.append(arr[i])\n",
    "    print(bestevent,firstindex, secondindex)\n",
    "    \n",
    "#Test0\n",
    "arr0 = [815, 604, 796, 800, 801, 800, 809, 792, 809, 75 ]\n",
    "RepeatedEvents(arr0)\n",
    "print(\"\\n\")\n",
    "\n",
    "#Test1\n",
    "arr1 = [620, 830, 804, 809, 758, 800, 819, 790, 828, 797, 756, 620, 815, 809, 800, 822 ]\n",
    "RepeatedEvents(arr1)\n",
    "print(\"\\n\")\n",
    "\n",
    "#Test2\n",
    "arr2 = [164, 164, 808, 816, 755, 785, 808, 755, 782, 809, 800, 792, 792, 782, 243, 800, 243 ]\n",
    "RepeatedEvents(arr2)"
   ]
  },
  {
   "cell_type": "code",
   "execution_count": null,
   "metadata": {},
   "outputs": [],
   "source": []
  },
  {
   "cell_type": "markdown",
   "metadata": {},
   "source": [
    "# EXERCICE 3"
   ]
  },
  {
   "cell_type": "code",
   "execution_count": 18,
   "metadata": {},
   "outputs": [],
   "source": [
    "def intersectiondumb(arr1, arr2):\n",
    "    if len(arr1) < len(arr2):\n",
    "        smallarr = arr1\n",
    "        bigarr = arr2\n",
    "    else:\n",
    "        smallarr = arr2\n",
    "        bigarr = arr1\n",
    "    \n",
    "    inter = []\n",
    "        \n",
    "    for element in smallarr:\n",
    "        if element in bigarr:\n",
    "            if element not in inter:\n",
    "                inter.append(element)\n",
    "                \n",
    "    return inter\n",
    "                \n",
    "            \n",
    "        "
   ]
  },
  {
   "cell_type": "code",
   "execution_count": 19,
   "metadata": {},
   "outputs": [
    {
     "data": {
      "text/plain": [
       "[50, 58, 60]"
      ]
     },
     "execution_count": 19,
     "metadata": {},
     "output_type": "execute_result"
    }
   ],
   "source": [
    "arr1 = [2, 21, 46, 46, 46, 47, 48, 48, 50, 57, 58, 58, 59, 60, 64 ]\n",
    "arr2 = [14, 24, 35, 50, 58, 60, 62, 69, 69, 70, 74, 79, 79, 80, 80, 88 ]\n",
    "intersectiondumb(arr1,arr2)"
   ]
  },
  {
   "cell_type": "code",
   "execution_count": 71,
   "metadata": {},
   "outputs": [],
   "source": [
    "def intersection(arr1, arr2):\n",
    "    if len(arr1) < len(arr2):\n",
    "        smallarr = arr1\n",
    "        bigarr = arr2\n",
    "    else:\n",
    "        smallarr = arr2\n",
    "        bigarr = arr1\n",
    "    \n",
    "    inter = ()\n",
    "    last_element = \"not yet initialized\"\n",
    "    bigindex = 0\n",
    "    for element in smallarr:\n",
    "        if element == last_element:\n",
    "            continue\n",
    "        else:\n",
    "            last_element = element\n",
    "        #print(last_element)\n",
    "        while bigindex < len(bigarr)-1 and element != bigarr[bigindex]:\n",
    "            bigindex = bigindex + 1\n",
    "            #print(element, bigarr[bigindex], bigindex, len(bigarr))\n",
    "        #print(element, bigarr[bigindex], bigindex, len(bigarr))\n",
    "        if bigindex == len(bigarr)-1:\n",
    "            bigindex = 0\n",
    "        elif element == bigarr[bigindex]:\n",
    "            inter = inter + tuple([element])\n",
    "            print(element)\n",
    "    return inter\n",
    "        "
   ]
  },
  {
   "cell_type": "code",
   "execution_count": 72,
   "metadata": {},
   "outputs": [
    {
     "name": "stdout",
     "output_type": "stream",
     "text": [
      "50\n",
      "58\n",
      "60\n"
     ]
    },
    {
     "data": {
      "text/plain": [
       "(50, 58, 60)"
      ]
     },
     "execution_count": 72,
     "metadata": {},
     "output_type": "execute_result"
    }
   ],
   "source": [
    "arr1 = [2, 21, 46, 46, 46, 47, 48, 48, 50, 57, 58, 58, 59, 60, 64 ]\n",
    "arr2 = [14, 24, 35, 50, 58, 60, 62, 69, 69, 70, 74, 79, 79, 80, 80, 88 ]\n",
    "intersection(arr1,arr2)"
   ]
  },
  {
   "cell_type": "code",
   "execution_count": null,
   "metadata": {},
   "outputs": [],
   "source": []
  },
  {
   "cell_type": "markdown",
   "metadata": {},
   "source": [
    "# EXERCICE 4"
   ]
  },
  {
   "cell_type": "code",
   "execution_count": 73,
   "metadata": {},
   "outputs": [],
   "source": [
    "def PriorityQueue(people, grades):\n",
    "    \n",
    "    biggest_index = 0\n",
    "    \n",
    "    for i in range(1, len(people)):\n",
    "        if grades[i] > grades[biggest_index]:\n",
    "            biggest_index = i\n",
    "    \n",
    "    print(people[biggest_index], grades[biggest_index])\n",
    "    "
   ]
  },
  {
   "cell_type": "code",
   "execution_count": null,
   "metadata": {},
   "outputs": [],
   "source": [
    "Pedro 3\n",
    "Jorge 5 \n",
    "Javier 10 \n",
    "Luis 7 \n",
    "María 10 \n",
    "Laura 8\n",
    "\n",
    "list(map(int,))"
   ]
  }
 ],
 "metadata": {
  "kernelspec": {
   "display_name": "Python 3",
   "language": "python",
   "name": "python3"
  },
  "language_info": {
   "codemirror_mode": {
    "name": "ipython",
    "version": 3
   },
   "file_extension": ".py",
   "mimetype": "text/x-python",
   "name": "python",
   "nbconvert_exporter": "python",
   "pygments_lexer": "ipython3",
   "version": "3.8.5"
  }
 },
 "nbformat": 4,
 "nbformat_minor": 4
}
