{
 "cells": [
  {
   "cell_type": "code",
   "execution_count": 3,
   "metadata": {},
   "outputs": [],
   "source": [
    "import networkx as nx\n",
    "import matplotlib.pyplot as plt"
   ]
  },
  {
   "cell_type": "code",
   "execution_count": 4,
   "metadata": {},
   "outputs": [],
   "source": [
    "def getNum(letter):\n",
    "    return ord(letter) - ord(\"A\")\n",
    "\n",
    "def getLetter(num):\n",
    "    return chr(num + ord(\"A\"))\n",
    "\n",
    "def AdjacencyMatrix(V, edges):\n",
    "    graph = [[False]*V for _ in range(V) ]\n",
    "\n",
    "    for edge in edges:\n",
    "        X,Y = (edge)\n",
    "        i, j = getNum(X),getNum(Y)\n",
    "\n",
    "        graph[i][j] = True\n",
    "        graph[j][i] = True\n",
    "    return graph\n",
    "\n",
    "def drawgraph(V, edges):\n",
    "    G = nx.Graph()\n",
    "    G.add_nodes_from([getLetter(num) for num in range(V)])\n",
    "    G.add_edges_from(edges)\n",
    "    nx.draw(G, with_labels=True)"
   ]
  },
  {
   "cell_type": "code",
   "execution_count": 62,
   "metadata": {},
   "outputs": [],
   "source": [
    "def DFS_DirectPath0(graph, start, end):\n",
    "    stack=[getNum(start)]\n",
    "    size = len(graph)\n",
    "    path = []\n",
    "    visited = [False]*size\n",
    "    while stack:\n",
    "        node = stack.pop()\n",
    "        if getLetter(node)  == end:\n",
    "            path.append(getLetter(node))\n",
    "            print(end)\n",
    "            return path\n",
    "        neighbors = []\n",
    "        if not visited[node]:\n",
    "            visited[node] = True\n",
    "            path.append(getLetter(node))\n",
    "            print(getLetter(node))\n",
    "            for i in range(size):\n",
    "                if graph[node][i] == True  and not visited[i]:\n",
    "                    stack.append(i)\n",
    "                    neighbors.append(getLetter(i))\n",
    "        if not neighbors:\n",
    "            print(\"DEAD END\")\n",
    "            path.pop()\n",
    "        \n",
    "    return path"
   ]
  },
  {
   "cell_type": "code",
   "execution_count": 80,
   "metadata": {},
   "outputs": [],
   "source": [
    "def DFS_DirectPath1(graph, start, end):\n",
    "    stack=[getNum(start)]\n",
    "    size = len(graph)\n",
    "    path = []\n",
    "    visited = [False]*size\n",
    "    while stack:\n",
    "        print(\"stack : \", stack)\n",
    "        print(\"path : \", path)\n",
    "        node = stack.pop()\n",
    "        if getLetter(node)  == end:\n",
    "            path.append(getLetter(node))\n",
    "            print(\"end : \", end)\n",
    "            return path\n",
    "        neighbors = []\n",
    "        if not visited[node]:\n",
    "            visited[node] = True\n",
    "            path.append(getLetter(node))\n",
    "            print(\"unvisited node : \", getLetter(node))\n",
    "            for i in range(size):\n",
    "                if graph[node][i] == True  and not visited[i]:\n",
    "                    stack.append(i)\n",
    "                    neighbors.append(getLetter(i))\n",
    "        print(\"neighbors : \", neighbors)\n",
    "        \n",
    "        if neighbors:\n",
    "            lastgroup = [node] + neighbors\n",
    "        else:\n",
    "            print(\"DEAD END\")\n",
    "            path.pop()\n",
    "            for n in neighbors:\n",
    "                stack.pop()\n",
    "            #stack.append(getNum(path[-1]))\n",
    "        \n",
    "    return path"
   ]
  },
  {
   "cell_type": "code",
   "execution_count": 167,
   "metadata": {},
   "outputs": [],
   "source": [
    "def DFS_DirectPath(graph, start, end):\n",
    "    size = len(graph)\n",
    "    visited = [False]*size\n",
    "    stack = [getNum(start)]\n",
    "    path = []\n",
    "\n",
    "    while stack:\n",
    "        current = stack.pop()\n",
    "\n",
    "        if getLetter(current) == end:\n",
    "            path.append(getLetter(current))\n",
    "            word = \"\"\n",
    "            for letter in path:\n",
    "                word = word + letter\n",
    "            print(word)\n",
    "            return\n",
    "\n",
    "        if visited[current]:\n",
    "            if getLetter(current)==path[-1]:\n",
    "                path.pop()\n",
    "            continue\n",
    "        else:\n",
    "            visited[current] = True\n",
    "            path.append(getLetter(current))\n",
    "        \n",
    "        new = False\n",
    "        stack.append(current)\n",
    "        for i in range(size):\n",
    "            if graph[current][i] == True  and not visited[i]:\n",
    "                new = True\n",
    "                stack.append(i)\n",
    "\n",
    "        if not new:\n",
    "            path.pop()\n",
    "    return\n",
    "\n",
    "        \n"
   ]
  },
  {
   "cell_type": "code",
   "execution_count": 168,
   "metadata": {},
   "outputs": [
    {
     "name": "stdout",
     "output_type": "stream",
     "text": [
      "BDC\n"
     ]
    }
   ],
   "source": [
    "V = 11\n",
    "edges = [('A', 'F'), ('B', 'D'), ('C', 'D'), ('D', 'F'), ('E', 'F'), ('E', 'G'), ('F', 'G')]\n",
    "graph = AdjacencyMatrix(V, edges)\n",
    "start = 'B'\n",
    "end = 'C'\n",
    "\n",
    "DFS_DirectPath(graph, start, end)"
   ]
  },
  {
   "cell_type": "code",
   "execution_count": 125,
   "metadata": {},
   "outputs": [
    {
     "data": {
      "image/png": "[encoded data removed]",
      "text/plain": [
       "<Figure size 432x288 with 1 Axes>"
      ]
     },
     "metadata": {},
     "output_type": "display_data"
    }
   ],
   "source": [
    "V = 11\n",
    "edges = [('A', 'F'), ('B', 'D'), ('C', 'D'), ('D', 'F'), ('E', 'F'), ('E', 'G'), ('F', 'G')]\n",
    "graph = AdjacencyMatrix(V, edges)\n",
    "drawgraph(V, edges)\n",
    "start = 'B'\n",
    "end = 'C'\n",
    "\n",
    "\n"
   ]
  },
  {
   "cell_type": "code",
   "execution_count": null,
   "metadata": {},
   "outputs": [],
   "source": []
  }
 ],
 "metadata": {
  "kernelspec": {
   "display_name": "base",
   "language": "python",
   "name": "python3"
  },
  "language_info": {
   "codemirror_mode": {
    "name": "ipython",
    "version": 3
   },
   "file_extension": ".py",
   "mimetype": "text/x-python",
   "name": "python",
   "nbconvert_exporter": "python",
   "pygments_lexer": "ipython3",
   "version": "3.8.5"
  }
 },
 "nbformat": 4,
 "nbformat_minor": 2
}
