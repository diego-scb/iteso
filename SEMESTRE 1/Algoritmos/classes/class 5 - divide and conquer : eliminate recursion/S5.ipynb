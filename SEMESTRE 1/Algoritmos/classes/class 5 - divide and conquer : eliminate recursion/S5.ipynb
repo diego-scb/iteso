{
 "cells": [
  {
   "cell_type": "markdown",
   "metadata": {},
   "source": [
    "# Eliminating recursion"
   ]
  },
  {
   "cell_type": "markdown",
   "metadata": {},
   "source": [
    "## General Form 1\n",
    "\n",
    "\n",
    "type *recursive-function*(search space, parameters)\n",
    "1. Can recursion terminate with success or failure? Return a value or exit.\n",
    "2. Operations with the search space (if applicable).\n",
    "3. Modification of parameters (for each possible case).\n",
    "4. Call *recursive-function*(search space, new parameters)\n",
    "\n",
    "type *iterative-function*(search space, parameters)\n",
    "- Repeat while step 1 is false (while it's not a success or failure):\n",
    "    \n",
    "    1. Can I terminate with success or failure?\n",
    "    2. Operations with the search space (if applicable).\n",
    "    3. Modification of parameters (for each possible case)\n"
   ]
  },
  {
   "cell_type": "markdown",
   "metadata": {},
   "source": [
    "## Binary Search"
   ]
  },
  {
   "cell_type": "code",
   "execution_count": 1,
   "metadata": {},
   "outputs": [],
   "source": [
    "def _binarySearch(arr, val, minV, maxV):\n",
    "    mid= (maxV-minV)//2+minV\n",
    "    \n",
    "    if minV > maxV:\n",
    "        return -1\n",
    "    \n",
    "    if val==arr[mid]:\n",
    "        return mid\n",
    "    \n",
    "    if val<arr[mid]:\n",
    "        return _binarySearch(arr,val,minV, mid-1)\n",
    "    else:\n",
    "        return _binarySearch(arr,val,mid+1, maxV)\n",
    "    \n",
    "\n",
    "def binarySearch(arr, val):\n",
    "    return _binarySearch(arr, val, 0, len(arr)-1)"
   ]
  },
  {
   "cell_type": "code",
   "execution_count": 10,
   "metadata": {},
   "outputs": [
    {
     "name": "stdout",
     "output_type": "stream",
     "text": [
      "0 -1\n",
      "1 0\n",
      "2 -1\n",
      "3 1\n",
      "4 -1\n",
      "5 2\n",
      "6 -1\n",
      "7 3\n",
      "8 -1\n",
      "9 4\n",
      "10 -1\n",
      "11 5\n",
      "12 -1\n",
      "13 6\n",
      "14 -1\n",
      "15 7\n",
      "16 -1\n",
      "17 8\n",
      "18 -1\n",
      "19 9\n",
      "20 -1\n"
     ]
    }
   ],
   "source": [
    "def iterativeBinarySearch(arr, val):\n",
    "    minV = 0\n",
    "    maxV = len(arr)-1\n",
    "    \n",
    "    while minV <= maxV:\n",
    "       \n",
    "        mid= (maxV-minV)//2+minV\n",
    "        \n",
    "        if val == arr[mid]:\n",
    "            return mid\n",
    "        \n",
    "        if val < arr[mid]:\n",
    "            maxV = mid-1\n",
    "        else:\n",
    "            minV = mid+1\n",
    "    return -1\n",
    "\n",
    "\n",
    "arr = [*range(1,20,2)]\n",
    "for i in range(0, 21):\n",
    "    print(i, iterativeBinarySearch(arr,i))\n"
   ]
  },
  {
   "cell_type": "code",
   "execution_count": 7,
   "metadata": {},
   "outputs": [
    {
     "data": {
      "text/plain": [
       "[1, 3, 5, 7, 9, 11, 13, 15, 17, 19]"
      ]
     },
     "execution_count": 7,
     "metadata": {},
     "output_type": "execute_result"
    }
   ],
   "source": [
    "[*range(1,20,2)]"
   ]
  },
  {
   "cell_type": "markdown",
   "metadata": {},
   "source": [
    "## MergeSort Iterative "
   ]
  },
  {
   "cell_type": "code",
   "execution_count": 11,
   "metadata": {},
   "outputs": [],
   "source": [
    "def merge(array, left1, right1, left2, right2):\n",
    "    count = right1 - left1 + right2 - left2 + 2\n",
    "    tmpArray = []\n",
    "    a1 = left1\n",
    "    a2 = left2\n",
    " \n",
    "    for i in range (count): \n",
    "        if(a2 > right2): \n",
    "            tmpArray.append(array[a1])\n",
    "            a1+=1\n",
    "        elif(a1 > right1):\n",
    "            tmpArray.append(array[a2])\n",
    "            a2+=1\n",
    "        elif(array[a1] < array[a2]):\n",
    "            tmpArray.append(array[a1])\n",
    "            a1+=1\n",
    "        else: \n",
    "            tmpArray.append(array[a2])\n",
    "            a2+=1\n",
    " \n",
    "    for i in range (count):\n",
    "        array[left1+i]=tmpArray[i]"
   ]
  },
  {
   "cell_type": "code",
   "execution_count": 13,
   "metadata": {},
   "outputs": [
    {
     "name": "stdout",
     "output_type": "stream",
     "text": [
      "[(0, 4, False)]\n",
      "[(0, 4, True), (3, 4, False), (0, 2, False)]\n",
      "[(0, 4, True), (3, 4, False), (0, 2, True), (2, 2, False), (0, 1, False)]\n",
      "[(0, 4, True), (3, 4, False), (0, 2, True), (2, 2, False), (0, 1, True), (1, 1, False), (0, 0, False)]\n",
      "[(0, 4, True), (3, 4, False), (0, 2, True), (2, 2, False), (0, 1, True), (1, 1, False)]\n",
      "[(0, 4, True), (3, 4, False), (0, 2, True), (2, 2, False), (0, 1, True)]\n",
      "merge [5, 10, 18, 6, 3]\n",
      "[(0, 4, True), (3, 4, False), (0, 2, True), (2, 2, False)]\n",
      "[(0, 4, True), (3, 4, False), (0, 2, True)]\n",
      "merge [5, 10, 18, 6, 3]\n",
      "[(0, 4, True), (3, 4, False)]\n",
      "[(0, 4, True), (3, 4, True), (4, 4, False), (3, 3, False)]\n",
      "[(0, 4, True), (3, 4, True), (4, 4, False)]\n",
      "[(0, 4, True), (3, 4, True)]\n",
      "merge [5, 10, 18, 3, 6]\n",
      "[(0, 4, True)]\n",
      "merge [3, 5, 6, 10, 18]\n"
     ]
    }
   ],
   "source": [
    "def mergeSortIterative(array, verbose=True):\n",
    "    stack = [(0,len(array)-1, False)]\n",
    "   \n",
    "    while stack:\n",
    "        if verbose:\n",
    "            print(stack)\n",
    "        left, right, visited = stack.pop()\n",
    "        if left == right:\n",
    "            continue\n",
    "        \n",
    "        mid = left + (right-left)//2\n",
    "        if not visited:\n",
    "            stack.append((left, right, True))\n",
    "            stack.append((mid+1,right, False))\n",
    "            stack.append((left,mid, False))\n",
    "        else:\n",
    "            merge(array, left, mid, mid+1, right  )\n",
    "            if verbose:\n",
    "                print(\"merge\", array)\n",
    "            \n",
    "arr = [10,5, 18,6,3]\n",
    "\n",
    "mergeSortIterative(arr)"
   ]
  },
  {
   "cell_type": "markdown",
   "metadata": {},
   "source": [
    "## Binary Trees"
   ]
  },
  {
   "cell_type": "code",
   "execution_count": 4,
   "metadata": {},
   "outputs": [
    {
     "name": "stdout",
     "output_type": "stream",
     "text": [
      " 3-0\n",
      "\t 2-1\n",
      "\t\t 1-3\n",
      "\t\t\t 0-6\n",
      "\t\t\t\t -\n",
      "\t\t\t\t -\n",
      "\t\t\t -\n",
      "\t\t -\n",
      "\t 6-2\n",
      "\t\t 5-4\n",
      "\t\t\t 4-7\n",
      "\t\t\t\t -\n",
      "\t\t\t\t -\n",
      "\t\t\t -\n",
      "\t\t 8-5\n",
      "\t\t\t 7-8\n",
      "\t\t\t\t -\n",
      "\t\t\t\t -\n",
      "\t\t\t 9-9\n",
      "\t\t\t\t -\n",
      "\t\t\t\t -\n",
      "\n",
      "           _3-0_________\n",
      "          /             \\\n",
      "       _2-1            _6-2_____\n",
      "      /               /         \\\n",
      "   _1-3            _5-4        _8-5_\n",
      "  /               /           /     \\\n",
      "0-6             4-7         7-8     9-9\n",
      "\n"
     ]
    }
   ],
   "source": [
    "import binarytree as bt ## show as tree\n",
    "\n",
    "class Node:\n",
    "    def __init__(self, value, index):\n",
    "        self.value= value\n",
    "        self.index = index\n",
    "        self.left = None\n",
    "        self.right = None\n",
    "    \n",
    "\n",
    "def listToBT(array):\n",
    "    root = Node(arr[0],0)\n",
    "    for i in range(1, len(array)):\n",
    "        current = root\n",
    "        newNode = Node(arr[i],i)\n",
    "        while True:\n",
    "            if newNode.value == current.value:\n",
    "                break\n",
    "            if current.value>newNode.value:\n",
    "                if current.left is not None:\n",
    "                    current = current.left\n",
    "                else:\n",
    "                    current.left = newNode\n",
    "                    break\n",
    "            else:\n",
    "                if current.right is not None:\n",
    "                    current = current.right\n",
    "                else:\n",
    "                    current.right = newNode\n",
    "                    break       \n",
    "    return root          \n",
    "\n",
    "\n",
    "def printBT(node:Node, spaces=\"\", btn: bt.Node = None):\n",
    "    if node is None:\n",
    "        print(spaces, \"-\")\n",
    "        return\n",
    "    \n",
    "    ##optional \n",
    "    if node.left is not None :\n",
    "        btn.left = bt.Node(\"{}-{}\".format(node.left.value,node.left.index))\n",
    "    if node.right is not None:\n",
    "        btn.right= bt.Node(\"{}-{}\".format(node.right.value,node.right.index))\n",
    "    \n",
    "    print(spaces,\"{}-{}\".format(node.value, node.index))\n",
    "    printBT(node.left, spaces+\"\\t\", btn.left)\n",
    "    printBT(node.right, spaces+\"\\t\", btn.right)\n",
    "    \n",
    "\n",
    "arr=[3,2,6,1,5,8,0,4,7,9]\n",
    "root= listToBT(arr)   \n",
    "br = bt.Node(str(arr[0])+\"-0\")\n",
    "printBT(root,\"\",br)\n",
    "print(br)\n",
    "    "
   ]
  },
  {
   "cell_type": "code",
   "execution_count": null,
   "metadata": {},
   "outputs": [],
   "source": []
  }
 ],
 "metadata": {
  "kernelspec": {
   "display_name": "base",
   "language": "python",
   "name": "python3"
  },
  "language_info": {
   "codemirror_mode": {
    "name": "ipython",
    "version": 3
   },
   "file_extension": ".py",
   "mimetype": "text/x-python",
   "name": "python",
   "nbconvert_exporter": "python",
   "pygments_lexer": "ipython3",
   "version": "3.9.12"
  },
  "orig_nbformat": 4
 },
 "nbformat": 4,
 "nbformat_minor": 2
}
