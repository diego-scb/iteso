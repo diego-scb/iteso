{
 "cells": [
  {
   "cell_type": "markdown",
   "metadata": {},
   "source": [
    "# DST"
   ]
  },
  {
   "cell_type": "code",
   "execution_count": 5,
   "metadata": {},
   "outputs": [
    {
     "data": {
      "text/plain": [
       "1"
      ]
     },
     "execution_count": 5,
     "metadata": {},
     "output_type": "execute_result"
    }
   ],
   "source": [
    "def getBit(value, position):\n",
    "    return value>>position & 0x01\n",
    "\n",
    "getBit(5,0) "
   ]
  },
  {
   "cell_type": "code",
   "execution_count": 6,
   "metadata": {},
   "outputs": [],
   "source": [
    "class DNode:\n",
    "    def __init__(self, value, index):\n",
    "        self.value = value\n",
    "        self.index = index\n",
    "        self.left = None\n",
    "        self.right = None\n",
    "\n",
    "def createDST(arr):\n",
    "    root = DNode(arr[0],0)\n",
    "    for i in range(1,len(arr)):\n",
    "        newNode = DNode(arr[i],i)\n",
    "        curr = root\n",
    "        level = 0\n",
    "        while True:\n",
    "            if curr.value == arr[i]:\n",
    "                break\n",
    "            bit = getBit(arr[i],level)\n",
    "            if bit == 0:\n",
    "                if curr.left is None:\n",
    "                    curr.left = newNode\n",
    "                    break\n",
    "                else:\n",
    "                    curr = curr.left\n",
    "            else:\n",
    "                if curr.right is None:\n",
    "                    curr.right = newNode\n",
    "                    break\n",
    "                else:\n",
    "                    curr = curr.right \n",
    "            level+=1\n",
    "    return root       "
   ]
  },
  {
   "cell_type": "code",
   "execution_count": 10,
   "metadata": {},
   "outputs": [
    {
     "name": "stdout",
     "output_type": "stream",
     "text": [
      "0-0\n",
      "  2-2\n",
      "    4-4\n",
      "      8-8\n",
      "        -\n",
      "        -\n",
      "      12-12\n",
      "        -\n",
      "        -\n",
      "    6-6\n",
      "      10-10\n",
      "        -\n",
      "        -\n",
      "      14-14\n",
      "        -\n",
      "        -\n",
      "  1-1\n",
      "    5-5\n",
      "      9-9\n",
      "        -\n",
      "        -\n",
      "      13-13\n",
      "        -\n",
      "        -\n",
      "    3-3\n",
      "      11-11\n",
      "        -\n",
      "        -\n",
      "      7-7\n",
      "        -\n",
      "        15-15\n",
      "          -\n",
      "          -\n"
     ]
    }
   ],
   "source": [
    "def printDST(node:DNode, spaces=\"\"):\n",
    "    if node is None:\n",
    "        print(spaces+\"-\")\n",
    "        return\n",
    "    \n",
    "    print(\"{}{}-{}\".format(spaces,node.value,node.index))\n",
    "    printDST(node.left, spaces+\"  \")\n",
    "    printDST(node.right, spaces+\"  \")\n",
    "\n",
    "\n",
    "arr = [*range(16)]  \n",
    "root = createDST(arr)\n",
    "printDST(root)"
   ]
  },
  {
   "cell_type": "code",
   "execution_count": 13,
   "metadata": {},
   "outputs": [
    {
     "name": "stdout",
     "output_type": "stream",
     "text": [
      "-1\n",
      "-1\n",
      "-1\n",
      "-1\n",
      "-1\n",
      "0\n",
      "1\n",
      "2\n",
      "3\n",
      "4\n",
      "5\n",
      "6\n",
      "7\n",
      "8\n",
      "9\n",
      "10\n",
      "11\n",
      "12\n",
      "13\n",
      "14\n",
      "15\n",
      "-1\n"
     ]
    }
   ],
   "source": [
    "def searchDST(node, value, level=0):\n",
    "    if node is None:\n",
    "        return -1\n",
    "    \n",
    "    if node.value == value:\n",
    "        return node.index\n",
    "    \n",
    "    bit = getBit(value, level)\n",
    "    if bit ==0:\n",
    "        return searchDST(node.left, value, level+1)\n",
    "    else:\n",
    "        return searchDST(node.right, value, level+1)\n",
    "\n",
    "\n",
    "for i in range(-5, 17):\n",
    "    print(searchDST(root,i))"
   ]
  }
 ],
 "metadata": {
  "kernelspec": {
   "display_name": "base",
   "language": "python",
   "name": "python3"
  },
  "language_info": {
   "codemirror_mode": {
    "name": "ipython",
    "version": 3
   },
   "file_extension": ".py",
   "mimetype": "text/x-python",
   "name": "python",
   "nbconvert_exporter": "python",
   "pygments_lexer": "ipython3",
   "version": "3.9.12"
  },
  "orig_nbformat": 4
 },
 "nbformat": 4,
 "nbformat_minor": 2
}
