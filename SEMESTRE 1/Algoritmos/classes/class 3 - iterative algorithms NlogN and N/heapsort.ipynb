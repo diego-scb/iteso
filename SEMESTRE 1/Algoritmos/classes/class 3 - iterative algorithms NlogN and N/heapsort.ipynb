{
 "cells": [
  {
   "cell_type": "markdown",
   "metadata": {},
   "source": [
    "# HeapSort\n",
    "\n",
    "It consists of these main steps:\n",
    "\n",
    "1. Build the Heap\n",
    "2. Replace the largest element with the last one (repeat this n-1 times while decreasing the heap size)\n",
    "\n",
    "For the above steps, Heapify is used, which ensures that the parent is greater than its leaves.\n",
    "\n",
    "For a non-unitary subtree, it must be converted into a max_heap (find the largest child and swap it with the root) and with each swap, continue until the root becomes greater than its children."
   ]
  },
  {
   "cell_type": "code",
   "execution_count": 3,
   "metadata": {},
   "outputs": [
    {
     "name": "stdout",
     "output_type": "stream",
     "text": [
      "1, \u001b[94m2\u001b[0m, 3, \u001b[94m4\u001b[0m, 5\n"
     ]
    }
   ],
   "source": [
    "def printSwapColored(arr, pos1, pos2, color='blue'):  \n",
    "        colors= {'yellow':'93', 'green':'92', 'red':'31', 'blue':'94', 'pink':'95'}\n",
    "        valColor = colors[color]\n",
    "        coloredArr =arr.copy()\n",
    "        coloredArr[pos1]= \"\\x1b[\"+valColor+\"m\" + str(arr[pos1]) + \"\\x1b[0m\"\n",
    "        coloredArr[pos2]= \"\\x1b[\"+valColor+\"m\" + str(arr[pos2]) + \"\\x1b[0m\"\n",
    "        arrstr = ', '.join(str(value) for value in coloredArr)\n",
    "        print(arrstr)\n",
    "\n",
    "printSwapColored([1,2,3,4,5], 1, 3, 'blue')"
   ]
  },
  {
   "cell_type": "markdown",
   "metadata": {},
   "source": [
    "- 15 11 14 9 10 13 7 8 4 2 5 12 6 3 1\n",
    "-  1 11 14 9 10 13 7 8 4 2 5 12 6 3 | 15\n",
    "-  1 11 14 9 10 13 7 8 4 2 5 12 6 3 | 15\n",
    "- 14 11  1 9 10 13 7 8 4 2 5 12 6 3 | 15\n",
    "- 14 11 13 9 10  1 7 8 4 2 5 12 6 3 | 15\n",
    "- 14 11 13 9 10 12 7 8 4 2 5  1 6 3 | 15\n",
    "- 3  11 13 9 10 12 7 8 4 2 5  1 6 | 14 15\n",
    "- 13 11  3 9 10 12 7 8 4 2 5  1 6 | 14 15\n",
    "- 13 11 12 9 10  3 7 8 4 2 5  1 6 | 14 15\n",
    "- 13 11 12 9 10  6 7 8 4 2 5  1 3 | 14 15\n",
    "- 3  11 12 9 10  6 7 8 4 2 5  1 | 13 14 15\n",
    "- 12 11  3 9 10  6 7 8 4 2 5  1 | 13 14 15\n",
    "- 12 11  7 9 10  6 3 8 4 2 5  1 | 13 14 15\n",
    "  \n",
    "\n",
    "\n",
    "\n"
   ]
  },
  {
   "cell_type": "code",
   "execution_count": 4,
   "metadata": {},
   "outputs": [
    {
     "name": "stdout",
     "output_type": "stream",
     "text": [
      "x 0 maxC 2 value 3\n",
      "x 1 maxC 4 value 5\n",
      "x 2 maxC 2 value 3\n",
      "x 3 maxC 3 value 4\n",
      "x 4 maxC 4 value 5\n"
     ]
    }
   ],
   "source": [
    "# Find the index of the largest child of the root; if none, return the root.\n",
    "# Ensure that these indices are within the valid part of the heap (within the heapSize).\n",
    "\n",
    "def maxChild(arr, root, heapsize):\n",
    "    maxC = root\n",
    "    left_child = 2*root +1\n",
    "    right_child = 2*root +2\n",
    "    \n",
    "    if left_child < heapsize and arr[maxC] < arr[left_child]:\n",
    "        maxC = left_child\n",
    "    \n",
    "    if right_child < heapsize and arr[maxC] < arr[right_child]:\n",
    "        maxC = right_child\n",
    "    \n",
    "    return maxC\n",
    "\n",
    "arr=[1,2,3,4,5]\n",
    "for x in range(len(arr)):\n",
    "   mc=  maxChild(arr,x,len(arr))\n",
    "   print(\"x\",x, \"maxC\", mc, \"value\", arr[mc])"
   ]
  },
  {
   "cell_type": "code",
   "execution_count": 5,
   "metadata": {},
   "outputs": [
    {
     "name": "stdout",
     "output_type": "stream",
     "text": [
      "[1, 2, 3, 4, 5, 6, 7, 8, 9, 10, 11, 12, 13, 14, 15]\n",
      "1, 2, 3, 4, 5, 6, \u001b[94m15\u001b[0m, 8, 9, 10, 11, 12, 13, 14, \u001b[94m7\u001b[0m\n",
      "1, 2, 3, 4, 5, \u001b[94m13\u001b[0m, 15, 8, 9, 10, 11, 12, \u001b[94m6\u001b[0m, 14, 7\n",
      "1, 2, 3, 4, \u001b[94m11\u001b[0m, 13, 15, 8, 9, 10, \u001b[94m5\u001b[0m, 12, 6, 14, 7\n",
      "1, 2, 3, \u001b[94m9\u001b[0m, 11, 13, 15, 8, \u001b[94m4\u001b[0m, 10, 5, 12, 6, 14, 7\n",
      "1, 2, \u001b[94m15\u001b[0m, 9, 11, 13, \u001b[94m3\u001b[0m, 8, 4, 10, 5, 12, 6, 14, 7\n",
      "1, 2, 15, 9, 11, 13, \u001b[94m14\u001b[0m, 8, 4, 10, 5, 12, 6, \u001b[94m3\u001b[0m, 7\n",
      "1, \u001b[94m11\u001b[0m, 15, 9, \u001b[94m2\u001b[0m, 13, 14, 8, 4, 10, 5, 12, 6, 3, 7\n",
      "1, 11, 15, 9, \u001b[94m10\u001b[0m, 13, 14, 8, 4, \u001b[94m2\u001b[0m, 5, 12, 6, 3, 7\n",
      "\u001b[94m15\u001b[0m, 11, \u001b[94m1\u001b[0m, 9, 10, 13, 14, 8, 4, 2, 5, 12, 6, 3, 7\n",
      "15, 11, \u001b[94m14\u001b[0m, 9, 10, 13, \u001b[94m1\u001b[0m, 8, 4, 2, 5, 12, 6, 3, 7\n",
      "15, 11, 14, 9, 10, 13, \u001b[94m7\u001b[0m, 8, 4, 2, 5, 12, 6, 3, \u001b[94m1\u001b[0m\n"
     ]
    }
   ],
   "source": [
    "# If there is a larger child, it is swapped with the root (so that the root is greater than its children)\n",
    "# This is repeated for the lower subtrees\n",
    "\n",
    "def maxHeapify(arr, root, heapsize):\n",
    "    maxC = maxChild(arr, root, heapsize)\n",
    "    if maxC != root:\n",
    "        arr[maxC], arr[root] = arr[root], arr[maxC]\n",
    "        printSwapColored(arr, maxC, root, 'blue')\n",
    "        maxHeapify(arr,maxC,heapsize)\n",
    "\n",
    "# Given an array, convert it into a max-heap, where parent nodes are greater than their children.\n",
    "\n",
    "def buildHeap(arr):\n",
    "    for i in range(len(arr)//2, -1,-1):    #for( i = Math.floor(arr.length/2); i>-1; i--){}\n",
    "        maxHeapify(arr, i, len(arr))\n",
    "        \n",
    "\n",
    "arr =[x for x in range(1, 16)]\n",
    "print(arr)\n",
    "buildHeap(arr)"
   ]
  },
  {
   "cell_type": "code",
   "execution_count": 6,
   "metadata": {},
   "outputs": [
    {
     "name": "stdout",
     "output_type": "stream",
     "text": [
      "[1, 2, 3, 4, 5, 6, 7, 8, 9, 10, 11, 12, 13, 14, 15]\n",
      "1, 2, 3, 4, 5, 6, \u001b[94m15\u001b[0m, 8, 9, 10, 11, 12, 13, 14, \u001b[94m7\u001b[0m\n",
      "1, 2, 3, 4, 5, \u001b[94m13\u001b[0m, 15, 8, 9, 10, 11, 12, \u001b[94m6\u001b[0m, 14, 7\n",
      "1, 2, 3, 4, \u001b[94m11\u001b[0m, 13, 15, 8, 9, 10, \u001b[94m5\u001b[0m, 12, 6, 14, 7\n",
      "1, 2, 3, \u001b[94m9\u001b[0m, 11, 13, 15, 8, \u001b[94m4\u001b[0m, 10, 5, 12, 6, 14, 7\n",
      "1, 2, \u001b[94m15\u001b[0m, 9, 11, 13, \u001b[94m3\u001b[0m, 8, 4, 10, 5, 12, 6, 14, 7\n",
      "1, 2, 15, 9, 11, 13, \u001b[94m14\u001b[0m, 8, 4, 10, 5, 12, 6, \u001b[94m3\u001b[0m, 7\n",
      "1, \u001b[94m11\u001b[0m, 15, 9, \u001b[94m2\u001b[0m, 13, 14, 8, 4, 10, 5, 12, 6, 3, 7\n",
      "1, 11, 15, 9, \u001b[94m10\u001b[0m, 13, 14, 8, 4, \u001b[94m2\u001b[0m, 5, 12, 6, 3, 7\n",
      "\u001b[94m15\u001b[0m, 11, \u001b[94m1\u001b[0m, 9, 10, 13, 14, 8, 4, 2, 5, 12, 6, 3, 7\n",
      "15, 11, \u001b[94m14\u001b[0m, 9, 10, 13, \u001b[94m1\u001b[0m, 8, 4, 2, 5, 12, 6, 3, 7\n",
      "15, 11, 14, 9, 10, 13, \u001b[94m7\u001b[0m, 8, 4, 2, 5, 12, 6, 3, \u001b[94m1\u001b[0m\n",
      "+++++\n",
      "\u001b[31m1\u001b[0m, 11, 14, 9, 10, 13, 7, 8, 4, 2, 5, 12, 6, 3, \u001b[31m15\u001b[0m\n",
      "\u001b[94m14\u001b[0m, 11, \u001b[94m1\u001b[0m, 9, 10, 13, 7, 8, 4, 2, 5, 12, 6, 3, 15\n",
      "14, 11, \u001b[94m13\u001b[0m, 9, 10, \u001b[94m1\u001b[0m, 7, 8, 4, 2, 5, 12, 6, 3, 15\n",
      "14, 11, 13, 9, 10, \u001b[94m12\u001b[0m, 7, 8, 4, 2, 5, \u001b[94m1\u001b[0m, 6, 3, 15\n",
      "\u001b[31m3\u001b[0m, 11, 13, 9, 10, 12, 7, 8, 4, 2, 5, 1, 6, \u001b[31m14\u001b[0m, 15\n",
      "\u001b[94m13\u001b[0m, 11, \u001b[94m3\u001b[0m, 9, 10, 12, 7, 8, 4, 2, 5, 1, 6, 14, 15\n",
      "13, 11, \u001b[94m12\u001b[0m, 9, 10, \u001b[94m3\u001b[0m, 7, 8, 4, 2, 5, 1, 6, 14, 15\n",
      "13, 11, 12, 9, 10, \u001b[94m6\u001b[0m, 7, 8, 4, 2, 5, 1, \u001b[94m3\u001b[0m, 14, 15\n",
      "\u001b[31m3\u001b[0m, 11, 12, 9, 10, 6, 7, 8, 4, 2, 5, 1, \u001b[31m13\u001b[0m, 14, 15\n",
      "\u001b[94m12\u001b[0m, 11, \u001b[94m3\u001b[0m, 9, 10, 6, 7, 8, 4, 2, 5, 1, 13, 14, 15\n",
      "12, 11, \u001b[94m7\u001b[0m, 9, 10, 6, \u001b[94m3\u001b[0m, 8, 4, 2, 5, 1, 13, 14, 15\n",
      "\u001b[31m1\u001b[0m, 11, 7, 9, 10, 6, 3, 8, 4, 2, 5, \u001b[31m12\u001b[0m, 13, 14, 15\n",
      "\u001b[94m11\u001b[0m, \u001b[94m1\u001b[0m, 7, 9, 10, 6, 3, 8, 4, 2, 5, 12, 13, 14, 15\n",
      "11, \u001b[94m10\u001b[0m, 7, 9, \u001b[94m1\u001b[0m, 6, 3, 8, 4, 2, 5, 12, 13, 14, 15\n",
      "11, 10, 7, 9, \u001b[94m5\u001b[0m, 6, 3, 8, 4, 2, \u001b[94m1\u001b[0m, 12, 13, 14, 15\n",
      "\u001b[31m1\u001b[0m, 10, 7, 9, 5, 6, 3, 8, 4, 2, \u001b[31m11\u001b[0m, 12, 13, 14, 15\n",
      "\u001b[94m10\u001b[0m, \u001b[94m1\u001b[0m, 7, 9, 5, 6, 3, 8, 4, 2, 11, 12, 13, 14, 15\n",
      "10, \u001b[94m9\u001b[0m, 7, \u001b[94m1\u001b[0m, 5, 6, 3, 8, 4, 2, 11, 12, 13, 14, 15\n",
      "10, 9, 7, \u001b[94m8\u001b[0m, 5, 6, 3, \u001b[94m1\u001b[0m, 4, 2, 11, 12, 13, 14, 15\n",
      "\u001b[31m2\u001b[0m, 9, 7, 8, 5, 6, 3, 1, 4, \u001b[31m10\u001b[0m, 11, 12, 13, 14, 15\n",
      "\u001b[94m9\u001b[0m, \u001b[94m2\u001b[0m, 7, 8, 5, 6, 3, 1, 4, 10, 11, 12, 13, 14, 15\n",
      "9, \u001b[94m8\u001b[0m, 7, \u001b[94m2\u001b[0m, 5, 6, 3, 1, 4, 10, 11, 12, 13, 14, 15\n",
      "9, 8, 7, \u001b[94m4\u001b[0m, 5, 6, 3, 1, \u001b[94m2\u001b[0m, 10, 11, 12, 13, 14, 15\n",
      "\u001b[31m2\u001b[0m, 8, 7, 4, 5, 6, 3, 1, \u001b[31m9\u001b[0m, 10, 11, 12, 13, 14, 15\n",
      "\u001b[94m8\u001b[0m, \u001b[94m2\u001b[0m, 7, 4, 5, 6, 3, 1, 9, 10, 11, 12, 13, 14, 15\n",
      "8, \u001b[94m5\u001b[0m, 7, 4, \u001b[94m2\u001b[0m, 6, 3, 1, 9, 10, 11, 12, 13, 14, 15\n",
      "\u001b[31m1\u001b[0m, 5, 7, 4, 2, 6, 3, \u001b[31m8\u001b[0m, 9, 10, 11, 12, 13, 14, 15\n",
      "\u001b[94m7\u001b[0m, 5, \u001b[94m1\u001b[0m, 4, 2, 6, 3, 8, 9, 10, 11, 12, 13, 14, 15\n",
      "7, 5, \u001b[94m6\u001b[0m, 4, 2, \u001b[94m1\u001b[0m, 3, 8, 9, 10, 11, 12, 13, 14, 15\n",
      "\u001b[31m3\u001b[0m, 5, 6, 4, 2, 1, \u001b[31m7\u001b[0m, 8, 9, 10, 11, 12, 13, 14, 15\n",
      "\u001b[94m6\u001b[0m, 5, \u001b[94m3\u001b[0m, 4, 2, 1, 7, 8, 9, 10, 11, 12, 13, 14, 15\n",
      "\u001b[31m1\u001b[0m, 5, 3, 4, 2, \u001b[31m6\u001b[0m, 7, 8, 9, 10, 11, 12, 13, 14, 15\n",
      "\u001b[94m5\u001b[0m, \u001b[94m1\u001b[0m, 3, 4, 2, 6, 7, 8, 9, 10, 11, 12, 13, 14, 15\n",
      "5, \u001b[94m4\u001b[0m, 3, \u001b[94m1\u001b[0m, 2, 6, 7, 8, 9, 10, 11, 12, 13, 14, 15\n",
      "\u001b[31m2\u001b[0m, 4, 3, 1, \u001b[31m5\u001b[0m, 6, 7, 8, 9, 10, 11, 12, 13, 14, 15\n",
      "\u001b[94m4\u001b[0m, \u001b[94m2\u001b[0m, 3, 1, 5, 6, 7, 8, 9, 10, 11, 12, 13, 14, 15\n",
      "\u001b[31m1\u001b[0m, 2, 3, \u001b[31m4\u001b[0m, 5, 6, 7, 8, 9, 10, 11, 12, 13, 14, 15\n",
      "\u001b[94m3\u001b[0m, 2, \u001b[94m1\u001b[0m, 4, 5, 6, 7, 8, 9, 10, 11, 12, 13, 14, 15\n",
      "\u001b[31m1\u001b[0m, 2, \u001b[31m3\u001b[0m, 4, 5, 6, 7, 8, 9, 10, 11, 12, 13, 14, 15\n",
      "\u001b[94m2\u001b[0m, \u001b[94m1\u001b[0m, 3, 4, 5, 6, 7, 8, 9, 10, 11, 12, 13, 14, 15\n",
      "\u001b[31m1\u001b[0m, \u001b[31m2\u001b[0m, 3, 4, 5, 6, 7, 8, 9, 10, 11, 12, 13, 14, 15\n",
      "\u001b[31m1\u001b[0m, 2, 3, 4, 5, 6, 7, 8, 9, 10, 11, 12, 13, 14, 15\n"
     ]
    }
   ],
   "source": [
    "def heapSort(arr):\n",
    "    buildHeap(arr)\n",
    "    print(\"+++++\")\n",
    "    for heapSize in range(len(arr)-1,-1,-1):\n",
    "        arr[0],arr[heapSize]=arr[heapSize],arr[0]\n",
    "        printSwapColored(arr, 0, heapSize, 'red' )\n",
    "        maxHeapify(arr,0,heapSize)\n",
    "    \n",
    "arr =[x for x in range(1, 16)]\n",
    "print(arr)\n",
    "heapSort(arr)\n",
    "    "
   ]
  },
  {
   "cell_type": "markdown",
   "metadata": {},
   "source": [
    "# RadixSort\n",
    "\n",
    "The largest value is obtained, the number of digits is calculated, and the values are arranged in 10 lists based on the digit value, starting with the least significant digit."
   ]
  },
  {
   "cell_type": "code",
   "execution_count": 16,
   "metadata": {},
   "outputs": [],
   "source": [
    "import math\n",
    "def radixSort(array):\n",
    "    maxV =-1000000\n",
    "    for i in range(len(array)):\n",
    "        maxV= array[i] if array[i]> maxV else maxV\n",
    "    digitos = math.floor(math.log10(maxV)+1)\n",
    "    for i in range (digitos):\n",
    "        listas = [[] for x in range(10)] \n",
    "        for j in range(len(array)):\n",
    "            val=array[j]// 10**i % 10\n",
    "            listas[val].append(array[j])\n",
    "        \n",
    "        array=[]\n",
    "        for k in range (10):\n",
    "            array+=listas[k]\n",
    "        print(i, array)\n",
    "    return array"
   ]
  },
  {
   "cell_type": "code",
   "execution_count": 17,
   "metadata": {},
   "outputs": [
    {
     "name": "stdout",
     "output_type": "stream",
     "text": [
      "0 [-999, 132, 53, 33, 314, 434, 324, 215, 5]\n",
      "1 [-999, 5, 314, 215, 324, 132, 33, 434, 53]\n",
      "2 [-999, 5, 33, 53, 132, 215, 314, 324, 434]\n"
     ]
    },
    {
     "data": {
      "text/plain": [
       "[-999, 5, 33, 53, 132, 215, 314, 324, 434]"
      ]
     },
     "execution_count": 17,
     "metadata": {},
     "output_type": "execute_result"
    }
   ],
   "source": [
    "radixSort([215,-999,314,5,434,324,132,53,33])"
   ]
  },
  {
   "cell_type": "code",
   "execution_count": 18,
   "metadata": {},
   "outputs": [
    {
     "name": "stdout",
     "output_type": "stream",
     "text": [
      "0 [2950090, 3925632, 976842, 1122652, 5291943, 7211663, 7214844, 1036515, 8282665, 8119965, 282276, 7201276, 2128976, 6839766, 1244898, 3329058, 6995438, 8819858, 9748999, 865169]\n",
      "1 [1036515, 3925632, 6995438, 976842, 5291943, 7214844, 1122652, 3329058, 8819858, 7211663, 8282665, 8119965, 6839766, 865169, 282276, 7201276, 2128976, 2950090, 1244898, 9748999]\n",
      "2 [3329058, 2950090, 865169, 282276, 7201276, 6995438, 1036515, 3925632, 1122652, 7211663, 8282665, 6839766, 976842, 7214844, 8819858, 1244898, 5291943, 8119965, 2128976, 9748999]\n",
      "3 [2950090, 7201276, 7211663, 5291943, 282276, 1122652, 8282665, 7214844, 1244898, 865169, 6995438, 3925632, 1036515, 976842, 2128976, 9748999, 3329058, 6839766, 8819858, 8119965]\n",
      "4 [7201276, 7211663, 7214844, 8819858, 8119965, 1122652, 3925632, 2128976, 3329058, 1036515, 6839766, 1244898, 9748999, 2950090, 865169, 976842, 282276, 8282665, 5291943, 6995438]\n",
      "5 [1036515, 8119965, 1122652, 2128976, 7201276, 7211663, 7214844, 1244898, 282276, 8282665, 5291943, 3329058, 9748999, 8819858, 6839766, 865169, 3925632, 2950090, 976842, 6995438]\n",
      "6 [282276, 865169, 976842, 1036515, 1122652, 1244898, 2128976, 2950090, 3329058, 3925632, 5291943, 6839766, 6995438, 7201276, 7211663, 7214844, 8119965, 8282665, 8819858, 9748999]\n"
     ]
    }
   ],
   "source": [
    "import random as r\n",
    "r.seed(165)\n",
    "arr = [r.randint(0, 9999999) for x in range(20)]\n",
    "resp =radixSort(arr)"
   ]
  }
 ],
 "metadata": {
  "kernelspec": {
   "display_name": "base",
   "language": "python",
   "name": "python3"
  },
  "language_info": {
   "codemirror_mode": {
    "name": "ipython",
    "version": 3
   },
   "file_extension": ".py",
   "mimetype": "text/x-python",
   "name": "python",
   "nbconvert_exporter": "python",
   "pygments_lexer": "ipython3",
   "version": "3.9.12"
  },
  "orig_nbformat": 4
 },
 "nbformat": 4,
 "nbformat_minor": 2
}
