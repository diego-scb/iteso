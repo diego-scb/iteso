{
 "cells": [
  {
   "cell_type": "markdown",
   "metadata": {},
   "source": [
    "# Binary Trees"
   ]
  },
  {
   "cell_type": "code",
   "execution_count": 1,
   "metadata": {},
   "outputs": [
    {
     "name": "stdout",
     "output_type": "stream",
     "text": [
      " 3-0\n",
      "\t 2-1\n",
      "\t\t 1-3\n",
      "\t\t\t 0-6\n",
      "\t\t\t\t -\n",
      "\t\t\t\t -\n",
      "\t\t\t -\n",
      "\t\t -\n",
      "\t 6-2\n",
      "\t\t 5-4\n",
      "\t\t\t 4-7\n",
      "\t\t\t\t -\n",
      "\t\t\t\t -\n",
      "\t\t\t -\n",
      "\t\t 8-5\n",
      "\t\t\t 7-8\n",
      "\t\t\t\t -\n",
      "\t\t\t\t -\n",
      "\t\t\t 9-9\n",
      "\t\t\t\t -\n",
      "\t\t\t\t -\n",
      "\n",
      "           _3-0_________\n",
      "          /             \\\n",
      "       _2-1            _6-2_____\n",
      "      /               /         \\\n",
      "   _1-3            _5-4        _8-5_\n",
      "  /               /           /     \\\n",
      "0-6             4-7         7-8     9-9\n",
      "\n"
     ]
    }
   ],
   "source": [
    "import binarytree as bt ## show as tree\n",
    "\n",
    "class Node:\n",
    "    def __init__(self, value, index):\n",
    "        self.value= value\n",
    "        self.index = index\n",
    "        self.left = None\n",
    "        self.right = None\n",
    "    \n",
    "\n",
    "def listToBT(array):\n",
    "    root = Node(arr[0],0)\n",
    "    for i in range(1, len(array)):\n",
    "        current = root\n",
    "        newNode = Node(arr[i],i)\n",
    "        while True:\n",
    "            if newNode.value == current.value:\n",
    "                break\n",
    "            if current.value>newNode.value:\n",
    "                if current.left is not None:\n",
    "                    current = current.left\n",
    "                else:\n",
    "                    current.left = newNode\n",
    "                    break\n",
    "            else:\n",
    "                if current.right is not None:\n",
    "                    current = current.right\n",
    "                else:\n",
    "                    current.right = newNode\n",
    "                    break       \n",
    "    return root          \n",
    "\n",
    "\n",
    "def printBT(node:Node, spaces=\"\", btn: bt.Node = None):\n",
    "    if node is None:\n",
    "        print(spaces, \"-\")\n",
    "        return\n",
    "    \n",
    "    ##optional \n",
    "    if node.left is not None :\n",
    "        btn.left = bt.Node(\"{}-{}\".format(node.left.value,node.left.index))\n",
    "    if node.right is not None:\n",
    "        btn.right= bt.Node(\"{}-{}\".format(node.right.value,node.right.index))\n",
    "    \n",
    "    print(spaces,\"{}-{}\".format(node.value, node.index))\n",
    "    printBT(node.left, spaces+\"\\t\", btn.left)\n",
    "    printBT(node.right, spaces+\"\\t\", btn.right)\n",
    "    \n",
    "\n",
    "arr=[3,2,6,1,5,8,0,4,7,9]\n",
    "root= listToBT(arr)   \n",
    "br = bt.Node(str(arr[0])+\"-0\")\n",
    "printBT(root,\"\",br)\n",
    "print(br)"
   ]
  },
  {
   "cell_type": "markdown",
   "metadata": {},
   "source": [
    "## Search on a Binary Tree"
   ]
  },
  {
   "cell_type": "code",
   "execution_count": 2,
   "metadata": {},
   "outputs": [
    {
     "data": {
      "text/plain": [
       "7"
      ]
     },
     "execution_count": 2,
     "metadata": {},
     "output_type": "execute_result"
    }
   ],
   "source": [
    "def binaryTreeSearch(node: Node, value):\n",
    "    if node is None:\n",
    "        return -1\n",
    "    if node.value == value:\n",
    "        return node.index\n",
    "    \n",
    "    if value < node.value:\n",
    "        return binaryTreeSearch(node.left, value)\n",
    "    else:\n",
    "        return binaryTreeSearch(node.right, value)\n",
    "    \n",
    "\n",
    "binaryTreeSearch(root,4)"
   ]
  }
 ],
 "metadata": {
  "kernelspec": {
   "display_name": "base",
   "language": "python",
   "name": "python3"
  },
  "language_info": {
   "codemirror_mode": {
    "name": "ipython",
    "version": 3
   },
   "file_extension": ".py",
   "mimetype": "text/x-python",
   "name": "python",
   "nbconvert_exporter": "python",
   "pygments_lexer": "ipython3",
   "version": "3.9.12"
  },
  "orig_nbformat": 4
 },
 "nbformat": 4,
 "nbformat_minor": 2
}
