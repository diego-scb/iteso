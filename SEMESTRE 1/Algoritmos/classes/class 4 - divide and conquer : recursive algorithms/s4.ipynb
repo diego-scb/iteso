{
 "cells": [
  {
   "cell_type": "markdown",
   "metadata": {},
   "source": [
    "## Binary Search\n",
    "\n",
    "In a sorted array, search for an element in logarithmic time. To do this, compare it with the value in the middle of the list, and if it's not the desired value, search in the left or right half depending on whether the desired value is smaller or larger, respectively."
   ]
  },
  {
   "cell_type": "code",
   "execution_count": 4,
   "metadata": {},
   "outputs": [
    {
     "name": "stdout",
     "output_type": "stream",
     "text": [
      "0 23 0\n",
      "1 45 1\n",
      "2 56 2\n",
      "3 78 3\n",
      "4 89 4\n",
      "5 97 5\n",
      "6 99 6\n",
      "48 -1\n"
     ]
    }
   ],
   "source": [
    "def _binarySearch(arr, val, minV, maxV):\n",
    "    mid= (maxV-minV)//2+minV\n",
    "    \n",
    "    if minV > maxV:\n",
    "        return -1\n",
    "    \n",
    "    if val==arr[mid]:\n",
    "        return mid\n",
    "    \n",
    "    if val<arr[mid]:\n",
    "        return _binarySearch(arr,val,minV, mid-1)\n",
    "    else:\n",
    "        return _binarySearch(arr,val,mid+1, maxV)\n",
    "    \n",
    "\n",
    "def binarySearch(arr, val):\n",
    "    return _binarySearch(arr, val, 0, len(arr)-1)\n",
    "\n",
    "\n",
    "arr=[23, 45,56,78,89,97,99]\n",
    "\n",
    "for i in range(len(arr)):\n",
    "    print(i, arr[i], binarySearch(arr, arr[i]))\n",
    "\n",
    "\n",
    "print(48, binarySearch(arr, 48))\n"
   ]
  },
  {
   "cell_type": "markdown",
   "metadata": {},
   "source": [
    "## Median"
   ]
  },
  {
   "cell_type": "code",
   "execution_count": 6,
   "metadata": {},
   "outputs": [
    {
     "name": "stdout",
     "output_type": "stream",
     "text": [
      "Ln/2 13 P 3 K 4\n",
      "Ln/2 26 P 1 K 0\n",
      "Ln/2 19 P 0 K 0\n",
      "19\n"
     ]
    }
   ],
   "source": [
    "def _median(L,K, verbose=True):\n",
    "    pivot=L[len(L)//2]\n",
    "    L1 = [x for x in L if x < pivot]\n",
    "    P= len(L1)\n",
    "    \n",
    "    if verbose:\n",
    "        print(\"Ln/2\",pivot, \"P\", P, \"K\", K)\n",
    "    \n",
    "    if P == K:\n",
    "        return pivot\n",
    "    \n",
    "    if P > K:\n",
    "        return _median(L1,K)\n",
    "    \n",
    "    if P < K:\n",
    "        L2 = [x for x in L if x > pivot]\n",
    "        return _median(L2,K-P-1)\n",
    "    \n",
    "\n",
    "def median(L):\n",
    "    return _median(L,len(L)//2)\n",
    "\n",
    "arr=[19,10,47,5,13,26,8,35]\n",
    "\n",
    "print(median(arr))"
   ]
  },
  {
   "cell_type": "markdown",
   "metadata": {},
   "source": [
    "## Quicksort"
   ]
  },
  {
   "cell_type": "code",
   "execution_count": 2,
   "metadata": {},
   "outputs": [
    {
     "name": "stdout",
     "output_type": "stream",
     "text": [
      "[23, 34, 541, 67, 314, 425, 127, 565, 78, 121]\n",
      "[23, 34, 78, 67, 314, 425, 127, 565, 541, 121]\n",
      "[23, 34, 78, 67, 121, 425, 127, 565, 541, 314]\n",
      "[23, 34, 67, 78, 121, 425, 127, 565, 541, 314]\n",
      "[23, 34, 67, 78, 121, 127, 425, 565, 541, 314]\n",
      "[23, 34, 67, 78, 121, 127, 314, 565, 541, 425]\n",
      "[23, 34, 67, 78, 121, 127, 314, 425, 541, 565]\n",
      "[23, 34, 67, 78, 121, 127, 314, 425, 541, 565]\n",
      "[23, 34, 67, 78, 121, 127, 314, 425, 541, 565]\n"
     ]
    }
   ],
   "source": [
    "def partition(arr, left, right, verbose):\n",
    "    pivot = arr[right]\n",
    "    p1 = left -1 \n",
    "    p2 = right\n",
    "    while p1 <p2:\n",
    "        p1+=1\n",
    "        p2-=1\n",
    "        while arr[p1]<pivot: p1+=1\n",
    "        while arr[p2]>pivot: p2-=1\n",
    "        if p1 < p2:\n",
    "            arr[p1],arr[p2] = arr[p2], arr[p1]\n",
    "            if verbose: print(arr)\n",
    "    arr[p1], arr[right] = arr[right], arr[p1]\n",
    "    if verbose: print(arr)\n",
    "    return p1\n",
    "\n",
    "def _quickSort(arr, left, right, verbose):\n",
    "    if left >= right:  return \n",
    "    p = partition(arr, left, right,verbose)\n",
    "    _quickSort(arr, left, p-1, verbose)\n",
    "    _quickSort(arr,p+1,right,verbose) \n",
    "\n",
    "def quickSort(arr,verbose=False):\n",
    "    _quickSort(arr,0, len(arr)-1,verbose) \n",
    "    \n",
    "arr = [121,34,541,67,314,425,127,565,78,23]\n",
    "quickSort(arr,True)\n",
    "print(arr)"
   ]
  },
  {
   "cell_type": "code",
   "execution_count": null,
   "metadata": {},
   "outputs": [],
   "source": []
  }
 ],
 "metadata": {
  "kernelspec": {
   "display_name": "base",
   "language": "python",
   "name": "python3"
  },
  "language_info": {
   "codemirror_mode": {
    "name": "ipython",
    "version": 3
   },
   "file_extension": ".py",
   "mimetype": "text/x-python",
   "name": "python",
   "nbconvert_exporter": "python",
   "pygments_lexer": "ipython3",
   "version": "3.9.12"
  },
  "orig_nbformat": 4
 },
 "nbformat": 4,
 "nbformat_minor": 2
}
