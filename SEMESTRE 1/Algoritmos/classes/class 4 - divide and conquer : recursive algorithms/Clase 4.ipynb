{
 "cells": [
  {
   "cell_type": "markdown",
   "id": "b255e1a4",
   "metadata": {},
   "source": [
    "# BINARY SEARCH"
   ]
  },
  {
   "cell_type": "code",
   "execution_count": 16,
   "id": "4974b717",
   "metadata": {},
   "outputs": [],
   "source": [
    "def BinarySearch(arr, y, minV, maxV):\n",
    "    \n",
    "    mid = ((maxV - minV)//2) + minV\n",
    "    if minV > maxV:\n",
    "        return -1\n",
    "    \n",
    "    if y == arr[mid]:\n",
    "        return mid\n",
    "    \n",
    "    if y < arr[mid]:\n",
    "        return BinarySearch(arr, y, minV, mid - 1)\n",
    "    else:\n",
    "        return BinarySearch(arr, y, mid + 1, maxV)\n",
    "    \n",
    "    "
   ]
  },
  {
   "cell_type": "code",
   "execution_count": 17,
   "id": "f1e5eb33",
   "metadata": {},
   "outputs": [
    {
     "data": {
      "text/plain": [
       "-1"
      ]
     },
     "execution_count": 17,
     "metadata": {},
     "output_type": "execute_result"
    }
   ],
   "source": [
    "arr = [5, 8, 10, 13, 19, 26, 35, 47]\n",
    "\n",
    "n = len(arr)\n",
    "\n",
    "y = 7\n",
    "\n",
    "i = BinarySearch(arr, y, 0, n-1)\n",
    "i"
   ]
  },
  {
   "cell_type": "code",
   "execution_count": 28,
   "id": "819f410b",
   "metadata": {},
   "outputs": [],
   "source": [
    "def median(arr, K, verbose=True):\n",
    "    mid = len(arr) //2\n",
    "    MidElement = arr[mid]\n",
    "    \n",
    "    if verbose:\n",
    "        print(\"Middle element: \", MidElement, \"K: \", K)\n",
    "    \n",
    "    P = 0\n",
    "    for x in arr:\n",
    "        if x < MidElement:\n",
    "            P = P + 1\n",
    "    \n",
    "    if P == K:\n",
    "        return MidElement\n",
    "    \n",
    "    elif P > K:\n",
    "        L1 = []\n",
    "        for x in arr:\n",
    "            if x < MidElement:\n",
    "                L1.append(x)\n",
    "                return(median(L1, K))\n",
    "    else:\n",
    "        L2 = []\n",
    "        for x in arr:\n",
    "            if x > MidElement:\n",
    "                L2.append(x)\n",
    "                return(median(L2, K - P -1))\n",
    "        "
   ]
  },
  {
   "cell_type": "code",
   "execution_count": 29,
   "id": "2e7d3828",
   "metadata": {},
   "outputs": [
    {
     "name": "stdout",
     "output_type": "stream",
     "text": [
      "Middle element:  13 K:  4\n",
      "Middle element:  19 K:  0\n"
     ]
    },
    {
     "data": {
      "text/plain": [
       "19"
      ]
     },
     "execution_count": 29,
     "metadata": {},
     "output_type": "execute_result"
    }
   ],
   "source": [
    "arr = [19, 10, 47, 5, 13, 26, 8, 35]\n",
    "K = len(arr)//2\n",
    "\n",
    "median(arr, K)"
   ]
  },
  {
   "cell_type": "code",
   "execution_count": null,
   "id": "91052762",
   "metadata": {},
   "outputs": [],
   "source": []
  }
 ],
 "metadata": {
  "kernelspec": {
   "display_name": "Python 3 (ipykernel)",
   "language": "python",
   "name": "python3"
  },
  "language_info": {
   "codemirror_mode": {
    "name": "ipython",
    "version": 3
   },
   "file_extension": ".py",
   "mimetype": "text/x-python",
   "name": "python",
   "nbconvert_exporter": "python",
   "pygments_lexer": "ipython3",
   "version": "3.11.4"
  }
 },
 "nbformat": 4,
 "nbformat_minor": 5
}
