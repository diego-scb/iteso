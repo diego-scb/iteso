{
 "cells": [
  {
   "cell_type": "markdown",
   "metadata": {},
   "source": [
    "# Analysis and Design of Algorithms\n",
    "## First Midterm Exam\n",
    "\n",
    "- Name: \n"
   ]
  },
  {
   "cell_type": "markdown",
   "metadata": {},
   "source": [
    "-- --\n",
    "\n",
    "**Section I**: Which **sorting algorithm** best meets each of the characteristics mentioned? Justify your answer briefly (one or two paragraphs). *Value: 25 points (5 points per question).*"
   ]
  },
  {
   "cell_type": "markdown",
   "metadata": {},
   "source": [
    "1. It is very easy to program and suitable when movements are more costly than comparisons. It works with any type of comparable data, not just integers."
   ]
  },
  {
   "cell_type": "markdown",
   "metadata": {},
   "source": [
    "> **Answer:**"
   ]
  },
  {
   "cell_type": "markdown",
   "metadata": {},
   "source": [
    "2. The predicate isSorted(array, 0, k) is satisfied in its k-th iteration, such that isSorted(array, left, right) returns true if the sub-array from left to right is sorted. In other words, from index 0 to index k, they are sorted in the k-th iteration of the main loop (outer loop). Being sorted does not mean they are in their final positions."
   ]
  },
  {
   "cell_type": "markdown",
   "metadata": {},
   "source": [
    "> **Answer:**\n"
   ]
  },
  {
   "cell_type": "markdown",
   "metadata": {},
   "source": [
    "3. It finishes processing small search spaces BEFORE processing large ones."
   ]
  },
  {
   "cell_type": "markdown",
   "metadata": {},
   "source": [
    "> **Answer:**"
   ]
  },
  {
   "cell_type": "markdown",
   "metadata": {},
   "source": [
    "4. It offers **maximum efficiency** for sorting positive integers, especially with repeated values, but is inadequate for real values or text strings."
   ]
  },
  {
   "cell_type": "markdown",
   "metadata": {},
   "source": [
    "> **Answer:**"
   ]
  },
  {
   "cell_type": "markdown",
   "metadata": {},
   "source": [
    "5. For the following sorting algorithms covered in class, classify whether they are stable or not. For those that are **not stable**, provide a brief justification (what part of the algorithm makes them unstable).\n",
    "   "
   ]
  },
  {
   "cell_type": "markdown",
   "metadata": {},
   "source": [
    "\n",
    "> **Answer:**  \n",
    "- Quicksort:\n",
    "- Counting Sort:\n",
    "- Mergesort:\n",
    "- Heapsort:\n",
    "- Radix Sort:"
   ]
  },
  {
   "cell_type": "markdown",
   "metadata": {},
   "source": [
    "-- --\n",
    "**Section II**: Consider the following algorithm. *Value 40 points*"
   ]
  },
  {
   "cell_type": "code",
   "execution_count": 12,
   "metadata": {},
   "outputs": [],
   "source": [
    "def processArray(array):\n",
    "    count=0\n",
    "    for i in range(len(array)//2):\n",
    "        swapped = False\n",
    "       \n",
    "        for j in range(i, len(array)-i-1): \n",
    "            count+=1\n",
    "            if array[j]<array[j+1]:\n",
    "                array[j],array[j+1]= array[j+1],array[j]\n",
    "                swapped=True\n",
    "        for j in range(len(array)-i-2, i, -1): #j>i\n",
    "            count+=1\n",
    "            if array[j]>array[j-1]:\n",
    "                array[j],array[j-1]= array[j-1],array[j]\n",
    "                swapped=True \n",
    "        if not swapped:\n",
    "            break\n",
    "    print(count)\n",
    "\n",
    "# arr=[12,2,14,5,213,341,21,456,234,4,2564,23,54]\n",
    "# processArray(arr)\n",
    "# print(arr)"
   ]
  },
  {
   "cell_type": "markdown",
   "metadata": {},
   "source": [
    "1) In general terms, what does the algorithm do and how does it do it? (one or two paragraphs) *Value: 5 points*\n",
    "\n",
    "> **Answer:**"
   ]
  },
  {
   "cell_type": "markdown",
   "metadata": {},
   "source": [
    "2) Using a priori analysis (**using summations**), determine the value of the variable \"count\" for an array of size N for the best and worst cases. Explain the indices and exponents of your initial approach. (Do not use handwritten notes or images). *Value: 15 points (5 for best case, 10 for worst case)*\n",
    "\n",
    "> Simplify your answer so that you have only one term of each degree, for example:\n",
    "- $ax^3 + bx^2 + cx +d$\n",
    "- $ax^2 + bx + c$\n",
    "- $ax + b$\n",
    "- $alog_b(c)+d$\n",
    "- $log_b(a)+c$"
   ]
  },
  {
   "cell_type": "markdown",
   "metadata": {},
   "source": [
    "> **Answer:**"
   ]
  },
  {
   "cell_type": "code",
   "execution_count": null,
   "metadata": {},
   "outputs": [],
   "source": [
    "# Verification (run the cell and display the output at the end)\n",
    "def checkWorstCase(n):\n",
    "    print()  # Inside the print, write the polynomial obtained\n",
    "\n",
    "processArray( ) # Provide an array considered the worst case with a size of 10\n",
    "checkWorstCase(10)\n",
    "\n",
    "processArray( ) # Provide an array considered the worst case with a size of 50\n",
    "checkWorstCase(50)"
   ]
  },
  {
   "cell_type": "markdown",
   "metadata": {},
   "source": [
    "3) What is the a posteriori complexity (of comparisons) for this algorithm (for arrays of sizes from 20 to 600, with increments of 5, and 30 runs for each array size)? Show the graph with a trendline and provide a conclusion about the complexity. *Value: 10 points*\n"
   ]
  },
  {
   "cell_type": "markdown",
   "metadata": {},
   "source": [
    "> **Answer:**\n",
    "\n"
   ]
  },
  {
   "cell_type": "markdown",
   "metadata": {},
   "source": [
    "4) Demonstrate that the best-case complexity is better than quadratic through a contradiction (tip: show that it is **not** $\\Omega(N^2)$). *Value: 10 points*"
   ]
  },
  {
   "cell_type": "markdown",
   "metadata": {},
   "source": [
    "> **Answer:**"
   ]
  },
  {
   "cell_type": "markdown",
   "metadata": {},
   "source": [
    "-- --\n",
    "\n",
    "**Section III**: Code the function isHeap(array, mx=True), which determines if an array is a heap. The second parameter \"mx\" indicates that the parent should be greater than the children if it is true, and if it is false, the parent should be smaller than its children. Also, test it for mx=True and mx=False. *Value: 10 points*"
   ]
  },
  {
   "cell_type": "code",
   "execution_count": 7,
   "metadata": {},
   "outputs": [],
   "source": [
    "def isHeap(array, mx=True):\n",
    "    # Your answer here\n",
    "    pass"
   ]
  },
  {
   "cell_type": "code",
   "execution_count": null,
   "metadata": {},
   "outputs": [],
   "source": [
    "# Testing, all should return True (do not modify these code lines)\n",
    "print(isHeap([10,9,8,7,6,5,4,3,2,1],  True)   == True)\n",
    "print(isHeap([10,8,9,6,7,4,5,2,3,1],  True)   == True)\n",
    "print(isHeap([10,8,9,6,7,5,4,3,2,11], True)   == False) \n",
    "print(isHeap([10,6,9,4,8,7,5,3,2,1],  True)   == False)\n",
    "print(isHeap([10,8,9,6,7,5,4,3,2,1],  False)  == False)\n",
    "print(isHeap([1,2,3,4,5,6,7,8,9,10],  False)  == True)\n",
    "print(isHeap([1,3,2,5,4,7,6,9,8,10],  False)  == True)\n",
    "print(isHeap([1,3,2,5,4,7,6,9,8,0],   False)  == False)"
   ]
  },
  {
   "cell_type": "markdown",
   "metadata": {},
   "source": [
    "-- --\n",
    "\n",
    "**Section IV**: Perform the following considering the 2-3-4 tree algorithm seen in class: *Value 30 points*"
   ]
  },
  {
   "cell_type": "markdown",
   "metadata": {},
   "source": [
    "a) Implement a recursive method searchValue(node, value) **that takes advantage of the structure of the BTree** to find the desired value. If it finds the value, return the index, or -1 if it doesn't find it. Base your code on what was covered in class. *Value: 10 points*."
   ]
  },
  {
   "cell_type": "code",
   "execution_count": null,
   "metadata": {},
   "outputs": [],
   "source": [
    "def getPosition(node, value):\n",
    "    for i in range(len(node.values)):\n",
    "        if value < node.values[i]:\n",
    "            return i\n",
    "    \n",
    "    return len(node.values)\n",
    "        \n",
    "\n",
    "\n",
    "class GNode:\n",
    "    max_type = 4\n",
    "    \n",
    "    def __init__(self, value = None, index=None):\n",
    "        self.values = []\n",
    "        self.indexes = []\n",
    "        self.children = []\n",
    "        self.parent= None\n",
    "        self.activeSplit = False\n",
    "        if value is not None:\n",
    "            self.values.append(value)\n",
    "            self.indexes.append(index)\n",
    "   \n",
    "    def getType(self):\n",
    "        return len(self.values)+1\n",
    "    \n",
    "    def isLeaf(self):\n",
    "        return len(self.children)==0\n",
    "    \n",
    "    def insert(self, value, index):\n",
    "        pos = getPosition(self, value)\n",
    "        self.values.insert(pos,value)   \n",
    "        self.indexes.insert(pos,index)\n",
    "        return pos\n",
    "    \n",
    "    def getParent(self):\n",
    "        return self.parent \n",
    "    \n",
    "    def addChild(self, child):\n",
    "        child.parent = self\n",
    "        self.children.append(child)\n",
    "    \n",
    "    def addChildren(self, child1, child2, index):\n",
    "        child1.parent = self\n",
    "        child2.parent = self\n",
    "        self.children[index]=child1\n",
    "        self.children.insert(index+1, child2) \n",
    "\n",
    "\n",
    "def createBTree(arr, verbose = False):\n",
    "    root = GNode(arr[0],0)\n",
    "    for i in range(1, len(arr)):\n",
    "        current = root\n",
    "        while True:\n",
    "            if current.getType() == GNode.max_type and \\\n",
    "            (current.activeSplit or current.isLeaf() ):\n",
    "                current, root= split(current, root)\n",
    "                if verbose:\n",
    "                    printBTree(root)\n",
    "                    print(i,\"---------\")\n",
    "                \n",
    "            elif current.isLeaf():\n",
    "                    current.insert(arr[i], i)\n",
    "                    break\n",
    "            else:\n",
    "                pos = getPosition(current, arr[i])\n",
    "                current = current.children[pos]\n",
    "    \n",
    "    return root\n",
    "\n",
    "def split(node, root):\n",
    "    mid = len(node.values)//2       \n",
    "    left = GNode()\n",
    "    right = GNode()\n",
    "    \n",
    "    for i in range(mid):\n",
    "        left.insert(node.values[i],node.indexes[i])\n",
    "    for i in range(mid+1, len(node.values)):\n",
    "        right.insert(node.values[i],node.indexes[i])  \n",
    "    \n",
    "    if not node.isLeaf():\n",
    "        for i in range(mid+1):\n",
    "            left.addChild(node.children[i])\n",
    "        for i in range(mid+1,len(node.children)):\n",
    "            right.addChild(node.children[i])\n",
    "        \n",
    "    if node == root:\n",
    "        root = GNode(node.values[mid],node.indexes[mid])\n",
    "        root.addChild(left)\n",
    "        root.addChild(right)\n",
    "        node = root\n",
    "        return node, root\n",
    "    \n",
    "    else:\n",
    "        parent:GNode = node.getParent()\n",
    "        if parent.getType() == GNode.max_type:\n",
    "            parent.activeSplit = True\n",
    "            return parent, root\n",
    "        else:\n",
    "            index = parent.insert(node.values[mid], node.indexes[mid])\n",
    "            parent.addChildren(left, right, index)\n",
    "            node = parent #current\n",
    "            return node, root\n",
    "      \n",
    "\n",
    "def printBTree(node, spaces=\"\"):\n",
    "    print(\"{}{}-{}\".format(spaces, node.values, node.indexes))\n",
    "    if node.isLeaf():\n",
    "        return\n",
    "    for child in node.children:\n",
    "        printBTree(child, spaces+\"\\t\")\n",
    "    \n",
    "\n",
    "arr = [*range(1,26)]\n",
    "root = createBTree(arr)      \n",
    "printBTree(root)  "
   ]
  },
  {
   "cell_type": "code",
   "execution_count": null,
   "metadata": {},
   "outputs": [],
   "source": [
    "def searchValue(node: GNode, value): \n",
    "    pass #aquí tu respuesta  \n",
    "\n",
    "for i in range(-1,27):\n",
    "    print(searchValue(root, i))"
   ]
  },
  {
   "cell_type": "markdown",
   "metadata": {},
   "source": [
    "b) Make changes to store the indices of repeated values in the BTree, so that only the indices of these repeated elements are added, not the values themselves. In other words, for each value, there can be multiple indices. When printing the tree, also display the indices and show that the indices of repeated values are being stored. Highlight the changes by adding comments of the type \"#CHANGE: change made\" and test that it works. *Value: 20 points*"
   ]
  },
  {
   "cell_type": "code",
   "execution_count": null,
   "metadata": {},
   "outputs": [],
   "source": [
    "# Response, Copy the BTree code again, name it BTreeRepeated, and make the modifications here\n",
    "# DO NOT FORGET TO ADD COMMENTS WHERE YOU MAKE CHANGES"
   ]
  },
  {
   "cell_type": "code",
   "execution_count": null,
   "metadata": {},
   "outputs": [],
   "source": [
    "# Test\n",
    "arr = [6,-2,5,-2,6,1,32,55,9,88,107,107,2,45,6, 100,23,6]\n",
    "# Print the tree with indices\n",
    "# Search for values 6, -2, and 107 using searchValue"
   ]
  },
  {
   "cell_type": "markdown",
   "metadata": {},
   "source": [
    "-- --\n",
    "\n",
    "**Section V**: The following recursive function constructs a fractal as shown in the figure. Design an equivalent iterative function called fractal_Iterative, based on what was taught in class. *Value: 25 points.*\n"
   ]
  },
  {
   "cell_type": "code",
   "execution_count": 18,
   "metadata": {},
   "outputs": [
    {
     "data": {
      "image/png": "[encoded data removed]",
      "text/plain": [
       "<Figure size 1080x1080 with 1 Axes>"
      ]
     },
     "metadata": {
      "needs_background": "light"
     },
     "output_type": "display_data"
    }
   ],
   "source": [
    "import numpy as np\n",
    "import matplotlib.pyplot as plt\n",
    "import math\n",
    "\n",
    "sin60=math.sin(3.1415/3.0)\n",
    "nivel=5\n",
    "\n",
    "def fractal(i, xp12, yp12, xp22, yp22 ):  \n",
    "    dx=(xp22-xp12)/3.0\n",
    "    dy=(yp22-yp12)/3.0\n",
    "    xx=xp12+3*dx/2.0-dy*sin60\n",
    "    yy=yp12+3*dy/2.0+dx*sin60\n",
    "    if(i<=0):\n",
    "        t1=plt.Line2D([xp12,xp22],[yp12,yp22], color=\"red\")\n",
    "        plt.gca().add_line(t1)\n",
    "    else:\n",
    "        fractal(i-1,xp12,yp12,xp12+dx,yp12+dy)\n",
    "        fractal(i-1,xp12+dx,yp12+dy,xx,yy)\n",
    "        fractal(i-1,xx,yy,xp22-dx,yp22-dy)\n",
    "        fractal(i-1,xp22-dx,yp22-dy,xp22,yp22)\n",
    "\n",
    "plt.figure(figsize=(15,15))\n",
    "plt.axis('equal')\n",
    "axes = plt.gca()\n",
    "axes.set_xlim([0,310])\n",
    "axes.set_ylim([0,310])\n",
    "fractal(nivel,300,300,10,300)"
   ]
  },
  {
   "cell_type": "code",
   "execution_count": null,
   "metadata": {},
   "outputs": [],
   "source": [
    "# Here's the iterative function:\n",
    "# def fractal_Iterative(list of arguments)"
   ]
  }
 ],
 "metadata": {
  "kernelspec": {
   "display_name": "Python 3.9.12 ('base')",
   "language": "python",
   "name": "python3"
  },
  "language_info": {
   "codemirror_mode": {
    "name": "ipython",
    "version": 3
   },
   "file_extension": ".py",
   "mimetype": "text/x-python",
   "name": "python",
   "nbconvert_exporter": "python",
   "pygments_lexer": "ipython3",
   "version": "3.9.12"
  },
  "vscode": {
   "interpreter": {
    "hash": "ee9c296264a8b6803c6844833b739715a1cce56a1764060cc50ddeae466ea71c"
   }
  }
 },
 "nbformat": 4,
 "nbformat_minor": 2
}
