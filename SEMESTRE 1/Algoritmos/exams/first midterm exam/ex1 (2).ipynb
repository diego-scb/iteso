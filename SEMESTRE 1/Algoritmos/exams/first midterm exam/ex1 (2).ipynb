{
 "cells": [
  {
   "cell_type": "markdown",
   "metadata": {},
   "source": [
    "# Analysis and Design of Algorithms\n",
    "## First Midterm Exam\n",
    "\n",
    "- Name: Diego Santa Cruz\n"
   ]
  },
  {
   "cell_type": "markdown",
   "metadata": {},
   "source": [
    "-- --\n",
    "\n",
    "**Section I**: Which **sorting algorithm** best meets each of the characteristics mentioned? Justify your answer briefly (one or two paragraphs). *Value: 25 points (5 points per question).*"
   ]
  },
  {
   "cell_type": "markdown",
   "metadata": {},
   "source": [
    "1. It is very easy to program and suitable when movements are more costly than comparisons. It works with any type of comparable data, not just integers."
   ]
  },
  {
   "cell_type": "markdown",
   "metadata": {},
   "source": [
    "> **Answer:** SelectionSort is a good option because it is very easy to program and as we saw in assignment 2 through the a posteriori analysis for an unsorted array, it's average complexity in terms of movements is linear. So even though we perform a lot of comparisons in terms of movements it is very efficient. And since all we need is to be able to do comparisons between the elements of our data, it is not restricted to use only with integers."
   ]
  },
  {
   "cell_type": "markdown",
   "metadata": {},
   "source": [
    "2. The predicate isSorted(array, 0, k) is satisfied in its k-th iteration, such that isSorted(array, left, right) returns true if the sub-array from left to right is sorted. In other words, from index 0 to index k, they are sorted in the k-th iteration of the main loop (outer loop). Being sorted does not mean they are in their final positions."
   ]
  },
  {
   "cell_type": "markdown",
   "metadata": {},
   "source": [
    "> **Answer:** InsertionSort verifies this condition. In th k-th iteration, we take the (k+1)-th element and everything to it's left has already been sorted. We then find where it would go in the list of k elements before it, and insert it there, so it is also sorted after that iteration. However, as we can see it does not mean it is in it's final position because there could be an element in a later iteration which will push it to the right."
   ]
  },
  {
   "cell_type": "markdown",
   "metadata": {},
   "source": [
    "3. It finishes processing small search spaces BEFORE processing large ones."
   ]
  },
  {
   "cell_type": "markdown",
   "metadata": {},
   "source": [
    "> **Answer:** MergeSort verifies this description. It subdivides the original array into tiny arrays of size 1 or 2 and orders those tiny arrays, and then progressively comes back to bigger and bigger arrays and orders those."
   ]
  },
  {
   "cell_type": "markdown",
   "metadata": {},
   "source": [
    "4. It offers **maximum efficiency** for sorting positive integers, especially with repeated values, but is inadequate for real values or text strings."
   ]
  },
  {
   "cell_type": "markdown",
   "metadata": {},
   "source": [
    "> **Answer:** CountingSort verifies this condition. It's complexity is linear in terms of time, which is great. It can use quite a lot of generated memory, which will sometimes be a problem depending on the hardware but it is still in general the most efficient sorting algorithm we have seen. However, it has problems when we can not easily and efficiently map the values of our array onto the integers, for example with real values or with strings."
   ]
  },
  {
   "cell_type": "markdown",
   "metadata": {},
   "source": [
    "5. For the following sorting algorithms covered in class, classify whether they are stable or not. For those that are **not stable**, provide a brief justification (what part of the algorithm makes them unstable).\n",
    "   "
   ]
  },
  {
   "cell_type": "markdown",
   "metadata": {},
   "source": [
    "\n",
    "> **Answer:**  \n",
    "- Quicksort: **Not Stable**: Let's take the notation from the slide. Let's start with the first iteration and take the last element as the pivot. Let's call p1 the first element from left to right greater than the pivot. Let's assume that it is a value that is repeated. This means that it appears in the array in a position x>p1. Let's assume p2 the first element from right-1 to left smaller than the pivot is to the left of p1. In that case we must swap the pivot with p1. Therefore now p1 is in a position greater than x. So we see that if we continue on like this, it is possible that the original order of repeated values is not maintained. Therefore QuickSort isn't stable.\n",
    "\n",
    "- Counting Sort: **Stable**.\n",
    "- Mergesort: **Stable**.\n",
    "- Heapsort: **Not Stable**: When creating the max-heap, if we have to swap a child with it's parent, it could cause disorder with repeated values from another branch of the binary tree. Therefore at the end it is possible that the original order of repeated values is not maintained. Therefore HeapSort is not stable.\n",
    "- Radix Sort: **Stable**."
   ]
  },
  {
   "cell_type": "markdown",
   "metadata": {},
   "source": [
    "-- --\n",
    "\n",
    "**Section II**: Consider the following algorithm. *Value 40 points*"
   ]
  },
  {
   "cell_type": "code",
   "execution_count": 394,
   "metadata": {},
   "outputs": [
    {
     "name": "stdout",
     "output_type": "stream",
     "text": [
      "45\n"
     ]
    }
   ],
   "source": [
    "def processArray(array,verbose=False):\n",
    "    count=0\n",
    "    for i in range(len(array)//2):\n",
    "        #print(array, \"\\n\")\n",
    "        swapped = False\n",
    "       \n",
    "        for j in range(i, len(array)-i-1):\n",
    "            #print(\"\\t first\")\n",
    "            count+=1\n",
    "            if array[j]<array[j+1]:\n",
    "                array[j],array[j+1]= array[j+1],array[j]\n",
    "                swapped=True\n",
    "                #print(\"\\t\",i,j, \"\\t\", array)\n",
    "        for j in range(len(array)-i-2, i, -1): #j>i\n",
    "            #print(\"\\t second\")\n",
    "            count+=1\n",
    "            if array[j]>array[j-1]:\n",
    "                array[j],array[j-1]= array[j-1],array[j]\n",
    "                swapped=True \n",
    "                #print(\"\\t\",i,j,\"\\t\", array)\n",
    "        #print(swapped)\n",
    "        if not swapped:\n",
    "            break\n",
    "\n",
    "    if verbose:\n",
    "        print(count)\n",
    "    else:\n",
    "        return count\n",
    "\n",
    "arr=[12,2,14,5,213,341,21,456,234,4,2564,23,54]\n",
    "arrdesc = [*range(40,0,-2)]\n",
    "arrasc = [*range(1,11)]\n",
    "processArray(arrasc, True)\n",
    "\n"
   ]
  },
  {
   "cell_type": "markdown",
   "metadata": {},
   "source": [
    "1) In general terms, what does the algorithm do and how does it do it? (one or two paragraphs) *Value: 5 points*\n",
    "\n",
    "> **Answer:** \n",
    "\n",
    ">The algorithm takes an unordered array as it's input and orders it in descending order. It's output will be the number of steps it took to completely order the list.\n",
    "It works in the following manner:\n",
    "> - first it goes through the list from left to right by comparing adjacent values and, if necessary, modifying the list so the smaller value is on the right. Once it gets all the way to the right, the smallest element should be all the way to the right;\n",
    "> - then it does the same thing but going from right to left and moving the bigger element to the left. Since we already know the one all the way to the right is the smallest, we can skip it in this process. Once it gets all the way to the left, the biggest element should be all the way to the left.\n",
    "\n",
    ">Then it repeats thes same two steps but now with the whole list except the two elements on the edge, because we already know those are in their final spot. And it does the same thing until it is only done with the elements in the middle.\n",
    "\n",
    ">It also has a \"swapped\" flag that will allow us to terminate the process early if the array is already in its final descending order, and thus avoids extra steps."
   ]
  },
  {
   "cell_type": "markdown",
   "metadata": {},
   "source": [
    "2) Using a priori analysis (**using summations**), determine the value of the variable \"count\" for an array of size N for the best and worst cases. Explain the indices and exponents of your initial approach. (Do not use handwritten notes or images). *Value: 15 points (5 for best case, 10 for worst case)*\n",
    "\n",
    "> The best case scenario is where the swapped variable never turns to True and therefore the outer for loop breaks after the first iteration. This will happen if for every j in {0,...,len(arr)-2), arr[j] >arr[j+1], meaning that the array is already in descending order. Therefore if the array is of size N, the complexity wil be:\n",
    "\n",
    "$\\begin{aligned} \n",
    "    \\sum_{j=0}^{N-2} 1 + \\sum_{j=1}^{N-2}1 = 1 + 2 * \\sum_{j=1}^{N-2}1 = 1 + 2*(N-2) = 2N - 3\n",
    "\\end{aligned}$\n",
    "\n",
    "> With the first sum corresponding to the first inner loop when i = 0, and the second sum corresponding to the second inner loop when i = 0.\n",
    "\n",
    "> The worst case scenario is where after every iteration of the outer for loop, the swapped turns to True, and it has to keep going until i = N//2 -1, where N is the size of the array. Let's write n = N//2. The inner sums correspond to the inner for loops in the algorithm, and we deduce the indexes for the sums from the for loops.\n",
    "\n",
    "$\\begin{aligned} \n",
    "    \\sum_{i=0}^{n-1} \\left(\\sum_{j=i}^{N-2-i} 1 + \\sum_{j=i + 1}^{N-2-i}1 \\right) &= \\sum_{i=0}^{n-1} \\left(1 + 2*\\sum_{j=i + 1}^{N-2-i}1 \\right) \\\\\n",
    "    &= \\sum_{i=0}^{n-1} ( 1 + 2*(N-2-i - (i+1) + 1) \\\\\n",
    "    &= \\sum_{i=0}^{n-1} (2N-3-4i) \\\\\n",
    "    &= \\left((2N-3)*\\sum_{i=0}^{n-1} 1 \\right)- \\left(4 * \\sum_{i=0}^{n-1} i\\right)\\\\\n",
    "    &= \\left((2N-3)*n \\right)- \\left(4 * \\frac{(n-1)*n}{2}\\right)\\\\\n",
    "    &= (2N-3)*n - 2 * (n-1)*n\\\\\n",
    "    &= (2N-3 - 2*(n-1))*n\\\\\n",
    "    \\textrm{And if N is even: } N = 2n: \\\\\n",
    "    &= (4n - 3 - 2n + 2)*n \\\\\n",
    "    &= (2n - 1)*n \\\\\n",
    "    &= 2n^2 - n \\\\\n",
    "    &= 0.5N^2 - 0.5N \\\\\n",
    "    \\textrm{And if N is odd: } N = 2n + 1: \\\\\n",
    "    &= (4n + 2 - 3 - 2n + 2)*n \\\\\n",
    "    &= (2n + 1)*n \\\\\n",
    "    &= N*n\\\\\n",
    "    &= N*(\\frac{N-1}{2})\\\\\n",
    "    &= \\frac{N^2-N}{2} \\\\\n",
    "    &= 0.5N^2 - 0.5N \\\\\n",
    "    \\textrm{We can see that we obtain the same formula if N= 2n or if N= 2n+1.}\\\\\n",
    "\\end{aligned}$\n",
    "\n",
    "\n",
    "> Simplify your answer so that you have only one term of each degree, for example:\n",
    "- $ax^3 + bx^2 + cx +d$\n",
    "- $ax^2 + bx + c$\n",
    "- $ax + b$\n",
    "- $alog_b(c)+d$\n",
    "- $log_b(a)+c$"
   ]
  },
  {
   "cell_type": "markdown",
   "metadata": {},
   "source": [
    "> **Answer:**\n",
    "best case : $2N - 3$ ;\n",
    "worst case: $0.5N^2 - 0.5N$"
   ]
  },
  {
   "cell_type": "markdown",
   "metadata": {},
   "source": [
    "> An array which is ordered in ascending fashion is an example of the worst case scenario for this algorithm. In that case, in every iteration of the outer for loop, the first element in each of the inner for loops will need to be swapped all the way to it's final position in the opposite side of the array. Therefore the swapped variable will turn to True in every iteration of the outer for loop, which is what we saw was the necessary condtion for the worst case scenario."
   ]
  },
  {
   "cell_type": "code",
   "execution_count": 395,
   "metadata": {},
   "outputs": [
    {
     "name": "stdout",
     "output_type": "stream",
     "text": [
      "45\n",
      "45.0\n",
      "1225\n",
      "1225.0\n"
     ]
    }
   ],
   "source": [
    "# Verification (run the cell and display the output at the end)\n",
    "def checkWorstCase(n):\n",
    "    print(0.5*n**2 - 0.5*n)  # Inside the print, write the polynomial obtained\n",
    "\n",
    "\n",
    "arrworst10 = [*range(10)]\n",
    "processArray( arrworst10, True) # Provide an array considered the worst case with a size of 10\n",
    "checkWorstCase(10)\n",
    "\n",
    "arrworst50 = [*range(50)]\n",
    "processArray(arrworst50, True) # Provide an array considered the worst case with a size of 50\n",
    "checkWorstCase(50)"
   ]
  },
  {
   "cell_type": "markdown",
   "metadata": {},
   "source": [
    "3) What is the a posteriori complexity (of comparisons) for this algorithm (for arrays of sizes from 20 to 600, with increments of 5, and 30 runs for each array size)? Show the graph with a trendline and provide a conclusion about the complexity. *Value: 10 points*\n"
   ]
  },
  {
   "cell_type": "code",
   "execution_count": 396,
   "metadata": {},
   "outputs": [
    {
     "data": {
      "image/png": "[encoded data removed]",
      "text/plain": [
       "<Figure size 432x288 with 1 Axes>"
      ]
     },
     "metadata": {
      "needs_background": "light"
     },
     "output_type": "display_data"
    }
   ],
   "source": [
    "import random\n",
    "import numpy as np\n",
    "import math \n",
    "import matplotlib.pyplot as plt\n",
    "\n",
    "def createIntArray(size, minVal, maxVal):\n",
    "    return [random.randint(minVal, maxVal) for x in range(size)]\n",
    "\n",
    "def dataToPlot(minSize=2, maxSize=100, step=1, runs=200, algorithm=processArray):\n",
    "    totalC = []# An array to store the average comparisons for each array size\n",
    "    \n",
    "    i=0\n",
    "    for n in range(minSize,maxSize, step):\n",
    "        totalC.append(0);\n",
    "        for j in range(runs):\n",
    "            arr = createIntArray(n,-10000,10000)\n",
    "            cmp = algorithm(arr,False)\n",
    "            totalC[i]+= cmp\n",
    "           \n",
    "        totalC[i]=totalC[i]/runs;\n",
    "        i+= 1\n",
    "    return totalC\n",
    "\n",
    "def plot_comparisons_and_moves(minSize, maxSize, step, runs, algorithm):\n",
    "    C = dataToPlot(minSize, maxSize, step, runs, algorithm)\n",
    "\n",
    "    x=[x for x in range(minSize, maxSize, step)]\n",
    "    x2=[0.4*x*x for x in range(minSize, maxSize, step)]\n",
    "    mx2=[0.5*x*x for x in range(minSize, maxSize, step)]\n",
    "    mmx2=[0.3*x*x for x in range(minSize, maxSize, step)]\n",
    "\n",
    "    Cfit = np.polyfit(x, C, 2)\n",
    "    Cpoly = np.poly1d(Cfit)\n",
    "    Ccoefs = \"%.3fn^2+(%.3f)n+(%.3f)\"%(Cfit[0],Cfit[1],Cfit[2])\n",
    "\n",
    "    #print (\"comparisons\", Ccoefs)\n",
    "\n",
    "   \n",
    "    plt.plot(x, C, 'g*', label=\"comparisons \") \n",
    "    plt.plot(x, Cpoly(x), 'g-', label=\"C=\"+Ccoefs)\n",
    "    plt.plot(x, x2, color=\"blue\", label = \"$0.4x^2$\")\n",
    "    plt.plot(x, mx2, color=\"red\", label = \"$0.5*x^2$\")\n",
    "    plt.plot(x, mmx2, color=\"black\", label = \"$0.3*x^2$\")\n",
    "    \n",
    "\n",
    "    \n",
    "\n",
    "    plt.legend()\n",
    "    plt.show()\n",
    "    \n",
    "minSize = 20\n",
    "maxSize = 600\n",
    "step = 5\n",
    "runs = 30\n",
    "plot_comparisons_and_moves(minSize, maxSize, step, runs, processArray)"
   ]
  },
  {
   "cell_type": "markdown",
   "metadata": {},
   "source": [
    "> **Answer:**\n",
    "\n",
    "Therefore the complexity of the processArray algorithm in terms of comparisons is $\\Theta (N^2)$ on average."
   ]
  },
  {
   "cell_type": "markdown",
   "metadata": {},
   "source": [
    "4) Demonstrate that the best-case complexity is better than quadratic through a contradiction (tip: show that it is **not** $\\Omega(N^2)$). *Value: 10 points*"
   ]
  },
  {
   "cell_type": "markdown",
   "metadata": {},
   "source": [
    "> **Answer:** We obtained that the complexity in the best case scenario was $2N - 3$. Let's show that it is not $\\Omega (N^2)$ by contradiction:  \n",
    "\n",
    "$\\begin{aligned}\n",
    "    \\textrm{Let us assume that } f(N) = 2N - 3 \\textrm{ belongs to } \\Omega (N^2). \\\\\n",
    "    \\textrm{In that case, there exists positive constants } c_{1} \\textrm{ and } N_{0} \\textrm{ such that:} \\\\\n",
    "    f(N) \\geq c_{1}*N^2 \\textrm{ for all } N > N_{0}\\\\\n",
    "    => 2N - 3 \\geq c_{1}*N^2 \\textrm{ for all } N > N_{0} \\\\\n",
    "    => c_{1}*N^2 - 2N + 3 \\leq 0 \\textrm{ for all } N > N_{0} \\\\\n",
    "    \\textrm{This is clearly impossible because it is a degree 2 polynomial for which the dominant factor is positive.}\\\\\n",
    "    \\textrm{This means that our hypothesis that } 2N - 3 \\textrm{ belongs to } \\Omega (N^2) \\textrm{ is false.}\\\\\n",
    "    \\textrm{ Therefore the best-case complexity is better than quadratic.}\n",
    "\\end{aligned}$\n"
   ]
  },
  {
   "cell_type": "markdown",
   "metadata": {},
   "source": [
    "-- --\n",
    "\n",
    "**Section III**: Code the function isHeap(array, mx=True), which determines if an array is a heap. The second parameter \"mx\" indicates that the parent should be greater than the children if it is true, and if it is false, the parent should be smaller than its children. Also, test it for mx=True and mx=False. *Value: 10 points*"
   ]
  },
  {
   "cell_type": "code",
   "execution_count": 397,
   "metadata": {},
   "outputs": [
    {
     "name": "stdout",
     "output_type": "stream",
     "text": [
      "1\n",
      "-1\n"
     ]
    }
   ],
   "source": [
    "mx = True\n",
    "factor = (-1)**(int(mx)+1)\n",
    "print(factor)\n",
    "mx = False\n",
    "factor = (-1)**(int(mx)+1)\n",
    "print(factor)"
   ]
  },
  {
   "cell_type": "code",
   "execution_count": 398,
   "metadata": {},
   "outputs": [],
   "source": [
    "def isHeap(array, mx=True):\n",
    "    \n",
    "    factor = (-1)**(int(mx)+1)\n",
    "        \n",
    "    index = 0\n",
    "    \n",
    "    while index in range(len(array)):\n",
    "        \n",
    "        if 2*index + 1 < len(array) and factor*array[2*index + 1] > factor*array[index]:\n",
    "            return False\n",
    "        elif 2*index + 2 < len(array) and factor*array[2*index + 2] > factor*array[index]:\n",
    "            return False\n",
    "\n",
    "        index = index + 1\n",
    "    return True\n",
    "    pass"
   ]
  },
  {
   "cell_type": "code",
   "execution_count": 399,
   "metadata": {},
   "outputs": [
    {
     "name": "stdout",
     "output_type": "stream",
     "text": [
      "True\n",
      "True\n",
      "True\n",
      "True\n",
      "True\n",
      "True\n",
      "True\n",
      "True\n"
     ]
    }
   ],
   "source": [
    "# Testing, all should return True (do not modify these code lines)\n",
    "print(isHeap([10,9,8,7,6,5,4,3,2,1],  True)   == True)\n",
    "print(isHeap([10,8,9,6,7,4,5,2,3,1],  True)   == True)\n",
    "print(isHeap([10,8,9,6,7,5,4,3,2,11], True)   == False) \n",
    "print(isHeap([10,6,9,4,8,7,5,3,2,1],  True)   == False)\n",
    "print(isHeap([10,8,9,6,7,5,4,3,2,1],  False)  == False)\n",
    "print(isHeap([1,2,3,4,5,6,7,8,9,10],  False)  == True)\n",
    "print(isHeap([1,3,2,5,4,7,6,9,8,10],  False)  == True)\n",
    "print(isHeap([1,3,2,5,4,7,6,9,8,0],   False)  == False)"
   ]
  },
  {
   "cell_type": "markdown",
   "metadata": {},
   "source": [
    "-- --\n",
    "\n",
    "**Section IV**: Perform the following considering the 2-3-4 tree algorithm seen in class: *Value 30 points*"
   ]
  },
  {
   "cell_type": "markdown",
   "metadata": {},
   "source": [
    "a) Implement a recursive method searchValue(node, value) **that takes advantage of the structure of the BTree** to find the desired value. If it finds the value, return the index, or -1 if it doesn't find it. Base your code on what was covered in class. *Value: 10 points*."
   ]
  },
  {
   "cell_type": "code",
   "execution_count": 400,
   "metadata": {},
   "outputs": [],
   "source": [
    "def getPosition(node, value):\n",
    "    for i in range(len(node.values)):\n",
    "        if value < node.values[i]:\n",
    "            return i\n",
    "    \n",
    "    return len(node.values)\n",
    "        \n",
    "\n",
    "\n",
    "class GNode:\n",
    "    max_type = 4\n",
    "    \n",
    "    def __init__(self, value = None, index=None):\n",
    "        self.values = []\n",
    "        self.indexes = []\n",
    "        self.children = []\n",
    "        self.parent= None\n",
    "        self.activeSplit = False\n",
    "        if value is not None:\n",
    "            self.values.append(value)\n",
    "            self.indexes.append(index)\n",
    "   \n",
    "    def getType(self):\n",
    "        return len(self.values)+1\n",
    "    \n",
    "    def isLeaf(self):\n",
    "        return len(self.children)==0\n",
    "    \n",
    "    def insert(self, value, index):\n",
    "        pos = getPosition(self, value)\n",
    "        self.values.insert(pos,value)   \n",
    "        self.indexes.insert(pos,index)\n",
    "        return pos\n",
    "    \n",
    "    def getParent(self):\n",
    "        return self.parent \n",
    "    \n",
    "    def addChild(self, child):\n",
    "        child.parent = self\n",
    "        self.children.append(child)\n",
    "    \n",
    "    def addChildren(self, child1, child2, index):\n",
    "        child1.parent = self\n",
    "        child2.parent = self\n",
    "        self.children[index]=child1\n",
    "        self.children.insert(index+1, child2) \n",
    "\n",
    "\n",
    "def createBTree(arr, verbose = False):\n",
    "    root = GNode(arr[0],0)\n",
    "    for i in range(1, len(arr)):\n",
    "        current = root\n",
    "        while True:\n",
    "            if current.getType() == GNode.max_type and \\\n",
    "            (current.activeSplit or current.isLeaf() ):\n",
    "                current, root= split(current, root)\n",
    "                if verbose:\n",
    "                    printBTree(root)\n",
    "                    print(i,\"---------\")\n",
    "                \n",
    "            elif current.isLeaf():\n",
    "                    current.insert(arr[i], i)\n",
    "                    break\n",
    "            else:\n",
    "                pos = getPosition(current, arr[i])\n",
    "                current = current.children[pos]\n",
    "    \n",
    "    return root\n",
    "\n",
    "def split(node, root):\n",
    "    mid = len(node.values)//2       \n",
    "    left = GNode()\n",
    "    right = GNode()\n",
    "    \n",
    "    for i in range(mid):\n",
    "        left.insert(node.values[i],node.indexes[i])\n",
    "    for i in range(mid+1, len(node.values)):\n",
    "        right.insert(node.values[i],node.indexes[i])  \n",
    "    \n",
    "    if not node.isLeaf():\n",
    "        for i in range(mid+1):\n",
    "            left.addChild(node.children[i])\n",
    "        for i in range(mid+1,len(node.children)):\n",
    "            right.addChild(node.children[i])\n",
    "        \n",
    "    if node == root:\n",
    "        root = GNode(node.values[mid],node.indexes[mid])\n",
    "        root.addChild(left)\n",
    "        root.addChild(right)\n",
    "        node = root\n",
    "        return node, root\n",
    "    \n",
    "    else:\n",
    "        parent:GNode = node.getParent()\n",
    "        if parent.getType() == GNode.max_type:\n",
    "            parent.activeSplit = True\n",
    "            return parent, root\n",
    "        else:\n",
    "            index = parent.insert(node.values[mid], node.indexes[mid])\n",
    "            parent.addChildren(left, right, index)\n",
    "            node = parent #current\n",
    "            return node, root\n",
    "      \n",
    "\n",
    "    \n"
   ]
  },
  {
   "cell_type": "code",
   "execution_count": 401,
   "metadata": {},
   "outputs": [
    {
     "name": "stdout",
     "output_type": "stream",
     "text": [
      "[8]-[7]\n",
      "\t[4]-[3]\n",
      "\t\t[2]-[1]\n",
      "\t\t\t[1]-[0]\n",
      "\t\t\t[3]-[2]\n",
      "\t\t[6]-[5]\n",
      "\t\t\t[5]-[4]\n",
      "\t\t\t[7]-[6]\n",
      "\t[12, 16]-[11, 15]\n",
      "\t\t[10]-[9]\n",
      "\t\t\t[9]-[8]\n",
      "\t\t\t[11]-[10]\n",
      "\t\t[14]-[13]\n",
      "\t\t\t[13]-[12]\n",
      "\t\t\t[15]-[14]\n",
      "\t\t[18, 20, 22]-[17, 19, 21]\n",
      "\t\t\t[17]-[16]\n",
      "\t\t\t[19]-[18]\n",
      "\t\t\t[21]-[20]\n",
      "\t\t\t[23, 24, 25]-[22, 23, 24]\n"
     ]
    }
   ],
   "source": [
    "def printBTree(node, spaces=\"\"):\n",
    "    print(\"{}{}-{}\".format(spaces, node.values, node.indexes))\n",
    "    if node.isLeaf():\n",
    "        return\n",
    "    for child in node.children:\n",
    "        printBTree(child, spaces+\"\\t\")\n",
    "    \n",
    "\n",
    "arr = [*range(1,26,1)]\n",
    "root = createBTree(arr)      \n",
    "printBTree(root)  "
   ]
  },
  {
   "cell_type": "code",
   "execution_count": 3,
   "metadata": {},
   "outputs": [
    {
     "name": "stdout",
     "output_type": "stream",
     "text": [
      "-1 \n",
      "\n",
      "-1 \n",
      "\n",
      "[5] \n",
      "\n",
      "[12] \n",
      "\n",
      "-1 \n",
      "\n",
      "-1 \n",
      "\n",
      "[2] \n",
      "\n",
      "[0, 4, 14, 17] \n",
      "\n",
      "-1 \n",
      "\n",
      "-1 \n",
      "\n",
      "[8] \n",
      "\n",
      "-1 \n",
      "\n",
      "-1 \n",
      "\n",
      "-1 \n",
      "\n",
      "-1 \n",
      "\n",
      "-1 \n",
      "\n",
      "-1 \n",
      "\n",
      "-1 \n",
      "\n",
      "-1 \n",
      "\n",
      "-1 \n",
      "\n",
      "-1 \n",
      "\n",
      "-1 \n",
      "\n",
      "-1 \n",
      "\n",
      "-1 \n",
      "\n",
      "[16] \n",
      "\n",
      "-1 \n",
      "\n",
      "-1 \n",
      "\n",
      "-1 \n",
      "\n"
     ]
    }
   ],
   "source": [
    "def searchValue(node: GNode, value):\n",
    "    \n",
    "    if node is None:\n",
    "        return -1\n",
    "    \n",
    "    for i in range(len(node.values)):\n",
    "        if value == node.values[i]:\n",
    "            return node.indexes[i]\n",
    "    \n",
    "    if node.children == []:\n",
    "        return -1\n",
    "        \n",
    "    \n",
    "    right = 0\n",
    "    RF = False\n",
    "    for i in range(len(node.children)):\n",
    "        if not RF:\n",
    "            for j in range(len(node.children[i].values)):\n",
    "                if value > node.children[i].values[j]:\n",
    "                    right = i\n",
    "                else:\n",
    "                    right = i\n",
    "                    RF = True\n",
    "                    break\n",
    "        else:\n",
    "            break\n",
    "            \n",
    "    left = right\n",
    "    LF = False\n",
    "    for i in range(right, right - 2, - 1):\n",
    "        if not LF:\n",
    "            for j in range(len(node.children[i].values) - 1, -1, - 1):\n",
    "                if value < node.children[i].values[j]:\n",
    "                    left = i\n",
    "                else:\n",
    "                    left = i\n",
    "                    LF = True\n",
    "                    break\n",
    "        else:\n",
    "            break\n",
    "    \n",
    "    if left==right:\n",
    "        new_node = node.children[left]\n",
    "        return searchValue(new_node, value)\n",
    "    else:\n",
    "        left_node = node.children[left]\n",
    "        l = searchValue(left_node, value)\n",
    "        if l != -1:\n",
    "            return l\n",
    "        right_node = node.children[right]\n",
    "        r = searchValue(right_node, value)\n",
    "        if r != -1:\n",
    "            return r\n",
    "        if l == -1 and r == -1:\n",
    "            return -1\n",
    "\n",
    "\n",
    "for i in range(-1,27):\n",
    "    print(searchValue(root, i), \"\\n\")"
   ]
  },
  {
   "cell_type": "markdown",
   "metadata": {},
   "source": [
    "b) Make changes to store the indices of repeated values in the BTree, so that only the indices of these repeated elements are added, not the values themselves. In other words, for each value, there can be multiple indices. When printing the tree, also display the indices and show that the indices of repeated values are being stored. Highlight the changes by adding comments of the type \"#CHANGE: change made\" and test that it works. *Value: 20 points*"
   ]
  },
  {
   "cell_type": "code",
   "execution_count": 4,
   "metadata": {},
   "outputs": [
    {
     "name": "stdout",
     "output_type": "stream",
     "text": [
      "[8]-[[7]]\n",
      "\t[4]-[[3]]\n",
      "\t\t[2]-[[1]]\n",
      "\t\t\t[1]-[[0]]\n",
      "\t\t\t[3]-[[2]]\n",
      "\t\t[6]-[[5]]\n",
      "\t\t\t[5]-[[4]]\n",
      "\t\t\t[7]-[[6]]\n",
      "\t[12, 16]-[[11], [15]]\n",
      "\t\t[10]-[[9]]\n",
      "\t\t\t[9]-[[8]]\n",
      "\t\t\t[11]-[[10]]\n",
      "\t\t[14]-[[13]]\n",
      "\t\t\t[13]-[[12]]\n",
      "\t\t\t[15]-[[14]]\n",
      "\t\t[18, 20, 22]-[[17], [19], [21]]\n",
      "\t\t\t[17]-[[16]]\n",
      "\t\t\t[19]-[[18]]\n",
      "\t\t\t[21]-[[20]]\n",
      "\t\t\t[23, 24, 25]-[[22], [23], [24]]\n"
     ]
    }
   ],
   "source": [
    "# Response, Copy the BTree code again, name it BTreeRepeated, and make the modifications here\n",
    "# DO NOT FORGET TO ADD COMMENTS WHERE YOU MAKE CHANGES\n",
    "def getPosition(node, value):\n",
    "    for i in range(len(node.values)):\n",
    "        if value <= node.values[i]:    # changed the < for a <= because we can now have repeated values \n",
    "            return i\n",
    "    \n",
    "    return len(node.values)\n",
    "        \n",
    "\n",
    "\n",
    "class GNode:\n",
    "### We want to make it so that every element in the self.indexes list is a list.\n",
    "### It can have one element if there is no repetitions for the value associated with that index, but it will always be a list.\n",
    "    max_type = 4\n",
    "\n",
    "    def __init__(self, value = None, index=None):\n",
    "        self.values = []\n",
    "        self.indexes = []\n",
    "        self.children = []\n",
    "        self.parent= None\n",
    "        self.activeSplit = False\n",
    "        if value is not None:\n",
    "            self.values.append(value)\n",
    "            self.indexes.append(index)\n",
    "   \n",
    "    def getType(self):\n",
    "        return len(self.values)+1\n",
    "    \n",
    "    def isLeaf(self):\n",
    "        return len(self.children)==0\n",
    "\n",
    "### I changed the insert function from before into two separate functions.\n",
    "### One will be called split_insert and it will be called whenever a split is called and it is the same as before\n",
    "### The other will be called normal_insert and it will be called whenever we are adding an element to a node which isn't full.\n",
    "### For the normal_insert function we have to check if it is a value that was already in the list or not, and act accordingly.\n",
    "\n",
    "### I had to separate the split_insert function because otherwise each time there was a split, the index list for the value went inside another list.\n",
    "\n",
    "    def normal_insert(self, value, index):\n",
    "        pos = getPosition(self, value)\n",
    "        if value in self.values:\n",
    "            self.indexes[pos] = self.indexes[pos] + [index]\n",
    "        else:   \n",
    "            self.values.insert(pos,value)   \n",
    "            self.indexes.insert(pos,[index])\n",
    "        return pos\n",
    "    \n",
    "    def split_insert(self, value, index):\n",
    "        pos = getPosition(self, value)\n",
    "        self.values.insert(pos,value)\n",
    "        self.indexes.insert(pos,index)\n",
    "        return pos\n",
    "        \n",
    "    def getParent(self):\n",
    "        return self.parent \n",
    "    \n",
    "    def addChild(self, child):\n",
    "        child.parent = self\n",
    "        self.children.append(child)\n",
    "    \n",
    "    def addChildren(self, child1, child2, index):\n",
    "        child1.parent = self\n",
    "        child2.parent = self\n",
    "        self.children[index]=child1\n",
    "        self.children.insert(index+1, child2) \n",
    "\n",
    "\n",
    "def createBTreeRepeated(arr, verbose = False):\n",
    "    root = GNode(arr[0],[0]) # I had to change the index parameter from 0 to [0] so that it would work the same as the rest of the indexes.\n",
    "    for i in range(1, len(arr)):\n",
    "        current = root\n",
    "        while True:\n",
    "            if current.getType() == GNode.max_type and \\\n",
    "            (current.activeSplit or current.isLeaf() ):\n",
    "                current, root= split(current, root)\n",
    "                if verbose:\n",
    "                    printBTree(root)\n",
    "                    print(i,\"---------\")\n",
    "                \n",
    "            elif current.isLeaf():\n",
    "                    current.normal_insert(arr[i], i) # changed the insert function for normal_insert since we are just adding elements to a node that isn't full.\n",
    "                    break\n",
    "            else:\n",
    "                pos = getPosition(current, arr[i])\n",
    "                current = current.children[pos]\n",
    "    \n",
    "    return root\n",
    "\n",
    "def split(node, root):\n",
    "    mid = len(node.values)//2       \n",
    "    left = GNode()\n",
    "    right = GNode()\n",
    "    \n",
    "    for i in range(mid):\n",
    "        left.split_insert(node.values[i],node.indexes[i]) #node.indexes[i] is already a list, so we just need to copy them and we use split_insert\n",
    "    for i in range(mid+1, len(node.values)):\n",
    "        right.split_insert(node.values[i],node.indexes[i]) #node.indexes[i] is already a list, so we just need to copy them and we use split_insert\n",
    "    \n",
    "    if not node.isLeaf():\n",
    "        for i in range(mid+1):\n",
    "            left.addChild(node.children[i])\n",
    "        for i in range(mid+1,len(node.children)):\n",
    "            right.addChild(node.children[i])\n",
    "        \n",
    "    if node == root:\n",
    "        root = GNode(node.values[mid],node.indexes[mid])\n",
    "        root.addChild(left)\n",
    "        root.addChild(right)\n",
    "        node = root\n",
    "        return node, root\n",
    "    \n",
    "    else:\n",
    "        parent:GNode = node.getParent()\n",
    "        if parent.getType() == GNode.max_type:\n",
    "            parent.activeSplit = True\n",
    "            return parent, root\n",
    "        else:\n",
    "            index = parent.split_insert(node.values[mid], node.indexes[mid]) #node.indexes[i] is already a list, so we just need to copy them and we use split_insert\n",
    "            parent.addChildren(left, right, index)\n",
    "            node = parent #current\n",
    "            return node, root\n",
    "\n",
    "def printBTree(node, spaces=\"\"):\n",
    "    print(\"{}{}-{}\".format(spaces, node.values, node.indexes))\n",
    "    if node.isLeaf():\n",
    "        return\n",
    "    for child in node.children:\n",
    "        printBTree(child, spaces+\"\\t\")\n",
    "    \n",
    "\n",
    "arr = [*range(1,26,1)]\n",
    "root = createBTreeRepeated(arr)      \n",
    "printBTree(root)  "
   ]
  },
  {
   "cell_type": "code",
   "execution_count": 5,
   "metadata": {},
   "outputs": [
    {
     "name": "stdout",
     "output_type": "stream",
     "text": [
      "[32]-[[6]]\n",
      "\t[5, 9]-[[2], [8]]\n",
      "\t\t[-2, 1, 2]-[[1, 3], [5], [12]]\n",
      "\t\t[6]-[[0, 4, 14, 17]]\n",
      "\t\t[23]-[[16]]\n",
      "\t[88]-[[9]]\n",
      "\t\t[45, 55]-[[13], [7]]\n",
      "\t\t[100, 107]-[[15], [10, 11]]\n",
      "\n",
      " And here are the indexes for some repeated values :\n",
      "\n",
      "for 6 :  [0, 4, 14, 17] \n",
      "\n",
      "for -2 :  [1, 3] \n",
      "\n",
      "for 107 :  [10, 11] \n",
      "\n"
     ]
    }
   ],
   "source": [
    "# Test\n",
    "arr = [6,-2,5,-2,6,1,32,55,9,88,107,107,2,45,6, 100,23,6]\n",
    "# Print the tree with indices\n",
    "root = createBTreeRepeated(arr,False)      \n",
    "printBTree(root)  \n",
    "# Search for values 6, -2, and 107 using searchValue\n",
    "print(\"\\n And here are the indexes for some repeated values :\\n\")\n",
    "print(\"for 6 : \", searchValue(root, 6), \"\\n\")\n",
    "print(\"for -2 : \", searchValue(root, -2), \"\\n\")\n",
    "print(\"for 107 : \", searchValue(root, 107), \"\\n\")"
   ]
  },
  {
   "cell_type": "markdown",
   "metadata": {},
   "source": [
    "-- --\n",
    "\n",
    "**Section V**: The following recursive function constructs a fractal as shown in the figure. Design an equivalent iterative function called fractal_Iterative, based on what was taught in class. *Value: 25 points.*\n"
   ]
  },
  {
   "cell_type": "code",
   "execution_count": 405,
   "metadata": {},
   "outputs": [
    {
     "data": {
      "text/plain": [
       "<Figure size 432x288 with 0 Axes>"
      ]
     },
     "metadata": {},
     "output_type": "display_data"
    },
    {
     "data": {
      "image/png": "[encoded data removed]",
      "text/plain": [
       "<Figure size 1080x1080 with 1 Axes>"
      ]
     },
     "metadata": {
      "needs_background": "light"
     },
     "output_type": "display_data"
    }
   ],
   "source": [
    "import numpy as np\n",
    "import matplotlib.pyplot as plt\n",
    "import math\n",
    "\n",
    "sin60=math.sin(3.1415/3.0)\n",
    "nivel=5\n",
    "\n",
    "def fractal(i, xp12, yp12, xp22, yp22 ):  \n",
    "    dx=(xp22-xp12)/3.0\n",
    "    dy=(yp22-yp12)/3.0\n",
    "    xx=xp12+3*dx/2.0-dy*sin60\n",
    "    yy=yp12+3*dy/2.0+dx*sin60\n",
    "    if(i<=0):\n",
    "        t1=plt.Line2D([xp12,xp22],[yp12,yp22], color=\"red\")\n",
    "        plt.gca().add_line(t1)\n",
    "    else:\n",
    "        fractal(i-1,xp12,yp12,xp12+dx,yp12+dy)\n",
    "        fractal(i-1,xp12+dx,yp12+dy,xx,yy)\n",
    "        fractal(i-1,xx,yy,xp22-dx,yp22-dy)\n",
    "        fractal(i-1,xp22-dx,yp22-dy,xp22,yp22)\n",
    "plt.figure(1)\n",
    "plt.clf()\n",
    "plt.figure(figsize=(15,15))\n",
    "plt.axis('equal')\n",
    "axes = plt.gca()\n",
    "axes.set_xlim([0,310])\n",
    "axes.set_ylim([0,310])\n",
    "fractal(nivel,300,300,10,300)"
   ]
  },
  {
   "cell_type": "code",
   "execution_count": 406,
   "metadata": {},
   "outputs": [
    {
     "data": {
      "text/plain": [
       "<Figure size 432x288 with 0 Axes>"
      ]
     },
     "metadata": {},
     "output_type": "display_data"
    },
    {
     "data": {
      "image/png": "[encoded data removed]",
      "text/plain": [
       "<Figure size 1080x1080 with 1 Axes>"
      ]
     },
     "metadata": {
      "needs_background": "light"
     },
     "output_type": "display_data"
    }
   ],
   "source": [
    "def fractal_Iterative_GF2(ilevels, ixp12, iyp12, ixp22, iyp22):\n",
    "    \n",
    "    stack = [(ilevels, ixp12, iyp12, ixp22, iyp22)]\n",
    "    \n",
    "    while stack:\n",
    "        \n",
    "        levels, xp12, yp12, xp22, yp22 = stack.pop()\n",
    "        \n",
    "        if levels <= 0:\n",
    "            t1=plt.Line2D([xp12,xp22],[yp12,yp22], color=\"green\")\n",
    "            plt.gca().add_line(t1)\n",
    "            continue\n",
    "            \n",
    "        dx=(xp22-xp12)/3.0\n",
    "        dy=(yp22-yp12)/3.0\n",
    "        xx=xp12+3*dx/2.0-dy*sin60\n",
    "        yy=yp12+3*dy/2.0+dx*sin60\n",
    "        \n",
    "        stack.append((levels-1,xp12,yp12,xp12+dx,yp12+dy))\n",
    "        stack.append((levels-1,xp12+dx,yp12+dy,xx,yy))\n",
    "        stack.append((levels-1,xx,yy,xp22-dx,yp22-dy))\n",
    "        stack.append((levels-1,xp22-dx,yp22-dy,xp22,yp22))\n",
    "        \n",
    "levels = 5\n",
    "plt.figure(3)\n",
    "plt.clf()\n",
    "plt.figure(figsize=(15,15))\n",
    "plt.axis('equal')\n",
    "axes = plt.gca()\n",
    "axes.set_xlim([0,310])\n",
    "axes.set_ylim([0,310])\n",
    "fractal_Iterative_GF2(levels,300,300,10,300)\n",
    "plt.show()\n",
    "\n",
    "        "
   ]
  },
  {
   "cell_type": "code",
   "execution_count": null,
   "metadata": {},
   "outputs": [],
   "source": []
  }
 ],
 "metadata": {
  "kernelspec": {
   "display_name": "Python 3",
   "language": "python",
   "name": "python3"
  },
  "language_info": {
   "codemirror_mode": {
    "name": "ipython",
    "version": 3
   },
   "file_extension": ".py",
   "mimetype": "text/x-python",
   "name": "python",
   "nbconvert_exporter": "python",
   "pygments_lexer": "ipython3",
   "version": "3.8.5"
  },
  "vscode": {
   "interpreter": {
    "hash": "ee9c296264a8b6803c6844833b739715a1cce56a1764060cc50ddeae466ea71c"
   }
  }
 },
 "nbformat": 4,
 "nbformat_minor": 2
}
