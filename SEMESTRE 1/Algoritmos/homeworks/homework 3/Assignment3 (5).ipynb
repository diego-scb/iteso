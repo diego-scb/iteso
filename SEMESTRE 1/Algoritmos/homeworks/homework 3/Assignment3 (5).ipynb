{
 "cells": [
  {
   "cell_type": "markdown",
   "metadata": {},
   "source": [
    "# Optional assignment 1 (60 points)\n",
    "\n",
    "**Instructions:** Respond using summations to obtain the polynomial that allows calculating the final value of the variable \"count.\" Test your result. Simplify the answer as much as possible in terms of  $c1x^2+c2x+c$\n",
    "\n",
    "You must show the steps in the notebook (no images) using this notation:\n",
    "$\\begin{aligned}\n",
    "    \\sum_{i=0}^{n-2} \\sum_{j=i+1}^{n-1} 1 &= \\sum_{i=0}^{n-2}(n-1-(i+1)+1)   \\\\\n",
    "                                          &= \\sum_{i=0}^{n-2}(n-1-i-1+1)   \\\\\n",
    "                                          \\\\                                       \n",
    "\\end{aligned}$"
   ]
  },
  {
   "cell_type": "markdown",
   "metadata": {},
   "source": [
    "# Exercise 1"
   ]
  },
  {
   "cell_type": "code",
   "execution_count": 18,
   "metadata": {},
   "outputs": [
    {
     "name": "stdout",
     "output_type": "stream",
     "text": [
      "n = 10, count = 42\n",
      "n = 20, count = 187\n",
      "n = 100, count = 4947\n",
      "n = 200, count = 19897\n"
     ]
    }
   ],
   "source": [
    "# (15 points)\n",
    "# obtain the value of the variable \"count\"\n",
    "def exercise1(n):\n",
    "    count = 0\n",
    "    for i in range(1, n-2):\n",
    "        for j in range(i-1, n-1):\n",
    "            count += 1\n",
    "    \n",
    "    print(\"n = {}, count = {}\".format(n, count))\n",
    "\n",
    "exercise1(10)\n",
    "exercise1(20)\n",
    "exercise1(100)\n",
    "exercise1(200)"
   ]
  },
  {
   "cell_type": "markdown",
   "metadata": {},
   "source": [
    "**Answer:**\n",
    "\n",
    "- Here write the procedure \n",
    "\n",
    "$\\begin{aligned}\n",
    "    \\sum_{i=1}^{n-3} \\sum_{j=i-1}^{n-2} 1 &= \\sum_{i=1}^{n-3}(n - 2 - (i - 1) + 1)   \\\\\n",
    "                                          &= \\sum_{i=1}^{n-3}(n - 2 - i + 1 + 1)   \\\\\n",
    "                                          &= \\sum_{i=1}^{n-3}(n - i)   \\\\\n",
    "                                          &= \\sum_{i=1}^{n-3}n - \\sum_{i=1}^{n-3}i   \\\\\n",
    "                                          &= n \\times \\sum_{i=1}^{n-3}1 - \\sum_{i=1}^{n-3}i   \\\\\n",
    "                                          &= n \\times (n-3) - \\frac{(n-3)\\times(n-2)}{2}  \\\\\n",
    "                                          &= (n-3)\\times \\left(n - \\frac{(n-2)}{2}\\right) \\\\\n",
    "                                          &= (n-3)\\times \\left(\\frac{n}{2} + 1\\right) \\\\\n",
    "                                          &= \\frac{n^2}{2} + n - \\frac{3n}{2} - 3 \\\\\n",
    "                                          &= \\frac{n^2}{2} - \\frac{n}{2} - 3 \\\\\n",
    "                                         \\\\                                         \n",
    "\\end{aligned}$"
   ]
  },
  {
   "cell_type": "code",
   "execution_count": 6,
   "metadata": {},
   "outputs": [
    {
     "name": "stdout",
     "output_type": "stream",
     "text": [
      "42.0\n",
      "187.0\n",
      "4947.0\n",
      "19897.0\n"
     ]
    }
   ],
   "source": [
    "\n",
    "#Test your result here.\n",
    "def test1(n):\n",
    "    ret = (n**2 - n)/2 - 3\n",
    "    print(ret) #change this with your result\n",
    "\n",
    "test1(10)\n",
    "test1(20)\n",
    "test1(100)\n",
    "test1(200)"
   ]
  },
  {
   "cell_type": "markdown",
   "metadata": {},
   "source": [
    "\n",
    "# Exercise 2\n",
    "\n"
   ]
  },
  {
   "cell_type": "code",
   "execution_count": 20,
   "metadata": {},
   "outputs": [
    {
     "name": "stdout",
     "output_type": "stream",
     "text": [
      "n = 10, count = 22\n",
      "n = 20, count = 77\n",
      "n = 50, count = 442\n",
      "n = 100, count = 1717\n",
      "n = 200, count = 6767\n"
     ]
    }
   ],
   "source": [
    "# (20 points)\n",
    "# Obtain the value of the variable \"count\"\n",
    "import math\n",
    "\n",
    "def exercise2(n): \n",
    "    count = 0\n",
    "    for i in range(n):\n",
    "        count += 1/3\n",
    "        for j in range(i, n):\n",
    "            count += 1/3\n",
    "        \n",
    "    print(\"n = {}, count = {}\".format(n, math.ceil(count)))\n",
    "\n",
    "exercise2(10)\n",
    "exercise2(20)\n",
    "exercise2(50)\n",
    "exercise2(100)\n",
    "exercise2(200)\n",
    "\n",
    "\n"
   ]
  },
  {
   "cell_type": "markdown",
   "metadata": {},
   "source": [
    "**Answer:**\n",
    "- here the procedure\n",
    "\n",
    "$\\begin{aligned}\n",
    "    \\sum_{i=0}^{n-1} \\left(\\frac{1}{3} +  \\sum_{j=i}^{n-1} \\frac{1}{3} \\right) &= \\sum_{i=0}^{n-1}\\frac{1}{3} \\times(1 + (n - 1 - i + 1))   \\\\\n",
    "    &= \\frac{1}{3} \\times \\left(\\sum_{i=0}^{n-1} n - i + 1 \\right)   \\\\\n",
    "    &= \\frac{1}{3} \\times \\left(\\sum_{i=0}^{n-1} (n + 1) - \\sum_{i=0}^{n-1} i \\right)   \\\\\n",
    "    &= \\frac{1}{3} \\times \\left( n \\times(n + 1) - \\frac{(n-1) \\times n}{2} \\right)   \\\\\n",
    "    &= \\frac{n}{3} \\times \\left(n + 1 - \\frac{n-1}{2} \\right)   \\\\\n",
    "    &= \\frac{n}{3} \\times \\left(\\frac{n+3}{2} \\right)   \\\\\n",
    "    &= \\frac{n^2+3n}{6}   \\\\\n",
    "    &= \\frac{n^2}{6} + \\frac{n}{2}   \n",
    "                                         \\\\                                         \n",
    "\\end{aligned}$\n"
   ]
  },
  {
   "cell_type": "code",
   "execution_count": 7,
   "metadata": {},
   "outputs": [
    {
     "name": "stdout",
     "output_type": "stream",
     "text": [
      "22\n",
      "77\n",
      "442\n",
      "1717\n",
      "6767\n"
     ]
    }
   ],
   "source": [
    "import math\n",
    "#Test your result here.\n",
    "def test2(n):\n",
    "    \n",
    "    ret = (n**2 + 3*n)/6\n",
    "    print(math.ceil(ret)) #change this with your result\n",
    "\n",
    "test2(10)\n",
    "test2(20)\n",
    "test2(50)\n",
    "test2(100)\n",
    "test2(200)"
   ]
  },
  {
   "cell_type": "markdown",
   "metadata": {},
   "source": [
    "# Exercise 3\n"
   ]
  },
  {
   "cell_type": "code",
   "execution_count": 12,
   "metadata": {},
   "outputs": [
    {
     "name": "stdout",
     "output_type": "stream",
     "text": [
      "n = 10, count = 220\n",
      "n = 20, count = 1540\n",
      "n = 50, count = 22100\n",
      "n = 100, count = 171700\n",
      "n = 200, count = 1353400\n"
     ]
    }
   ],
   "source": [
    "#(25 points)\n",
    "# Obtain the value of the variable \"count\"\n",
    "# tip: refer to the session 2 form for $ \\sum{i^2}$ \n",
    "\n",
    "def exercise3(n):\n",
    "    count = 0\n",
    "    for i in range(n):\n",
    "        for j in range(i, n):\n",
    "            for k in range(j, n): \n",
    "                count += 1\n",
    "                \n",
    "    print(\"n = {}, count = {}\".format(n, count))\n",
    "\n",
    "exercise3(10)\n",
    "exercise3(20)\n",
    "exercise3(50)\n",
    "exercise3(100)\n",
    "exercise3(200)\n",
    "\n",
    "\n"
   ]
  },
  {
   "cell_type": "markdown",
   "metadata": {},
   "source": [
    "**Answer:**\n",
    "- here the procedure\n",
    "\n",
    "\n",
    "$\\begin{aligned}\n",
    "    \\sum_{i=0}^{n-1} \\left(\\sum_{j=i}^{n-1} \\left( \\sum_{k=j}^{n-1}1\\right) \\right) &= \\sum_{i=0}^{n-1} \\left(\\sum_{j=i}^{n-1}  n - 1 - j + 1 \\right) \\\\ \n",
    "    &= \\sum_{i=0}^{n-1} \\left(\\sum_{j=i}^{n-1}  n - j \\right) \\\\ \n",
    "    &= \\sum_{i=0}^{n-1} \\left(\\sum_{j=i}^{n-1}(n) - \\sum_{j=i}^{n-1}(j) \\right) \\\\ \n",
    "    &= \\sum_{i=0}^{n-1} \\left(n \\times (n - 1 - i + 1) - \\frac{(n - 1 - i + 1) \\times (n - 1 + i)}{2} \\right) \\\\ \n",
    "    &= \\sum_{i=0}^{n-1} \\left(n \\times (n - i) - \\frac{(n - i) \\times (n - 1 + i)}{2} \\right) \\\\ \n",
    "    &= \\sum_{i=0}^{n-1} \\left( (n - i) \\times \\left( n - \\frac{n - 1 + i}{2} \\right) \\right) \\\\\n",
    "    &= \\sum_{i=0}^{n-1} \\left( (n - i) \\times \\frac{n + 1 - i}{2} \\right) \\\\\n",
    "    &= \\sum_{i=0}^{n-1} \\left( \\frac{(n - i) \\times (n + 1 - i)}{2} \\right) \\\\\n",
    "    &= \\sum_{i=0}^{n-1} \\left( \\frac{n^2 + n - n \\times i - i \\times n - i + i^2)}{2} \\right) \\\\\n",
    "    &= \\sum_{i=0}^{n-1} \\left( \\frac{n^2 + n}{2} \\right) - \\sum_{i=0}^{n-1} \\left( \\frac{n \\times i + i \\times n + i - i^2}{2} \\right) \\\\\n",
    "    &= n \\times \\left( \\frac{n^2 + n}{2} \\right) - \\sum_{i=0}^{n-1} \\frac{2 \\times n + 1}{2} \\times i) + \\sum_{i=0}^{n-1} \\left( \\frac{i^2}{2} \\right)\\\\\n",
    "    &= \\frac{n \\times (n^2 + n)}{2} - (n + \\frac{1}{2}) \\times \\frac{(n-1) \\times n}{2} + \\frac{(n-1) \\times n \\times (2 \\times (n - 1) + 1)}{12}\\\\\n",
    "    &= \\frac{n}{2} \\times \\left(n^2 + n - (n + \\frac{1}{2}) \\times (n-1) + \\frac{(n-1) \\times (2 \\times n - 1)}{6} \\right)\\\\\n",
    "    &= \\frac{n}{2} \\times \\left(n^2 + n  + (n-1) \\times \\left(\\frac{2 \\times n - 1}{6} - n - \\frac{1}{2}\\right) \\right)\\\\\n",
    "    &= \\frac{n}{2} \\times \\left(n^2 + n  + (n-1) \\times \\left(\\frac{2 \\times n - 1 - 6 \\times n - \\frac{6}{2}}{6}\\right) \\right)\\\\\n",
    "    &= \\frac{n}{2} \\times \\left(n^2 + n  + (n-1) \\times \\left(\\frac{-4 \\times n - 4}{6} \\right) \\right)\\\\\n",
    "    &= \\frac{n}{2} \\times \\left(n^2 + n  - \\frac{(n-1) \\times (2 \\times n + 2)}{3} \\right)\\\\\n",
    "    &= \\frac{n}{2} \\times \\left(n^2 + n  - \\frac{2 \\times n^2 + 2 \\times n - 2 \\times n - 2}{3} \\right)\\\\\n",
    "    &= \\frac{n}{2} \\times \\left(n^2 + n  - \\frac{2 \\times n^2 - 2}{3} \\right)\\\\\n",
    "    &= \\frac{n}{6} \\times (3 \\times n^2 + 3 \\times n  - (2 \\times n^2 - 2))\\\\\n",
    "    &= \\frac{n}{6} \\times (n^2 + 3 \\times n + 2)\\\\\n",
    "    &= \\frac{n^3 + 3 \\times n^2 + 2 \\times n}{6}\\\\\n",
    "    &= \\frac{n^3}{6} + \\frac{n^2}{2} + \\frac{n}{3}\\\\\n",
    "                                         \\\\                                         \n",
    "\\end{aligned}$\n",
    "\n",
    "\n"
   ]
  },
  {
   "cell_type": "code",
   "execution_count": 36,
   "metadata": {},
   "outputs": [
    {
     "name": "stdout",
     "output_type": "stream",
     "text": [
      "220.0\n",
      "1540.0\n",
      "22100.0\n",
      "171700.0\n",
      "1353400.0\n"
     ]
    }
   ],
   "source": [
    "#Test your result here.\n",
    "def test2(n):\n",
    "    f = ((n**3) + 3*(n**2) + 2*n)/6\n",
    "    print(f) #change this with your result\n",
    "\n",
    "test2(10)\n",
    "test2(20)\n",
    "test2(50)\n",
    "test2(100)\n",
    "test2(200)"
   ]
  },
  {
   "cell_type": "code",
   "execution_count": null,
   "metadata": {},
   "outputs": [],
   "source": []
  }
 ],
 "metadata": {
  "kernelspec": {
   "display_name": "Python 3",
   "language": "python",
   "name": "python3"
  },
  "language_info": {
   "codemirror_mode": {
    "name": "ipython",
    "version": 3
   },
   "file_extension": ".py",
   "mimetype": "text/x-python",
   "name": "python",
   "nbconvert_exporter": "python",
   "pygments_lexer": "ipython3",
   "version": "3.8.5"
  }
 },
 "nbformat": 4,
 "nbformat_minor": 2
}
