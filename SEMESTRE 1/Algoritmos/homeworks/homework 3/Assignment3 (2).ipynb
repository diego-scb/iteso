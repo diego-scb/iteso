{
 "cells": [
  {
   "cell_type": "markdown",
   "metadata": {},
   "source": [
    "# Optional assignment 1 (60 points)\n",
    "\n",
    "**Instructions:** Respond using summations to obtain the polynomial that allows calculating the final value of the variable \"count.\" Test your result. Simplify the answer as much as possible in terms of  $c1x^2+c2x+c$\n",
    "\n",
    "You must show the steps in the notebook (no images) using this notation:\n",
    "$\\begin{aligned}\n",
    "    \\sum_{i=0}^{n-2} \\sum_{j=i+1}^{n-1} 1 &= \\sum_{i=0}^{n-2}(n-1-(i+1)+1)   \\\\\n",
    "                                          &= \\sum_{i=0}^{n-2}(n-1-i-1+1)   \\\\\n",
    "                                         \\\\                                         \n",
    "\\end{aligned}$"
   ]
  },
  {
   "cell_type": "markdown",
   "metadata": {},
   "source": [
    "# Exercise 1"
   ]
  },
  {
   "cell_type": "code",
   "execution_count": 18,
   "metadata": {},
   "outputs": [
    {
     "name": "stdout",
     "output_type": "stream",
     "text": [
      "n = 10, count = 42\n",
      "n = 20, count = 187\n",
      "n = 100, count = 4947\n",
      "n = 200, count = 19897\n"
     ]
    }
   ],
   "source": [
    "# (15 points)\n",
    "# obtain the value of the variable \"count\"\n",
    "def exercise1(n):\n",
    "    count = 0\n",
    "    for i in range(1, n-2):\n",
    "        for j in range(i-1, n-1):\n",
    "            count += 1\n",
    "    \n",
    "    print(\"n = {}, count = {}\".format(n, count))\n",
    "\n",
    "exercise1(10)\n",
    "exercise1(20)\n",
    "exercise1(100)\n",
    "exercise1(200)"
   ]
  },
  {
   "cell_type": "markdown",
   "metadata": {},
   "source": [
    "**Answer:**\n",
    "\n",
    "- Here write the procedure "
   ]
  },
  {
   "cell_type": "code",
   "execution_count": 19,
   "metadata": {},
   "outputs": [
    {
     "name": "stdout",
     "output_type": "stream",
     "text": [
      "10\n",
      "20\n",
      "100\n",
      "200\n"
     ]
    }
   ],
   "source": [
    "\n",
    "#Test your result here.\n",
    "def test1(n):\n",
    "    print(n) #change this with your result\n",
    "\n",
    "test1(10)\n",
    "test1(20)\n",
    "test1(100)\n",
    "test1(200)"
   ]
  },
  {
   "cell_type": "markdown",
   "metadata": {},
   "source": [
    "\n",
    "# Exercise 2\n",
    "\n"
   ]
  },
  {
   "cell_type": "code",
   "execution_count": 20,
   "metadata": {},
   "outputs": [
    {
     "name": "stdout",
     "output_type": "stream",
     "text": [
      "n = 10, count = 22\n",
      "n = 20, count = 77\n",
      "n = 50, count = 442\n",
      "n = 100, count = 1717\n",
      "n = 200, count = 6767\n"
     ]
    }
   ],
   "source": [
    "# (20 points)\n",
    "# Obtain the value of the variable \"count\"\n",
    "import math\n",
    "\n",
    "def exercise2(n): \n",
    "    count = 0\n",
    "    for i in range(n):\n",
    "        count += 1/3\n",
    "        for j in range(i, n):\n",
    "            count += 1/3\n",
    "        \n",
    "    print(\"n = {}, count = {}\".format(n, math.ceil(count)))\n",
    "\n",
    "exercise2(10)\n",
    "exercise2(20)\n",
    "exercise2(50)\n",
    "exercise2(100)\n",
    "exercise2(200)\n",
    "\n",
    "\n"
   ]
  },
  {
   "cell_type": "markdown",
   "metadata": {},
   "source": [
    "**Answer:**\n",
    "- here the procedure\n",
    "\n"
   ]
  },
  {
   "cell_type": "code",
   "execution_count": 21,
   "metadata": {},
   "outputs": [
    {
     "name": "stdout",
     "output_type": "stream",
     "text": [
      "10\n",
      "20\n",
      "50\n",
      "100\n",
      "200\n"
     ]
    }
   ],
   "source": [
    "import math\n",
    "#Test your result here.\n",
    "def test2(n):\n",
    "    print(math.ceil(n)) #change this with your result\n",
    "\n",
    "test2(10)\n",
    "test2(20)\n",
    "test2(50)\n",
    "test2(100)\n",
    "test2(200)"
   ]
  },
  {
   "cell_type": "markdown",
   "metadata": {},
   "source": [
    "# Exercise 3\n"
   ]
  },
  {
   "cell_type": "code",
   "execution_count": 22,
   "metadata": {},
   "outputs": [
    {
     "name": "stdout",
     "output_type": "stream",
     "text": [
      "n = 10, count = 220\n",
      "n = 20, count = 1540\n",
      "n = 50, count = 22100\n",
      "n = 100, count = 171700\n",
      "n = 200, count = 1353400\n"
     ]
    }
   ],
   "source": [
    "#(25 points)\n",
    "# Obtain the value of the variable \"count\"\n",
    "# tip: refer to the session 2 form for $ \\sum{i^2}$ \n",
    "\n",
    "def exercise3(n):\n",
    "    count = 0\n",
    "    for i in range(n):\n",
    "        for j in range(i, n):\n",
    "            for k in range(j, n): \n",
    "                count += 1\n",
    "                \n",
    "    print(\"n = {}, count = {}\".format(n, count))\n",
    "\n",
    "exercise3(10)\n",
    "exercise3(20)\n",
    "exercise3(50)\n",
    "exercise3(100)\n",
    "exercise3(200)\n"
   ]
  },
  {
   "cell_type": "markdown",
   "metadata": {},
   "source": [
    "**Answer:**\n",
    "- here the procedure"
   ]
  },
  {
   "cell_type": "code",
   "execution_count": 23,
   "metadata": {},
   "outputs": [
    {
     "name": "stdout",
     "output_type": "stream",
     "text": [
      "10\n",
      "20\n",
      "50\n",
      "100\n",
      "200\n"
     ]
    }
   ],
   "source": [
    "#Test your result here.\n",
    "def test2(n):\n",
    "    print(n) #change this with your result\n",
    "\n",
    "test2(10)\n",
    "test2(20)\n",
    "test2(50)\n",
    "test2(100)\n",
    "test2(200)"
   ]
  }
 ],
 "metadata": {
  "kernelspec": {
   "display_name": "base",
   "language": "python",
   "name": "python3"
  },
  "language_info": {
   "codemirror_mode": {
    "name": "ipython",
    "version": 3
   },
   "file_extension": ".py",
   "mimetype": "text/x-python",
   "name": "python",
   "nbconvert_exporter": "python",
   "pygments_lexer": "ipython3",
   "version": "3.9.12"
  },
  "orig_nbformat": 4
 },
 "nbformat": 4,
 "nbformat_minor": 2
}
