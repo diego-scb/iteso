{
 "cells": [
  {
   "cell_type": "markdown",
   "metadata": {},
   "source": [
    "## Assignment 3  Solution"
   ]
  },
  {
   "cell_type": "markdown",
   "metadata": {},
   "source": [
    "Name or names:  Diego Santa Cruz"
   ]
  },
  {
   "cell_type": "markdown",
   "metadata": {},
   "source": [
    "**Instructions:** Perform the a priori analysis of algorithms in the best case (25 QuickSort + 25 MergeSort) and the a posteriori analysis to obtain the average case (25 QS + 25 MS) + 10 bonus points for completing the MergeSort. If you obtain more than 100, you will be capped at 100 points."
   ]
  },
  {
   "cell_type": "markdown",
   "metadata": {},
   "source": [
    "## QuickSort\n",
    "\n",
    "QuickSort is a sorting algorithm that involves taking the last element as the pivot, moving elements smaller than the pivot to the left and elements greater to the right. In the end, the pivot is placed between these two blocks, making it its final position, effectively sorting it. This process is repeated recursively for both the left and right sides (two recursive calls) until the entire array is sorted."
   ]
  },
  {
   "cell_type": "code",
   "execution_count": 22,
   "metadata": {
    "tags": []
   },
   "outputs": [
    {
     "data": {
      "text/plain": [
       "(27, 74)"
      ]
     },
     "execution_count": 22,
     "metadata": {},
     "output_type": "execute_result"
    }
   ],
   "source": [
    "def partition(arr, left, right, verbose):\n",
    "    global moves, comp\n",
    "    pivot = arr[right]\n",
    "    p1 = left -1\n",
    "    p2 = right\n",
    "    comp = comp + 1\n",
    "    while p1 <p2:\n",
    "        comp = comp + 1\n",
    "        p1+=1\n",
    "        p2-=1\n",
    "        comp = comp + 1\n",
    "        while arr[p1]<pivot: \n",
    "            p1+=1\n",
    "            comp = comp + 1\n",
    "        comp = comp + 1\n",
    "        while arr[p2]>pivot: \n",
    "            p2-=1\n",
    "            comp = comp + 1\n",
    "        comp = comp + 1\n",
    "        if p1 < p2:\n",
    "            arr[p1],arr[p2] = arr[p2], arr[p1]\n",
    "            moves = moves + 3\n",
    "            if verbose: print(arr,\"part\")\n",
    "    arr[p1], arr[right] = arr[right], arr[p1]\n",
    "    moves = moves + 3\n",
    "    if verbose: print(arr, \"full part\")\n",
    "    return p1\n",
    "\n",
    "def _quickSort(arr, left, right, verbose):\n",
    "    global moves, comp\n",
    "    if verbose: print(arr)\n",
    "    comp = comp + 1\n",
    "    if left >= right:  return \n",
    "    \n",
    "    p = partition(arr, left, right,verbose)\n",
    "    _quickSort(arr, left, p-1, verbose)\n",
    "    _quickSort(arr,p+1,right,verbose)\n",
    "\n",
    "def quickSort(arr,verbose=False):\n",
    "    global moves, comp\n",
    "    _quickSort(arr,0, len(arr)-1,verbose)\n",
    "    \n",
    "def quickSortCounts(arr, verbose=False):\n",
    "    global moves, comp\n",
    "    comp= 0\n",
    "    moves = 0\n",
    "    quickSort(arr, verbose)\n",
    "    return moves, comp\n",
    "    \n",
    "arr = [12,34,54,67,34,45,12,565,78,23]\n",
    "quickSortCounts(arr,False)"
   ]
  },
  {
   "cell_type": "markdown",
   "metadata": {},
   "source": [
    "\n",
    "### 1.1 Priori Analysis (Comparisons)\n",
    "\n",
    "**Best-case scenario in comparisons**: The best case scenario occurs when the partition always divides the array in the middle into two smaller arrays of the same size. In this case we do two recursive calls each time for each of the new arrays, where the search space is reduced in half. Therefore we are in case 4 from the slides, and we have a quasilinear complexity ($n*log(n)$) for the comparisons in the best case.\n",
    "\n",
    "**A priori best-case analysis (comparisons)**: (You may or may not use summations, but justify your response thoroughly, mentioning the partition and _quicksort functions)\n",
    "\n",
    "*justify it well, don't just say it's Case X from the slides, explain why it falls into that case.*\n"
   ]
  },
  {
   "cell_type": "markdown",
   "metadata": {},
   "source": [
    "### 1.2 A Posteriori Analysis\n",
    "\n",
    "- Modify the given algorithm to return the number of comparisons and movements.\n",
    "- Perform a priori analysis for random arrays of sizes 5 to 500 with increments of 5 and 100 runs for each array size.\n",
    "- Graph the movements and comparisons.\n",
    "- In the same graph, plot a line of $n log_2(n)$ to compare against the asymptote.\n"
   ]
  },
  {
   "cell_type": "code",
   "execution_count": 37,
   "metadata": {},
   "outputs": [],
   "source": [
    "# Here the code is completed to gather all the data for plotting\n",
    "\n",
    "# This function creates random arrays of size 'size' with values between minVal and maxVal\n",
    "import random \n",
    "def createIntArray(size, minVal, maxVal):\n",
    "    return [random.randint(minVal, maxVal) for x in range(size)]\n",
    "\n",
    "#---------------------------------------------------------------------\n",
    "\n",
    "''' minSize, maxSize: array sizes ranging from minSize to maxSize-1\n",
    "    step: interval between array sizes: minSize, minSize+step, minSize+step*2, ..., maxSize\n",
    "    runs: number of runs for each array size \n",
    "    Note: For each run, a random array is created and the sorting algorithm is executed'''\n",
    "    \n",
    "def dataToPlot(minSize=2, maxSize=100, step=1, runs=200, algorithm = quickSort):\n",
    "    totalC = []# An array to store the average comparisons for each array size\n",
    "    totalM = []# An array to store the average movements for each array size\n",
    "    \n",
    "    i=0\n",
    "    for n in range(minSize,maxSize, step):\n",
    "        totalC.append(0);\n",
    "        totalM.append(0);\n",
    "        for j in range(runs):\n",
    "            arr = createIntArray(n,-10000,10000)\n",
    "            cmp,mv = algorithm(arr,False)\n",
    "            totalC[i]+= cmp\n",
    "            totalM[i]+= mv\n",
    "           \n",
    "        totalC[i]=totalC[i]/runs;\n",
    "        totalM[i]=totalM[i]/runs;\n",
    "        i+= 1\n",
    "    return totalC, totalM\n"
   ]
  },
  {
   "cell_type": "code",
   "execution_count": 56,
   "metadata": {},
   "outputs": [
    {
     "name": "stdout",
     "output_type": "stream",
     "text": [
      "comparisons 0.002n^2+(5.404)n+(-61.417)\n",
      "moves 0.006n^2+(14.917)n+(-167.177)\n"
     ]
    },
    {
     "data": {
      "image/png": "[encoded data removed]",
      "text/plain": [
       "<Figure size 432x288 with 1 Axes>"
      ]
     },
     "metadata": {
      "needs_background": "light"
     },
     "output_type": "display_data"
    }
   ],
   "source": [
    "import numpy as np\n",
    "import math \n",
    "import matplotlib.pyplot as plt\n",
    "\n",
    "\n",
    "\n",
    "def plot_comparisons_and_moves_quickSort(minSize, maxSize, step, runs, algorithm):\n",
    "    C, M = dataToPlot(minSize, maxSize, step, runs, algorithm)\n",
    "\n",
    "    x=[x for x in range(minSize, maxSize, step)]\n",
    "    # x2=[0.2*x*x for x in range(minSize, maxSize, step)]\n",
    "    # xlgx=[x*math.log2(x) for x in range(minSize, maxSize, step)]\n",
    "\n",
    "    Cfit = np.polyfit(x, C, 2)\n",
    "    Cpoly = np.poly1d(Cfit)\n",
    "    Ccoefs = \"%.3fn^2+(%.3f)n+(%.3f)\"%(Cfit[0],Cfit[1],Cfit[2])\n",
    "\n",
    "    Mfit = np.polyfit(x, M, 2)\n",
    "    Mpoly = np.poly1d(Mfit)\n",
    "    Mcoefs = \"%.3fn^2+(%.3f)n+(%.3f)\"%(Mfit[0],Mfit[1],Mfit[2])\n",
    "    print (\"comparisons\", Ccoefs)\n",
    "    print (\"moves\", Mcoefs)\n",
    "\n",
    "   \n",
    "    plt.plot(x, C, 'g*', label=\"comparisons \") \n",
    "    plt.plot(x, Cpoly(x), 'g-', label=\"C=\"+Ccoefs) \n",
    "    plt.plot(x, M,'bs', label=\"moves\"+Mcoefs) \n",
    "    plt.plot(x, Mpoly(x), 'b-', label=\"M=\"+Mcoefs) \n",
    "    \n",
    "    z = [2*y*np.log2(y) for y in x]\n",
    "    w = [(2/3)*y*np.log2(y) for y in x]\n",
    "    plt.plot(x, z, label = \"$2n*log_{2}(n)$\")\n",
    "    plt.plot(x, w, label = \"$(2/3)*n*log_{2}(n)$\")\n",
    "    \n",
    "\n",
    "    plt.legend()\n",
    "    plt.show()\n",
    "    \n",
    "minSize = 5\n",
    "maxSize = 500\n",
    "step = 5\n",
    "runs = 100\n",
    "plot_comparisons_and_moves_quickSort(minSize, maxSize, step, runs, quickSortCounts)"
   ]
  },
  {
   "cell_type": "markdown",
   "metadata": {},
   "source": [
    "# MergeSort\n",
    "\n",
    "MergeSort involves recursively dividing the array into two parts until reaching an array of size 1. Then, the arrays are merged into a sorted array (left and right sides), repeating this process until the entire array is sorted.\n",
    "\n"
   ]
  },
  {
   "cell_type": "markdown",
   "metadata": {},
   "source": [
    "2.1 Complete the MergeSort code (follow the comments only) (10 Bonus Points for this task).\n",
    "\n"
   ]
  },
  {
   "cell_type": "code",
   "execution_count": 58,
   "metadata": {
    "tags": []
   },
   "outputs": [
    {
     "data": {
      "text/plain": [
       "(68, 83)"
      ]
     },
     "execution_count": 58,
     "metadata": {},
     "output_type": "execute_result"
    }
   ],
   "source": [
    "def merge(array1, array2, verbose=False):\n",
    "    global moves, comp\n",
    "    result=[]\n",
    "    a1Id =0  #array1\n",
    "    a2Id =0  #array2\n",
    "    totalLen = len(array1)+len(array2);\n",
    "    for i in range (totalLen):\n",
    "        comp = comp + 1\n",
    "        if a2Id == len(array2) :\n",
    "            result.append(array1[a1Id])\n",
    "            moves = moves + 1\n",
    "            a1Id+=1\n",
    "        elif a1Id == len(array1):\n",
    "            comp = comp + 1\n",
    "            result.append(array2[a2Id])\n",
    "            moves = moves + 1\n",
    "            a2Id+=1\n",
    "        elif array1[a1Id] < array2[a2Id]:\n",
    "            comp = comp + 2\n",
    "            result.append(array1[a1Id])\n",
    "            moves = moves + 1\n",
    "            a1Id+=1\n",
    "        else:\n",
    "            result.append(array2[a2Id])\n",
    "            moves = moves + 1\n",
    "            a2Id+=1\n",
    "    #if verbose: print(result)\n",
    "    return result\n",
    "\n",
    "def mergeSort(array, verbose=False):\n",
    "    global moves, comp\n",
    "    comp += 1    \n",
    "\n",
    "    #if verbose: print(array)\n",
    "    \n",
    "    # Termination condition: return the array if its size is 1\n",
    "    if len(array) <= 1:\n",
    "        return array\n",
    "    # Get the midpoint\n",
    "    mid = len(array)//2\n",
    "    # Split the array into two: arrL and arrR\n",
    "   \n",
    "    arrL = array[:mid]# Left array\n",
    "    arrR = array[mid:] # Right array\n",
    "    moves = moves + len(array)\n",
    "    \n",
    "    # Call mergeSort recursively and obtain arrLSorted\n",
    "    arrLSorted = mergeSort(arrL, verbose)\n",
    "    # Call mergeSort recursively and obtain arrRSorted\n",
    "    arrRSorted = mergeSort(arrR, verbose)\n",
    "    # Return the merge\n",
    "    return merge(arrLSorted, arrRSorted, verbose)\n",
    "\n",
    "def mergeSortCounts(array, verbose = False):\n",
    "    global moves, comp\n",
    "    moves = comp = 0\n",
    "    mergeSort(array, False)\n",
    "    return moves,comp\n",
    "\n",
    "moves = 0\n",
    "comp = 0\n",
    "\n",
    "arr = [12,34,54,67,34,45,12,565,78,23]\n",
    "mergeSortCounts(arr, False) \n",
    "\n"
   ]
  },
  {
   "cell_type": "markdown",
   "metadata": {},
   "source": [
    "2.2 Priori Analysis for Comparisons\n",
    "\n",
    "In every case it has to do the same number of comparisons. And in each recursion, two new recursions arr called after creating arrL and arrR. And in each merge call, a linear number of comparisons is made. Therefore we are in case 4 from the slides and the complexity for the comparisons is $n*log(n)$.\n",
    "\n",
    "\n",
    "*Your response here, justify it well, don't just say it's Case X from the slides, explain why it falls into that case.*\n",
    "\n"
   ]
  },
  {
   "cell_type": "markdown",
   "metadata": {},
   "source": [
    "2.3 A Posteriori Analysis\n",
    "\n",
    "*Do something similar to the a posteriori analysis of QuickSort.*\n"
   ]
  },
  {
   "cell_type": "code",
   "execution_count": 43,
   "metadata": {},
   "outputs": [
    {
     "name": "stdout",
     "output_type": "stream",
     "text": [
      "comparisons 0.007n^2+(15.077)n+(-194.899)\n",
      "moves 0.007n^2+(16.316)n+(-192.575)\n"
     ]
    },
    {
     "data": {
      "image/png": "[encoded data removed]",
      "text/plain": [
       "<Figure size 432x288 with 1 Axes>"
      ]
     },
     "metadata": {
      "needs_background": "light"
     },
     "output_type": "display_data"
    }
   ],
   "source": [
    "def plot_comparisons_and_moves_mergeSort(minSize, maxSize, step, runs, algorithm):\n",
    "    C, M = dataToPlot(minSize, maxSize, step, runs, algorithm)\n",
    "\n",
    "    x=[x for x in range(minSize, maxSize, step)]\n",
    "    # x2=[0.2*x*x for x in range(minSize, maxSize, step)]\n",
    "    # xlgx=[x*math.log2(x) for x in range(minSize, maxSize, step)]\n",
    "\n",
    "    Cfit = np.polyfit(x, C, 2)\n",
    "    Cpoly = np.poly1d(Cfit)\n",
    "    Ccoefs = \"%.3fn^2+(%.3f)n+(%.3f)\"%(Cfit[0],Cfit[1],Cfit[2])\n",
    "\n",
    "    Mfit = np.polyfit(x, M, 2)\n",
    "    Mpoly = np.poly1d(Mfit)\n",
    "    Mcoefs = \"%.3fn^2+(%.3f)n+(%.3f)\"%(Mfit[0],Mfit[1],Mfit[2])\n",
    "    print (\"comparisons\", Ccoefs)\n",
    "    print (\"moves\", Mcoefs)\n",
    "\n",
    "   \n",
    "    plt.plot(x, C, 'g*', label=\"comparisons \") \n",
    "    plt.plot(x, Cpoly(x), 'g-', label=\"C=\"+Ccoefs) \n",
    "    plt.plot(x, M,'bs', label=\"moves\"+Mcoefs) \n",
    "    plt.plot(x, Mpoly(x), 'b-', label=\"M=\"+Mcoefs) \n",
    "    \n",
    "    z = [2*y*np.log2(y) for y in x]\n",
    "    \n",
    "    plt.plot(x, z, label = \"$2n*log_{2}(n)$\")\n",
    "\n",
    "    plt.legend()\n",
    "\n",
    "\n",
    "minSize = 5\n",
    "maxSize = 500\n",
    "step = 5\n",
    "runs = 100\n",
    "plot_comparisons_and_moves_mergeSort(minSize, maxSize, step, runs, mergeSortCounts)"
   ]
  },
  {
   "cell_type": "markdown",
   "metadata": {},
   "source": [
    "**QuickSort vs MergeSort** \n",
    "\n",
    "In conclusion (not an exercise), I mention some advantages I found for each algorithm as a QuickSort vs. MergeSort comparison:\n",
    "\n",
    "- Quicksort has better locality of reference than mergesort, which means that the accesses performed in quicksort are usually faster than the corresponding accesses in mergesort.\n",
    "- Quicksort uses worst-case O(log n) generated memory (if implemented correctly), while mergesort requires O(n) memory due to the overhead of merging.\n",
    "- Quicksort is more efficient and works faster than merge sort in case of smaller array size or datasets\n",
    "- Quick sort is preferred for arrays. \n",
    "- Merge sort is preferred for linked lists.\n",
    "- MergeSort is stable by design, equal elements keep their original order.\n",
    "- MergeSort is well suited to be implemented parallel (multithreading).\n",
    "- MergeSort uses (about 30%) less comparisons than QuickSort. This is an often overlooked advantage, because a comparison can be quite expensive (e.g. when comparing several fields of database rows)."
   ]
  },
  {
   "cell_type": "code",
   "execution_count": null,
   "metadata": {},
   "outputs": [],
   "source": []
  }
 ],
 "metadata": {
  "kernelspec": {
   "display_name": "Python 3",
   "language": "python",
   "name": "python3"
  },
  "language_info": {
   "codemirror_mode": {
    "name": "ipython",
    "version": 3
   },
   "file_extension": ".py",
   "mimetype": "text/x-python",
   "name": "python",
   "nbconvert_exporter": "python",
   "pygments_lexer": "ipython3",
   "version": "3.8.5"
  }
 },
 "nbformat": 4,
 "nbformat_minor": 2
}
