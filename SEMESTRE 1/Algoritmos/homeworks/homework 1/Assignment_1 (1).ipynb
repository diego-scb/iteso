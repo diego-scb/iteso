{
 "cells": [
  {
   "cell_type": "markdown",
   "metadata": {},
   "source": [
    "# Assignment 1. Analysis and Design of Algorithms\n"
   ]
  },
  {
   "cell_type": "markdown",
   "metadata": {},
   "source": [
    "**Instructions**: Indicate the time and space complexity for each exercise and briefly and clearly justify your answer. Modify the corresponding cell to input your response. In this task, input size is also considered for space complexity. Each exercise is worth 10 points (except the last one). If you get more than 100 points, your grade will be 100. "
   ]
  },
  {
   "cell_type": "markdown",
   "metadata": {},
   "source": [
    "## Exercise 1:\n",
    "Obtain the common elements of 2 unordered arrays with non-repeated values.\n",
    "\n",
    "**Time**:\n",
    "- Complexity: QUADRATIC\n",
    "- Justification: Assume one of our arrays L1 has n1 elements and the other L2 has n2 elements. We must first assign a value to n1 and then another to n2. Than we must check an if statement. Than we must perform $min(n1, n2)$ cycles of a for loop. In each cycle we must check an $\\texttt{if}$ statement and then at worst append one element to a list. However in the $\\texttt{if}$ statement we must actually check if our element e is equal to any of the elements in L2, so we actually have a nested loop there. So in each cycle of the $\\texttt{for}$ loop we perform $n2 +1$ operations. Assuming both lists are approximately the same size N, we must therefore perform at worst $N^2 + N + 2$ operations\n",
    "\n",
    "**Space**:\n",
    "- Complexity: LINEAR\n",
    "- Justification: Let's assume both arrays are of approximately of the same size N. We therefore start with 2*N space used by the input. Then we must store the values of n1 and n2. Then we must at worst store min(n1,n2) ~ N values in our new list L. So we need 3*N +2 spaces.\n"
   ]
  },
  {
   "cell_type": "code",
   "execution_count": 22,
   "metadata": {},
   "outputs": [],
   "source": [
    "def common(L1, L2):\n",
    "    L = []\n",
    "    \n",
    "    n1 = len(L1)\n",
    "    n2 = len(L2)\n",
    "    \n",
    "    if n1 =< n2:\n",
    "    \n",
    "        for e in L1:\n",
    "            if e in L2:\n",
    "                L.append(e)\n",
    "    else: \n",
    "        for e in L2:\n",
    "            if e in L1:\n",
    "                L.append(e)\n",
    "            \n",
    "    return L"
   ]
  },
  {
   "cell_type": "code",
   "execution_count": 23,
   "metadata": {},
   "outputs": [
    {
     "data": {
      "text/plain": [
       "[1, 3, 5, 7]"
      ]
     },
     "execution_count": 23,
     "metadata": {},
     "output_type": "execute_result"
    }
   ],
   "source": [
    "L1 = [1,2,3,4,5,6,7,8]\n",
    "L2 = [1,3,5,7,9,11,13,15]\n",
    "\n",
    "common(L1, L2)"
   ]
  },
  {
   "cell_type": "code",
   "execution_count": null,
   "metadata": {},
   "outputs": [],
   "source": []
  },
  {
   "cell_type": "markdown",
   "metadata": {},
   "source": [
    "# Exercise 2:\n",
    "Calculation of the statistical mode in an unordered list of integers.\n",
    "\n",
    "**Time**:\n",
    "- Complexity: LINEAR\n",
    "- Justification: If we assume our unordered list has n elements: in the first $\\texttt{for}$ loop, we must first check the $\\texttt{if}$ statement, and then in the worst case do a sum and then an assignment. So 3 operations in each cycle of the loop, so $3*n*$ for the first $\\texttt{for}$ loop. Then we must assign a value to m, which is a constant and we already have a linear term so we will ignore this. Then there is the next loop, which at worst will be iterated n times if all the elements in the original list were different. Each cycle, we must first check the $\\texttt{if}$ statement. Then in the worst case were the values in the dictionary are arranged in increasing order, we must assign a value to m each cycle. Note that the two worst cases we just described cannot happen simultaneously, but I don't know what the real worst case would be generally but it would be better than this. So we will say that in this loop we performed at worst $2*n$ operations.  In the final loop, we perform again at worst n cycles if all the elements in the original list are different. Than we check $\\texttt{if}$ statement, and in the worst case assign a new value to m each time. So here there would be $2*n$ operations. So in total we have, without counting the constant operations, at worst $7*n$ operations. \n",
    "\n",
    "**Space**:\n",
    "- Complexity: LINEAR\n",
    "- Justification: Assume our list has N elements. In the first $\\texttt{for}$ loop, at worst, we will have to store all the elements in L separately in our dictionnary. Then we must store the value of m. In the second $\\texttt{for}$ loop no new storage will be created. In the third $\\texttt{for}$ loop, we will perform at worst N cycles in the case where all the elements in L are different. This is also the worst case for the rest of the loop: m will be equal to 1, and the value for all the keys will be 1, so we must append all the elements to our $\\texttt{ret}$ list. Therefore we need $2*N+1$ storage."
   ]
  },
  {
   "cell_type": "code",
   "execution_count": 20,
   "metadata": {},
   "outputs": [],
   "source": [
    "def mode(L):\n",
    "    D = {}\n",
    "    for e in L:\n",
    "        if e in D.keys():\n",
    "            D[e] = D[e] + 1\n",
    "        else:\n",
    "            D[e] = 1\n",
    "            \n",
    "    m = 0\n",
    "    for k in D.keys():\n",
    "        if D[k] > m:\n",
    "            m = D[k]\n",
    "    \n",
    "    ret = []\n",
    "    for k in D.keys():\n",
    "        if D[k] == m:\n",
    "            ret.append(k)\n",
    "    \n",
    "    \n",
    "    \n",
    "    return ret"
   ]
  },
  {
   "cell_type": "code",
   "execution_count": 21,
   "metadata": {},
   "outputs": [
    {
     "data": {
      "text/plain": [
       "['a', 'b']"
      ]
     },
     "execution_count": 21,
     "metadata": {},
     "output_type": "execute_result"
    }
   ],
   "source": [
    "L = [\"a\", \"b\", \"c\", \"b\", \"c\", \"b\", \"a\",\"a\"]\n",
    "mode(L)"
   ]
  },
  {
   "cell_type": "markdown",
   "metadata": {},
   "source": [
    "## Exercise 3:\n",
    "Matrix multiplication of square matrices.\n",
    "\n",
    "**Time**:\n",
    "- Complexity: CUBIC\n",
    "- Justification: Let's assume NxN to be the size of our matrixes. We first have to call the $\\texttt{len()}$ function, which I think probably takes N operations. Then we have to start a $\\texttt{for}$ loop with N cycles. In each cycle we append an empty list to C and then start another $\\texttt{for}$ loop with n cycles. In each cycle of the second loop we append one element to a sublist of C and then start a thrif $\\texttt{for}$ loop with n cycles. In each cycle of the final loop we do one multiplication, one addition and one assignment. So we do in total $1 + N*(1+N*(1+N*(3))) = 3*N^3 + N^2 + N + 1$\n",
    "\n",
    "**Space**:\n",
    "- Complexity: CUBIC\n",
    "- Justification: Let's assume NxN to be the size of our matrixes. Our input needs 2*N^2 space for storage. The first step in the algorithm is to store the value of N. Then with the $\\texttt{for}$ loops we end up storing another matrix of size NxN. We also need one array of N elements in the first for loop, and N each cycle in the second for loop, and N in each cycle in the third for loop,  so in total we need $3*N^3 + 3*N^2 + 1$ space. \n"
   ]
  },
  {
   "cell_type": "code",
   "execution_count": 48,
   "metadata": {},
   "outputs": [],
   "source": [
    "def matmul(A,B):\n",
    "    N = len(A)\n",
    "    \n",
    "    C = []\n",
    "    \n",
    "    for i in range(N):\n",
    "        C .append([])\n",
    "        for j in range(N):\n",
    "            C[i].append(0)\n",
    "            for x in range(N):\n",
    "                C[i][j] = C[i][j] + A[i][x]*B[x][j]\n",
    "\n",
    "    return C\n",
    "            "
   ]
  },
  {
   "cell_type": "code",
   "execution_count": 49,
   "metadata": {},
   "outputs": [
    {
     "data": {
      "text/plain": [
       "[[19, 22], [43, 50]]"
      ]
     },
     "execution_count": 49,
     "metadata": {},
     "output_type": "execute_result"
    }
   ],
   "source": [
    "A = [[1,2],[3,4]]\n",
    "B = [[5,6],[7,8]]\n",
    "matmul(A,B)"
   ]
  },
  {
   "cell_type": "markdown",
   "metadata": {},
   "source": [
    "## Exercise 4:\n",
    "Counting prime numbers in the range [a…b].\n",
    "\n",
    "**Time**:\n",
    "- Complexity: LINEAR\n",
    "- Justification: Suppose N to be the number of integers in the range [a,...,b]. We first perform a loop with N cycles. In each cycle we first assign a value to the variable check, and then we start a loop with approximately $\\sqrt{c}$ cycles, where c is an element in [a,...,b]. In each cycle of the second loop we we perform 5 arithmetic operations, then check an if statement, and sometimes assign a value. In this for loop we perform at worst $6*\\sqrt{c}$ operations. Then we return to the first loop, check an if statement, and sometimes append a value to a list. So, if we assume $\\sqrt{c}$ to be close to $\\sqrt{\\frac{a+b}{2}}$, and we call $m = \\frac{a+b}{2}$, in total we perform $N*(1+ 6*\\sqrt{m} + 2) = (6*\\sqrt{m} + 3)*N$ operations. Since $\\sqrt{m}$ doesn't depend on the value of N, we will treat it like a constant, even though it also depends on the input.\n",
    "\n",
    "**Space**:\n",
    "- Complexity: LINEAR\n",
    "- Justification: We assume there to be N integers in the range [a,...,b]. First we need to store the check variable. Then each cycle we need to create a range with around $\\sqrt{c}$ elements, which we will approximate again by $\\sqrt{m}$. Then in the scond loop, each cycle we must store q, qint, and r. Finally we return to the first cycle where we might add an element in the range [a,...,b]. If at worst we add them all, we would then need $N*(1+\\sqrt{m} + \\sqrt{m}*(3) + 1) = (4*sqrt(m) + 2*)N$. Since $\\sqrt{m}$ doesn't depend on the value of N, we will treat it like a constant, even though it also depends on the input."
   ]
  },
  {
   "cell_type": "code",
   "execution_count": 70,
   "metadata": {},
   "outputs": [],
   "source": [
    "import numpy as np"
   ]
  },
  {
   "cell_type": "code",
   "execution_count": 100,
   "metadata": {},
   "outputs": [],
   "source": [
    "### If we had the prime factorization of a and b we might be able to use Euler's phi function, but since we don't:\n",
    "\n",
    "def primesin(a,b):\n",
    "    \n",
    "    L =[]\n",
    "    \n",
    "    for c in range(a, b+1):\n",
    "        check = 1\n",
    "        \n",
    "        for d in range(2, int(np.sqrt(c))+1):\n",
    "            \n",
    "            #r = c%d\n",
    "            \n",
    "            q = c/d\n",
    "            qint = int(q)\n",
    "            \n",
    "            r = c - qint*d\n",
    "\n",
    "            if r == 0:\n",
    "                check = 0\n",
    "        \n",
    "        if check == 1:\n",
    "            L.append(c)\n",
    "    \n",
    "    return L\n",
    "            "
   ]
  },
  {
   "cell_type": "code",
   "execution_count": 101,
   "metadata": {},
   "outputs": [
    {
     "data": {
      "text/plain": [
       "[53, 59, 61, 67, 71, 73, 79, 83, 89, 97]"
      ]
     },
     "execution_count": 101,
     "metadata": {},
     "output_type": "execute_result"
    }
   ],
   "source": [
    "primesin(50,100)"
   ]
  },
  {
   "cell_type": "markdown",
   "metadata": {},
   "source": [
    "## Exercise 5:\n",
    "Storing and displaying the results of dividing an integer by 6 until reaching 1. Assume the initial number is a power of 6.\n",
    "\n",
    "**Time**:\n",
    "- Complexity: LOGARTIHMIC\n",
    "- Justification: We first assign e the value of a. Then we start a loop which will have $log_{6}(a)$ cycles. In each cycle we perform a division, an assignment and then we desplay a result. So in total we will have $3*log_{6}(a) + 1$ operations\n",
    "\n",
    "**Space**:\n",
    "- Complexity: CONSTANT\n",
    "- Justification: We just need one storage space for the value of e.\n"
   ]
  },
  {
   "cell_type": "code",
   "execution_count": 103,
   "metadata": {},
   "outputs": [],
   "source": [
    "def six(a):\n",
    "    \n",
    "    e = a\n",
    "    \n",
    "    while e > 1:\n",
    "        e = e/6\n",
    "        print(e)\n",
    "    "
   ]
  },
  {
   "cell_type": "code",
   "execution_count": 105,
   "metadata": {},
   "outputs": [
    {
     "name": "stdout",
     "output_type": "stream",
     "text": [
      "279936.0\n",
      "46656.0\n",
      "7776.0\n",
      "1296.0\n",
      "216.0\n",
      "36.0\n",
      "6.0\n",
      "1.0\n"
     ]
    }
   ],
   "source": [
    "n = 8\n",
    "a = 6**n\n",
    "six(a)"
   ]
  },
  {
   "cell_type": "markdown",
   "metadata": {},
   "source": [
    "### Exercise 6:\n",
    "Finding the number of groupings of N digits (identical or different) that, when summed, are not greater than a value M. Consider, for example: $\\{0, 1, 2, 3\\} \\neq \\{1, 0, 2, 3\\}$.\n",
    "\n",
    "**Time**: LINEAR\n",
    "- Complexity: We do 1 assignment and perform M iterations in \"ejercicio6\". In each iteration we do 2 assignments, one sum and call \"groupings\". Ther we perform a nested loop with N-1 iterations, and m+1 operations. There we perform one assignment and one substraction, and we call groupings again. , till we do two extra operations in the else. Therefore the number of operations is of the order of $(1+M*(N*M/2 + 2)$ . If we take M as a constant and evaluate the complexity regarding N, we obtain a linear formula\n",
    "- Justification: *Replace with the answer*\n",
    "\n",
    "**Space**:\n",
    "- Complexity: *Replace with the answer*\n",
    "- Justification: We will have 1 + (M+1)(len(L)). I don't know how the len(L) evolves in relation to N."
   ]
  },
  {
   "cell_type": "code",
   "execution_count": 366,
   "metadata": {},
   "outputs": [
    {
     "data": {
      "text/plain": [
       "4"
      ]
     },
     "execution_count": 366,
     "metadata": {},
     "output_type": "execute_result"
    }
   ],
   "source": [
    "def groupings(m, k, l, L):\n",
    "    \n",
    "    if len(l) < k-1:\n",
    "        for i in range(0, m+1):\n",
    "            groupings(m-i, k, l+[i], L)\n",
    "    else:\n",
    "        L.append(l+[m])\n",
    "        #print(l+[m])\n",
    "    return L\n",
    "\n",
    "        \n",
    "len(groupings(3, 2, [], []))\n"
   ]
  },
  {
   "cell_type": "code",
   "execution_count": 367,
   "metadata": {},
   "outputs": [],
   "source": [
    "def ejercicio6(N,M):\n",
    "    \n",
    "    RET = 0\n",
    "    \n",
    "    for m in range(M):\n",
    "        number = len(groupings(m, N, [], []))\n",
    "\n",
    "        RET = RET + number\n",
    "\n",
    "    \n",
    "    return RET\n",
    "        \n",
    "    "
   ]
  },
  {
   "cell_type": "code",
   "execution_count": 368,
   "metadata": {},
   "outputs": [
    {
     "name": "stdout",
     "output_type": "stream",
     "text": [
      "0 1\n",
      "1\n",
      "1 2\n",
      "3\n",
      "2 3\n",
      "6\n",
      "3 4\n",
      "10\n"
     ]
    },
    {
     "data": {
      "text/plain": [
       "10"
      ]
     },
     "execution_count": 368,
     "metadata": {},
     "output_type": "execute_result"
    }
   ],
   "source": [
    "N = 2\n",
    "M = 4\n",
    "ejercicio6(N,M)"
   ]
  },
  {
   "cell_type": "markdown",
   "metadata": {},
   "source": [
    "**Instructions**: The Euclidean algorithm that calculates the greatest common divisor of two integers A, B is considered the first interesting algorithm in history because it efficiently solves this problem. The time and space complexity in the *worst case* are both O(log n). This occurs (the worst case) when A and B are two consecutive Fibonacci numbers. **Verify this complexity of the Euclidean algorithm with Fibonacci numbers practically**"
   ]
  },
  {
   "cell_type": "markdown",
   "metadata": {},
   "source": [
    "## Exercise 7:\n",
    "\n",
    "Implement the Euclidean algorithm in Python. Assume that A > B. (complete the missing code). The \"conteo\" refers to the number of times the function is entered recursively, in other words, it counts the number of divisions the algorithm performs to reach the answer.\n"
   ]
  },
  {
   "cell_type": "code",
   "execution_count": 281,
   "metadata": {},
   "outputs": [
    {
     "name": "stdout",
     "output_type": "stream",
     "text": [
      "result: 5\n",
      "count: 2\n"
     ]
    }
   ],
   "source": [
    "def gdc(a, b, count=0): # returns 2 values: the result and the count of function executions.\n",
    "    # complete the base case\n",
    "    if b == 0:\n",
    "        return a, count\n",
    "    else:\n",
    "        \n",
    "        q = a/b\n",
    "        qint = int(q)\n",
    "        r = a - qint*b\n",
    "        #r = a%b\n",
    "  \n",
    "        count += 1 \n",
    "        return  gdc(b,r,count)# complete with a recursive call\n",
    "\n",
    "res, cnt = gdc(15, 10)\n",
    "print(\"result:\", res)\n",
    "print(\"count:\", cnt)"
   ]
  },
  {
   "cell_type": "code",
   "execution_count": 282,
   "metadata": {},
   "outputs": [
    {
     "name": "stdout",
     "output_type": "stream",
     "text": [
      "gdc(15,10) OK\n",
      "gdc(20,32) OK\n",
      "gdc(24,18) OK\n",
      "gdc(80,60) OK\n",
      "gdc(83,79) OK\n",
      "gdc(80,40) OK\n",
      "\n",
      "\n",
      "2 1\n",
      "(1, 1)\n",
      "\n",
      "\n",
      "3 2\n",
      "(1, 2)\n",
      "\n",
      "\n",
      "5 3\n",
      "(1, 3)\n",
      "\n",
      "\n",
      "8 5\n",
      "(1, 4)\n",
      "\n",
      "\n",
      "13 8\n",
      "(1, 5)\n",
      "\n",
      "\n",
      "21 13\n",
      "(1, 6)\n",
      "\n",
      "\n",
      "34 21\n",
      "(1, 7)\n",
      "\n",
      "\n",
      "55 34\n",
      "(1, 8)\n",
      "\n",
      "\n",
      "89 55\n",
      "(1, 9)\n",
      "\n",
      "\n",
      "144 89\n",
      "(1, 10)\n",
      "\n",
      "\n",
      "233 144\n",
      "(1, 11)\n",
      "\n",
      "\n",
      "377 233\n",
      "(1, 12)\n",
      "\n",
      "\n",
      "610 377\n",
      "(1, 13)\n",
      "\n",
      "\n",
      "987 610\n",
      "(1, 14)\n",
      "\n",
      "\n",
      "1597 987\n",
      "(1, 15)\n"
     ]
    }
   ],
   "source": [
    "## check your code\n",
    "\n",
    "print(\"gdc(15,10)\",\"OK\" if gdc(15,10)== (5,2) else   \"ERROR\")\n",
    "print(\"gdc(20,32)\",\"OK\" if gdc(32,20)== (4,4) else   \"ERROR\")\n",
    "print(\"gdc(24,18)\",\"OK\" if gdc(24,18)== (6,2) else   \"ERROR\")\n",
    "print(\"gdc(80,60)\",\"OK\" if gdc(80,60)== (20,2) else  \"ERROR\")\n",
    "print(\"gdc(83,79)\",\"OK\" if gdc(83,79)== (1,4) else   \"ERROR\")\n",
    "print(\"gdc(80,40)\",\"OK\" if gdc(80,40)== (40,1) else  \"ERROR\")\n",
    "\n",
    "f = [1,1]\n",
    "\n",
    "#Verification of logarithmical complexity with Fibonacci numbers\n",
    "\n",
    "for i in range (15):\n",
    "    \n",
    "    f.append(f[-2]+f[-1])\n",
    "    print(\"\\n\")\n",
    "    print(f[-1],f[-2])\n",
    "    print(gdc(f[-1],f[-2]))\n",
    "    \n",
    "    \n",
    "\n",
    "\n"
   ]
  },
  {
   "cell_type": "markdown",
   "metadata": {},
   "source": [
    "## Exercise 8:\n",
    "\n",
    "Return 2 lists: the first n numbers of the Fibonacci series, where the first value in the list is 2, and the second list is the count.\n",
    "- Example: `fibonacciList(3)` returns `[2, 3, 5]` and `count` returns `[1, 2, 3]`.\n",
    "- Example: `fibonacciList(1)` returns `[2]` and `count` returns `[1]`.\n"
   ]
  },
  {
   "cell_type": "code",
   "execution_count": 283,
   "metadata": {},
   "outputs": [
    {
     "name": "stdout",
     "output_type": "stream",
     "text": [
      "[2, 3, 5, 8, 13, 21, 34, 55, 89, 144, 233, 377, 610, 987, 1597]\n",
      "[1, 2, 3, 4, 5, 6, 7, 8, 9, 10, 11, 12, 13, 14, 15]\n"
     ]
    }
   ],
   "source": [
    "def fibonacciList(n):\n",
    "    #complete code\n",
    "    L = [1,1]\n",
    "    gdcCount = []\n",
    "    \n",
    "    for i in range(n):\n",
    "        L.append(L[-2]+L[-1])\n",
    "        count = gdc(L[-1],L[-2])[1]\n",
    "        gdcCount.append(count)\n",
    "    \n",
    "    fibonacciValues = L[2:]\n",
    "        \n",
    "    \n",
    "    return fibonacciValues, gdcCount\n",
    "\n",
    "lFibonacciValues,lgdcCount= fibonacciList(15)\n",
    "print(lFibonacciValues)\n",
    "print(lgdcCount)"
   ]
  },
  {
   "cell_type": "markdown",
   "metadata": {},
   "source": [
    "## Exercise 9\n",
    "\n",
    "Plot (5 points) and display the trend of the GCD using the Fibonacci sequence as input. You should show the equation and display the trend line that fits the data. Research how to do this in Python. Example: $coeficient_0 log_2(n) + coeficient1$ (5 points)  Tip: search for numpy polyfit and poly1d\n"
   ]
  },
  {
   "cell_type": "code",
   "execution_count": 295,
   "metadata": {},
   "outputs": [
    {
     "name": "stdout",
     "output_type": "stream",
     "text": [
      "the following equation is verified by all the data points: \n",
      " \n",
      "    20             19             18            17             16\n",
      "1 x  - 4.636e+04 x  + 8.211e+08 x  - 7.27e+12 x  + 3.558e+16 x \n",
      "             15             14             13             12\n",
      " - 1.01e+20 x  + 1.707e+23 x  - 1.743e+26 x  + 1.084e+29 x \n",
      "              11             10             9             8\n",
      " - 4.129e+31 x  + 9.652e+33 x  - 1.386e+36 x + 1.221e+38 x\n",
      "             7             6             5             4             3\n",
      " - 6.59e+39 x + 2.167e+41 x - 4.308e+42 x + 5.102e+43 x - 3.509e+44 x\n",
      "              2\n",
      " + 1.337e+45 x - 2.555e+45 x + 1.879e+45 \n",
      " \n",
      " It has for roots all the data points. \n",
      " \n",
      " \n",
      "\n"
     ]
    },
    {
     "data": {
      "image/png": "[encoded data removed]",
      "text/plain": [
       "<Figure size 432x288 with 1 Axes>"
      ]
     },
     "metadata": {
      "needs_background": "light"
     },
     "output_type": "display_data"
    }
   ],
   "source": [
    "import matplotlib.pyplot as plt\n",
    "import numpy as np\n",
    "import math\n",
    "\n",
    "n = 20\n",
    "\n",
    "lFibonacciValues, lgdcCount = fibonacciList(n)\n",
    "plt.plot(lFibonacciValues, lgdcCount, 'g*', label=\"data\")\n",
    "\n",
    "\n",
    "\n",
    "# Get the trend line and coefficients. You can assume it's logarithmic.\n",
    "coefficients = np.polyfit(lFibonacciValues, lgdcCount, 1)\n",
    "line = np.poly1d(coefficients)\n",
    "eq = np.poly1d(lFibonacciValues, True)\n",
    "print(\"the following equation is verified by all the data points: \\n \\n\", eq, \"\\n \\n It has for roots all the data points. \\n \\n \\n\")\n",
    "\n",
    "#print(\"{} \\\\log_2(x) + {}\".format(coefficients[0], coefficients[1]))\n",
    "#print(line)\n",
    "\n",
    "\n",
    "plt.plot(lFibonacciValues, line(lFibonacciValues), label =\"trend line\")   # plot the fitting line\n",
    "plt.plot(lFibonacciValues, 2*np.log2(lFibonacciValues), label = \"g(x) = $2*log_{2}(x)$\")\n",
    "\n",
    "\n",
    "plt.title(\"the trend line follows: f(x) = {}$*x$ + {}\".format(coefficients[0], coefficients[1]))\n",
    "plt.legend()\n",
    "plt.show()\n",
    "\n",
    "\n"
   ]
  },
  {
   "cell_type": "markdown",
   "metadata": {},
   "source": [
    "## Exercise 10\n",
    "\n",
    "Using the obtained equation, demonstrate that $f(N) \\in O(\\log N)$.\n",
    "\n",
    "**Answer**:\n",
    "\n",
    "I think I need to obtain an equation verified by the data points, but I don't know how to obtain it. However, we can see on the graph that for a Fibonacci number N greater than, for example, $N_0 = 2500$, the iteration count is much lesser than $2*log_2 (N)$. and since each iteration has at most 5 operations, we can guess that maybe by taking $c_1 = 10$ and $N_0 = 2500$ we could prove that  $f(N) \\in O(\\log N)$.\n",
    "\n",
    "$f(N) = $\n",
    "\n",
    "$g(N) = $\n",
    "\n",
    "*complete*\n"
   ]
  },
  {
   "cell_type": "code",
   "execution_count": 214,
   "metadata": {},
   "outputs": [
    {
     "data": {
      "image/png": "[encoded data removed]",
      "text/plain": [
       "<Figure size 432x288 with 1 Axes>"
      ]
     },
     "metadata": {
      "needs_background": "light"
     },
     "output_type": "display_data"
    }
   ],
   "source": [
    "import math\n",
    "import numpy as np\n",
    "import matplotlib.pyplot as plt\n",
    "\n",
    "t = np.arange(0.1, 6., .1)\n",
    "c0lg2N = [2*math.log2(x) for x in t]\n",
    "gn = [1.44*math.log2(x)-0.34 for x in t]\n",
    "labels=[\"g(N)=2*log(N)\",\"f(N)=1.44*log(N)-0.34\"]\n",
    "\n",
    "plt.plot(t,c0lg2N,'g*', label=labels[0] )\n",
    "plt.plot(t,gn,'b-', label=labels[1] )\n",
    "plt.legend()\n",
    "plt.show()"
   ]
  },
  {
   "cell_type": "markdown",
   "metadata": {},
   "source": [
    "## Exercise 11 (15 points)\n",
    "\n",
    "- State the condition that A and B must satisfy to be considered the best case, assuming A > 0 and B > 0, and what is the complexity of the best case (5 Points)\n",
    "  - *Answer*: If we include the case where B can be equal to 0, that would be the best case and the temporal complexity would be constant as there is only one coditional statement to check before returning the output, and the spacial complexity would be constant also as there would only be the input to store. Excluding the case where B = 0, the best case would be one where B divides A, as in this case, in the algorithm in exercise 7, r would be equal to 0 after 1 iteration. Therefore by the next iteration we return to the case where B = 0. So all we have to check is the complexity throughout the first iteration. For the temporal complexity: we perform 5 operations in the first iteration, and 1 in the second. The temporal complexity is therefore also constant in the case where B divides A. For the spatial complexity: we store the input values, and q, qint, and r in the first iteration. So here the spatial complexity is also constant. Therefore we can conclude that in the bext case the complexity both spatial and temporal is constant.\n",
    "- Demonstrate whether $f(N)$ from the best case (previous point) belongs or does not belong to $\\Omega(\\log N)$ (10 points only if f(N) is correct).\n",
    "  - *Answer*: Let's take $f(N) = k$ where $k$ is a constant. Let's prove by contratiction that $f(N)$ does not belong to $\\Omega(\\log(N))$. If it did belong, than there would be a constant $c_1$ and an integer $N_0$ such that $f(N) > c_1 \\log(N)$ for all $N>N_0$. So $ \\frac{k}{c_1} > \\log(N)$ for all $N>N_0$. However $\\log$ is a strictly increasing function, and $c_0$ is a constant, so $k$ cannot be a constant and verifie this inequality. Therefore we have a contradiction and $f(N)$ does not belong in $\\Omega(\\log N)$.\n",
    "  \n",
    "  \n",
    "  than we can set a constant $c_0 = 2*k$ and an integer $N_0 = 1$ such that $f(N) < c_0 * log_2 (N)$ for all $N>N_0$. Therefore $f(N)$ belongs \n",
    "\n"
   ]
  },
  {
   "cell_type": "code",
   "execution_count": null,
   "metadata": {},
   "outputs": [],
   "source": []
  }
 ],
 "metadata": {
  "kernelspec": {
   "display_name": "Python 3",
   "language": "python",
   "name": "python3"
  },
  "language_info": {
   "codemirror_mode": {
    "name": "ipython",
    "version": 3
   },
   "file_extension": ".py",
   "mimetype": "text/x-python",
   "name": "python",
   "nbconvert_exporter": "python",
   "pygments_lexer": "ipython3",
   "version": "3.8.5"
  },
  "vscode": {
   "interpreter": {
    "hash": "ee9c296264a8b6803c6844833b739715a1cce56a1764060cc50ddeae466ea71c"
   }
  }
 },
 "nbformat": 4,
 "nbformat_minor": 4
}
