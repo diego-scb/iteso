{
 "cells": [
  {
   "cell_type": "code",
   "execution_count": 92,
   "metadata": {},
   "outputs": [],
   "source": [
    "def naturales(order):\n",
    "    nat = \"\"\n",
    "    for i in range(1,10**order):\n",
    "        nat = nat + str(i)\n",
    "    #print(nat)\n",
    "    return nat"
   ]
  },
  {
   "cell_type": "code",
   "execution_count": 478,
   "metadata": {},
   "outputs": [],
   "source": [
    "def digito(n, verbose=False):\n",
    "\n",
    "    if n < 9:\n",
    "        return str(n+1)\n",
    "\n",
    "    inf = 9\n",
    "    c = 1\n",
    "\n",
    "    while inf + 9 * (c+1) *10**(c) < n:\n",
    "        inf = inf + 9 * (c+1) *10**(c)\n",
    "        c = c + 1\n",
    "        #print(c, inf)\n",
    "\n",
    "    c = c + 1\n",
    "    m = n - inf\n",
    "    x = m // c\n",
    "    d_i = m % c\n",
    "    number = 10**(c-1) + x\n",
    "    #print(number, d_i)\n",
    "    digit = str(number)[d_i]\n",
    "\n",
    "    return digit"
   ]
  },
  {
   "cell_type": "code",
   "execution_count": 479,
   "metadata": {},
   "outputs": [],
   "source": [
    "order = 5\n",
    "word = naturales(order)\n",
    "\n",
    "for i in range(10**(order-1)):\n",
    "    d = digito(i)\n",
    "    if word[i] != d:\n",
    "        print(i, word[i], d)"
   ]
  },
  {
   "cell_type": "code",
   "execution_count": 480,
   "metadata": {},
   "outputs": [
    {
     "data": {
      "text/plain": [
       "'0'"
      ]
     },
     "execution_count": 480,
     "metadata": {},
     "output_type": "execute_result"
    }
   ],
   "source": [
    "word[205]"
   ]
  },
  {
   "cell_type": "code",
   "execution_count": 481,
   "metadata": {},
   "outputs": [
    {
     "data": {
      "text/plain": [
       "'0'"
      ]
     },
     "execution_count": 481,
     "metadata": {},
     "output_type": "execute_result"
    }
   ],
   "source": [
    "digito(205)"
   ]
  },
  {
   "cell_type": "code",
   "execution_count": 482,
   "metadata": {},
   "outputs": [
    {
     "data": {
      "text/plain": [
       "'9'"
      ]
     },
     "execution_count": 482,
     "metadata": {},
     "output_type": "execute_result"
    }
   ],
   "source": [
    "word[2048]"
   ]
  },
  {
   "cell_type": "code",
   "execution_count": 483,
   "metadata": {},
   "outputs": [
    {
     "data": {
      "text/plain": [
       "'9'"
      ]
     },
     "execution_count": 483,
     "metadata": {},
     "output_type": "execute_result"
    }
   ],
   "source": [
    "digito(2048)"
   ]
  },
  {
   "cell_type": "code",
   "execution_count": 485,
   "metadata": {},
   "outputs": [
    {
     "data": {
      "text/plain": [
       "'0'"
      ]
     },
     "execution_count": 485,
     "metadata": {},
     "output_type": "execute_result"
    }
   ],
   "source": [
    "digito(190)"
   ]
  },
  {
   "cell_type": "code",
   "execution_count": 486,
   "metadata": {},
   "outputs": [
    {
     "data": {
      "text/plain": [
       "'1'"
      ]
     },
     "execution_count": 486,
     "metadata": {},
     "output_type": "execute_result"
    }
   ],
   "source": [
    "digito(189)"
   ]
  },
  {
   "cell_type": "code",
   "execution_count": 489,
   "metadata": {},
   "outputs": [
    {
     "name": "stdout",
     "output_type": "stream",
     "text": [
      "2885 8\n",
      "2886 9\n",
      "2887 9\n",
      "2888 9\n",
      "2889 1\n",
      "2890 0\n",
      "2891 0\n",
      "2892 0\n",
      "2893 1\n",
      "2894 0\n"
     ]
    }
   ],
   "source": [
    "for i in range(2885, 2895):\n",
    "    print(i, digito(i))"
   ]
  },
  {
   "cell_type": "code",
   "execution_count": null,
   "metadata": {},
   "outputs": [],
   "source": []
  }
 ],
 "metadata": {
  "kernelspec": {
   "display_name": "Python 3",
   "language": "python",
   "name": "python3"
  },
  "language_info": {
   "codemirror_mode": {
    "name": "ipython",
    "version": 3
   },
   "file_extension": ".py",
   "mimetype": "text/x-python",
   "name": "python",
   "nbconvert_exporter": "python",
   "pygments_lexer": "ipython3",
   "version": "3.8.5"
  }
 },
 "nbformat": 4,
 "nbformat_minor": 2
}
