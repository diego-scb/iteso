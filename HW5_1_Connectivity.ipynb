{
 "cells": [
  {
   "cell_type": "code",
   "execution_count": 5,
   "metadata": {},
   "outputs": [],
   "source": [
    "import networkx as nx\n",
    "import matplotlib.pyplot as plt"
   ]
  },
  {
   "cell_type": "code",
   "execution_count": 8,
   "metadata": {},
   "outputs": [
    {
     "data": {
      "text/plain": [
       "['A', 'B', 'C', 'D', 'E']"
      ]
     },
     "execution_count": 8,
     "metadata": {},
     "output_type": "execute_result"
    }
   ],
   "source": [
    "def getNum(letter):\n",
    "    return ord(letter) - ord(\"A\")\n",
    "\n",
    "def getLetter(num):\n",
    "    return chr(num + ord(\"A\"))\n",
    "\n",
    "[getLetter(num) for num in range(5)]"
   ]
  },
  {
   "cell_type": "code",
   "execution_count": 14,
   "metadata": {},
   "outputs": [
    {
     "data": {
      "text/plain": [
       "[[False, True, False, False, False],\n",
       " [True, False, True, False, False],\n",
       " [False, True, False, False, False],\n",
       " [False, False, False, False, True],\n",
       " [False, False, False, True, False]]"
      ]
     },
     "execution_count": 14,
     "metadata": {},
     "output_type": "execute_result"
    },
    {
     "data": {
      "image/png": "[encoded data removed]",
      "text/plain": [
       "<Figure size 432x288 with 1 Axes>"
      ]
     },
     "metadata": {},
     "output_type": "display_data"
    }
   ],
   "source": [
    "V = 5\n",
    "E = 3\n",
    "edges = [(\"A\",\"B\"),(\"B\",\"C\"),(\"D\",\"E\")]\n",
    "\n",
    "def drawgraph(V, edges):\n",
    "    G = nx.Graph()\n",
    "    G.add_nodes_from([getLetter(num) for num in range(V)])\n",
    "    G.add_edges_from(edges)\n",
    "    nx.draw(G, with_labels=True)\n",
    "\n",
    "drawgraph(V, edges)\n",
    "\n",
    "def AdjacencyMatrix(V, edges):\n",
    "    graph = [[False]*V for _ in range(V) ]\n",
    "\n",
    "    for edge in edges:\n",
    "        X,Y = (edge)\n",
    "        i, j = getNum(X),getNum(Y)\n",
    "\n",
    "        graph[i][j] = True\n",
    "        graph[j][i] = True\n",
    "    return graph\n",
    "\n",
    "AdjacencyMatrix(V, edges)"
   ]
  },
  {
   "cell_type": "code",
   "execution_count": 49,
   "metadata": {},
   "outputs": [
    {
     "name": "stdout",
     "output_type": "stream",
     "text": [
      "F\n",
      "ABC\n",
      "DE\n"
     ]
    }
   ],
   "source": [
    "def firstFalse(L):\n",
    "    i = 0\n",
    "    while L[i] == True:\n",
    "        i = i + 1\n",
    "    return i\n",
    "\n",
    "\n",
    "def connectivity(V, edges):\n",
    "    \n",
    "    M = AdjacencyMatrix(V, edges)\n",
    "    visitedbool = [False]*V\n",
    "    subgraphs = []\n",
    "    \n",
    "    while not all(visitedbool):\n",
    "        subgraph = []\n",
    "        start = firstFalse(visitedbool)\n",
    "        stack = [start]\n",
    "\n",
    "        while stack:\n",
    "            node = stack.pop()\n",
    "            if not visitedbool[node]:\n",
    "                visitedbool[node] = True\n",
    "                subgraph.append(node)\n",
    "                for i in range(V):\n",
    "                    if M[node][i] == True and not visitedbool[i]:\n",
    "                        stack.append(i)\n",
    "        \n",
    "        subgraph.sort()\n",
    "        subgraph = [getLetter(i) for i in subgraph]\n",
    "        word = \"\"\n",
    "        for letter in subgraph:\n",
    "            word = word + letter\n",
    "        #subgraph = sum(subgraph)\n",
    "\n",
    "        subgraphs.append(word)\n",
    "\n",
    "    if len(subgraphs) == 1:\n",
    "        print(\"T\")\n",
    "    else:\n",
    "        print(\"F\")\n",
    "    for g in subgraphs:\n",
    "        print(g)\n",
    "\n",
    "\n",
    "V = 5\n",
    "edges = [(\"A\",\"B\"),(\"B\",\"C\"),(\"D\",\"E\")]\n",
    "connectivity(V, edges)\n",
    "\n"
   ]
  },
  {
   "cell_type": "code",
   "execution_count": 26,
   "metadata": {},
   "outputs": [
    {
     "name": "stdout",
     "output_type": "stream",
     "text": [
      "[True, True, True, True, True, True, True, True, True, True]\n",
      "False\n"
     ]
    }
   ],
   "source": [
    "L = [True]*10\n",
    "L[3] = True\n",
    "print(L)\n",
    "print(not all(L))"
   ]
  },
  {
   "cell_type": "code",
   "execution_count": null,
   "metadata": {},
   "outputs": [],
   "source": []
  }
 ],
 "metadata": {
  "kernelspec": {
   "display_name": "base",
   "language": "python",
   "name": "python3"
  },
  "language_info": {
   "codemirror_mode": {
    "name": "ipython",
    "version": 3
   },
   "file_extension": ".py",
   "mimetype": "text/x-python",
   "name": "python",
   "nbconvert_exporter": "python",
   "pygments_lexer": "ipython3",
   "version": "3.8.5"
  }
 },
 "nbformat": 4,
 "nbformat_minor": 2
}
