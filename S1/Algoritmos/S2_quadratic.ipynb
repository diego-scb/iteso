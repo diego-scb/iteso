{
 "cells": [
  {
   "cell_type": "code",
   "execution_count": 10,
   "metadata": {},
   "outputs": [
    {
     "name": "stdout",
     "output_type": "stream",
     "text": [
      "[-87, -32, -78, 96, 4, -32, -73, -91, -3, 37]\n",
      "[-91, -32, -78, 96, 4, -32, -73, -87, -3, 37]\n",
      "[-91, -87, -78, 96, 4, -32, -73, -32, -3, 37]\n",
      "[-91, -87, -78, -73, 4, -32, 96, -32, -3, 37]\n",
      "[-91, -87, -78, -73, -32, 4, 96, -32, -3, 37]\n",
      "[-91, -87, -78, -73, -32, -32, 96, 4, -3, 37]\n",
      "[-91, -87, -78, -73, -32, -32, -3, 4, 96, 37]\n",
      "[-91, -87, -78, -73, -32, -32, -3, 4, 37, 96]\n",
      "45 7\n"
     ]
    }
   ],
   "source": [
    "import random as r\n",
    "\n",
    "def selectionSort(arr, verbose=False):\n",
    "    if verbose: print(arr)\n",
    "    moves=comp= 0\n",
    "    for i in range(len(arr)-1):\n",
    "        min = i\n",
    "        for j in range(i+1,len(arr)):\n",
    "            comp=comp+1\n",
    "            if(arr[j]<arr[min]):\n",
    "                min=j\n",
    "        if(min!=i):\n",
    "            moves+=1\n",
    "            arr[min],arr[i] = arr[i],arr[min]\n",
    "            if(verbose): print(arr)\n",
    "    print(comp, moves)\n",
    "\n",
    "r.seed(123) #DO NOT USE IN A POSTERIORI ANALYSIS\n",
    "arr = [r.randint(-100,100) for _ in range(10) ]\n",
    "selectionSort(arr,True)\n",
    "\n"
   ]
  },
  {
   "cell_type": "markdown",
   "metadata": {},
   "source": [
    "$\\begin{aligned}\n",
    "    \\sum_{i=0}^{n-2} \\sum_{j=i+1}^{n-1} 1 &= \\sum_{i=0}^{n-2}(n-1-(i+1)+1)   \\\\\n",
    "                                          &= \\sum_{i=0}^{n-2}(n-1-i-1+1)   \\\\\n",
    "                                          &= \\sum_{i=0}^{n-2}(n-1-i)   \\\\\n",
    "                                          &= \\sum_{i=0}^{n-2}(n-1) - \\sum_{i=0}^{n-2} i \\\\   \n",
    "                                          &= (n-1)(n-2-0+1) - \\sum_{i=0}^{n-2} i \\\\ \n",
    "                                          &= (n-1)(n-1) - \\sum_{i=0}^{n-2} i \\\\\n",
    "                                          &= (n-1)^2 - \\frac{(n-1)(n-2)}{2} \\text{ recordemos que } \\sum_{i=min}^{max} i = \\frac{(max-min+1)(max+min)}{2}  \\\\   \n",
    "                                          &= (n-1) \\frac{(2(n-1) - (n-2)  )}{2} \\\\  \n",
    "                                          &= (n-1) \\frac{(2n-2 -n+2)}{2} \\\\   \n",
    "                                          &= \\frac{n(n-1)}{2} \\\\                                         \n",
    "\\end{aligned}$"
   ]
  },
  {
   "cell_type": "code",
   "execution_count": 11,
   "metadata": {},
   "outputs": [
    {
     "data": {
      "text/plain": [
       "45.0"
      ]
     },
     "execution_count": 11,
     "metadata": {},
     "output_type": "execute_result"
    }
   ],
   "source": [
    "n= 10\n",
    "(n*(n-1))/2"
   ]
  },
  {
   "cell_type": "markdown",
   "metadata": {},
   "source": [
    "## Ejercicio para practicar (Intentalo antes de ver la respuesta)"
   ]
  },
  {
   "cell_type": "code",
   "execution_count": 12,
   "metadata": {},
   "outputs": [
    {
     "name": "stdout",
     "output_type": "stream",
     "text": [
      "3825\n"
     ]
    }
   ],
   "source": [
    "def ejercicioEnEquipo():\n",
    "    n=50\n",
    "    var=0\n",
    "    for i in range(n):\n",
    "        for j in range(i+1):\n",
    "            var+=3\n",
    "    print(var)\n",
    "\n",
    "ejercicioEnEquipo()"
   ]
  },
  {
   "cell_type": "markdown",
   "metadata": {},
   "source": [
    "Solo añade un signo de $ al inicio antes de \\begin para que se quite el error\n",
    "\n",
    "\\begin{aligned}\n",
    "    \\sum_{i=0}^{n-1} \\sum_{j=0}^{i} 3   &= 3\\sum_{i=0}^{n-1}(i+1)  \\\\\n",
    "                                        &= 3\\left( \\sum_{i=0}^{n-1}1 +  \\sum_{i=0}^{n-1}i \\right)  \\\\\n",
    "                                        &= 3\\left( (n-1+1) + \\frac{(n-1+1)(n-1)}{2} \\right)   \\\\\n",
    "                                        &= 3\\left( (n + \\frac{(n)(n-1)}{2} \\right)   \\\\\n",
    "                                        &= 3\\left( \\frac{2n+n(n-1))}{2} \\right)   \\\\\n",
    "                                        &= 3\\left( \\frac{2n+n^2-n)}{2} \\right)   \\\\ \n",
    "                                        &= \\frac{3}{2} (n^2+n)  \\\\        \n",
    "\\end{aligned}$"
   ]
  },
  {
   "cell_type": "code",
   "execution_count": 13,
   "metadata": {},
   "outputs": [],
   "source": [
    "n=50\n",
    "#aquí pon la formula para probar"
   ]
  },
  {
   "cell_type": "markdown",
   "metadata": {},
   "source": [
    "## Insertion Sort"
   ]
  },
  {
   "cell_type": "code",
   "execution_count": 14,
   "metadata": {},
   "outputs": [
    {
     "name": "stdout",
     "output_type": "stream",
     "text": [
      "[-87, -32, -78, 96, 4, -32, -73, -91, -3, 37]\n",
      "[-87, -32, -78, 96, 4, -32, -73, -91, -3, 37]\n",
      "[-87, -32, -32, 96, 4, -32, -73, -91, -3, 37]\n",
      "[-87, -78, -32, 96, 4, -32, -73, -91, -3, 37]\n",
      "[-87, -78, -32, 96, 4, -32, -73, -91, -3, 37]\n",
      "[-87, -78, -32, 96, 96, -32, -73, -91, -3, 37]\n",
      "[-87, -78, -32, 4, 96, -32, -73, -91, -3, 37]\n",
      "[-87, -78, -32, 4, 96, 96, -73, -91, -3, 37]\n",
      "[-87, -78, -32, 4, 4, 96, -73, -91, -3, 37]\n",
      "[-87, -78, -32, -32, 4, 96, -73, -91, -3, 37]\n",
      "[-87, -78, -32, -32, 4, 96, 96, -91, -3, 37]\n",
      "[-87, -78, -32, -32, 4, 4, 96, -91, -3, 37]\n",
      "[-87, -78, -32, -32, -32, 4, 96, -91, -3, 37]\n",
      "[-87, -78, -32, -32, -32, 4, 96, -91, -3, 37]\n",
      "[-87, -78, -73, -32, -32, 4, 96, -91, -3, 37]\n",
      "[-87, -78, -73, -32, -32, 4, 96, 96, -3, 37]\n",
      "[-87, -78, -73, -32, -32, 4, 4, 96, -3, 37]\n",
      "[-87, -78, -73, -32, -32, -32, 4, 96, -3, 37]\n",
      "[-87, -78, -73, -32, -32, -32, 4, 96, -3, 37]\n",
      "[-87, -78, -73, -73, -32, -32, 4, 96, -3, 37]\n",
      "[-87, -78, -78, -73, -32, -32, 4, 96, -3, 37]\n",
      "[-87, -87, -78, -73, -32, -32, 4, 96, -3, 37]\n",
      "[-91, -87, -78, -73, -32, -32, 4, 96, -3, 37]\n",
      "[-91, -87, -78, -73, -32, -32, 4, 96, 96, 37]\n",
      "[-91, -87, -78, -73, -32, -32, 4, 4, 96, 37]\n",
      "[-91, -87, -78, -73, -32, -32, -3, 4, 96, 37]\n",
      "[-91, -87, -78, -73, -32, -32, -3, 4, 96, 96]\n",
      "[-91, -87, -78, -73, -32, -32, -3, 4, 37, 96]\n",
      "(27, 27)\n"
     ]
    },
    {
     "data": {
      "text/plain": [
       "[-91, -87, -78, -73, -32, -32, -3, 4, 37, 96]"
      ]
     },
     "execution_count": 14,
     "metadata": {},
     "output_type": "execute_result"
    }
   ],
   "source": [
    "import random as r\n",
    "\n",
    "def InsertionSort(arr, verbose=True):\n",
    "    if verbose: print(arr)\n",
    "    comp = moves = 0\n",
    "    for i in range(1, len(arr)):\n",
    "        j= i-1\n",
    "        temp = arr[i]\n",
    "        comp+=1\n",
    "        while j>=0 and temp < arr[j]:\n",
    "            comp+=1\n",
    "            moves+=1\n",
    "            arr[j+1] = arr[j]\n",
    "            if verbose: print(arr)\n",
    "            j-=1\n",
    "        arr[j+1]=temp\n",
    "        moves +=1\n",
    "        if verbose: print(arr)\n",
    "    return comp, moves\n",
    "\n",
    "r.seed(123) #DO NOT USE IN A POSTERIORI ANALYSIS\n",
    "arr = [r.randint(-100, 100) for _ in range (10)]\n",
    "print(InsertionSort(arr))\n",
    "arr     "
   ]
  },
  {
   "cell_type": "markdown",
   "metadata": {},
   "source": [
    "## Bubble Sort"
   ]
  },
  {
   "cell_type": "code",
   "execution_count": 15,
   "metadata": {},
   "outputs": [
    {
     "name": "stdout",
     "output_type": "stream",
     "text": [
      "[-87, -32, -78, 96, 4, -32, -73, -91, -3, 37]\n",
      "[-87, -78, -32, 96, 4, -32, -73, -91, -3, 37]\n",
      "[-87, -78, -32, 4, 96, -32, -73, -91, -3, 37]\n",
      "[-87, -78, -32, 4, -32, 96, -73, -91, -3, 37]\n",
      "[-87, -78, -32, 4, -32, -73, 96, -91, -3, 37]\n",
      "[-87, -78, -32, 4, -32, -73, -91, 96, -3, 37]\n",
      "[-87, -78, -32, 4, -32, -73, -91, -3, 96, 37]\n",
      "[-87, -78, -32, 4, -32, -73, -91, -3, 37, 96]\n",
      "[-87, -78, -32, -32, 4, -73, -91, -3, 37, 96]\n",
      "[-87, -78, -32, -32, -73, 4, -91, -3, 37, 96]\n",
      "[-87, -78, -32, -32, -73, -91, 4, -3, 37, 96]\n",
      "[-87, -78, -32, -32, -73, -91, -3, 4, 37, 96]\n",
      "[-87, -78, -32, -73, -32, -91, -3, 4, 37, 96]\n",
      "[-87, -78, -32, -73, -91, -32, -3, 4, 37, 96]\n",
      "[-87, -78, -73, -32, -91, -32, -3, 4, 37, 96]\n",
      "[-87, -78, -73, -91, -32, -32, -3, 4, 37, 96]\n",
      "[-87, -78, -91, -73, -32, -32, -3, 4, 37, 96]\n",
      "[-87, -91, -78, -73, -32, -32, -3, 4, 37, 96]\n",
      "[-91, -87, -78, -73, -32, -32, -3, 4, 37, 96]\n"
     ]
    },
    {
     "data": {
      "text/plain": [
       "[-91, -87, -78, -73, -32, -32, -3, 4, 37, 96]"
      ]
     },
     "execution_count": 15,
     "metadata": {},
     "output_type": "execute_result"
    }
   ],
   "source": [
    "def bubbleSort(arr, verbose = True):\n",
    "    if verbose: print(arr)\n",
    "    swapped = True\n",
    "    for i in range (len(arr)-1):\n",
    "        if swapped:\n",
    "            swapped = False\n",
    "            for j in range(len(arr)-i-1):\n",
    "                if arr[j]>arr[j+1]:\n",
    "                    arr[j],arr[j+1]= arr[j+1],arr[j]\n",
    "                    if verbose: print(arr)\n",
    "                    swapped=True\n",
    "        else:\n",
    "            break\n",
    "\n",
    "r.seed(123) #DO NOT USE IN A POSTERIORI ANALYSIS\n",
    "arr = [r.randint(-100, 100) for _ in range (10)]\n",
    "bubbleSort(arr)\n",
    "arr"
   ]
  }
 ],
 "metadata": {
  "kernelspec": {
   "display_name": "base",
   "language": "python",
   "name": "python3"
  },
  "language_info": {
   "codemirror_mode": {
    "name": "ipython",
    "version": 3
   },
   "file_extension": ".py",
   "mimetype": "text/x-python",
   "name": "python",
   "nbconvert_exporter": "python",
   "pygments_lexer": "ipython3",
   "version": "3.9.12"
  },
  "orig_nbformat": 4
 },
 "nbformat": 4,
 "nbformat_minor": 2
}
