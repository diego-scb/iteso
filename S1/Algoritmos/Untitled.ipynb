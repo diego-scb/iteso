{
 "cells": [
  {
   "cell_type": "code",
   "execution_count": 12,
   "id": "96c053e6",
   "metadata": {},
   "outputs": [
    {
     "name": "stdout",
     "output_type": "stream",
     "text": [
      "1, \u001b[92m2\u001b[0m, 3, \u001b[92m4\u001b[0m, 5\n"
     ]
    }
   ],
   "source": [
    "def printSwapColored(arr, pos1, pos2, color='blue'):  \n",
    "        colors= {'yellow':'93', 'green':'92', 'red':'31', 'blue':'94', 'pink':'95'}\n",
    "        valColor = colors[color]\n",
    "        coloredArr =arr.copy()\n",
    "        coloredArr[pos1]= \"\\x1b[\"+valColor+\"m\" + str(arr[pos1]) + \"\\x1b[0m\"\n",
    "        coloredArr[pos2]= \"\\x1b[\"+valColor+\"m\" + str(arr[pos2]) + \"\\x1b[0m\"\n",
    "        arrstr = ', '.join(str(value) for value in coloredArr)\n",
    "        print(arrstr)\n",
    "printSwapColored([1,2,3,4,5], 1, 3, 'green')"
   ]
  },
  {
   "cell_type": "code",
   "execution_count": null,
   "id": "12815494",
   "metadata": {},
   "outputs": [],
   "source": []
  },
  {
   "cell_type": "code",
   "execution_count": 10,
   "id": "4afcd8e0",
   "metadata": {},
   "outputs": [],
   "source": [
    "def maxChild(arr, root, heapsize):\n",
    "    \n",
    "    maxC = root\n",
    "    left_child = 2*root + 1\n",
    "    right_child = 2*root + 2\n",
    "    \n",
    "    if left_child < heapsize and arr[maxC] < arr[left_child]:\n",
    "        maxC = left_child\n",
    "        \n",
    "    if right_child < heapsize and arr[maxC] < arr[right_child]:\n",
    "        maxC = right_child\n",
    "    \n",
    "    return maxC"
   ]
  },
  {
   "cell_type": "code",
   "execution_count": null,
   "id": "d922e598",
   "metadata": {},
   "outputs": [],
   "source": []
  },
  {
   "cell_type": "code",
   "execution_count": 8,
   "id": "c5b8af10",
   "metadata": {},
   "outputs": [],
   "source": [
    "def maxHeapify(arr, root, heapsize):\n",
    "    \n",
    "    maxC = maxChild(arr, root, heapsize)\n",
    "    \n",
    "    if maxC != root:\n",
    "        arr[maxC],arr[root] = arr[root], arr[maxC]\n",
    "        printSwapColored(arr,maxC, root, \"blue\")\n",
    "        maxHeapify(arr, maxC, heapsize)\n",
    "        \n",
    "    return arr"
   ]
  },
  {
   "cell_type": "code",
   "execution_count": null,
   "id": "47d0c130",
   "metadata": {},
   "outputs": [],
   "source": []
  },
  {
   "cell_type": "code",
   "execution_count": 6,
   "id": "1cbdcb3c",
   "metadata": {},
   "outputs": [],
   "source": [
    "def buildHeap(arr):\n",
    "    \n",
    "    for i in range(len(arr)//2, -1, -1):\n",
    "        maxHeapify(arr, i, len(arr))\n",
    "        "
   ]
  },
  {
   "cell_type": "code",
   "execution_count": null,
   "id": "bca77c6a",
   "metadata": {},
   "outputs": [],
   "source": []
  },
  {
   "cell_type": "code",
   "execution_count": 13,
   "id": "4e2e5916",
   "metadata": {},
   "outputs": [
    {
     "name": "stdout",
     "output_type": "stream",
     "text": [
      "[1, 2, 3, 4, 5, 6, 7, 8, 9, 10, 11, 12, 13, 14, 15]\n",
      "1, 2, 3, 4, 5, 6, \u001b[94m15\u001b[0m, 8, 9, 10, 11, 12, 13, 14, \u001b[94m7\u001b[0m\n",
      "1, 2, 3, 4, 5, \u001b[94m13\u001b[0m, 15, 8, 9, 10, 11, 12, \u001b[94m6\u001b[0m, 14, 7\n",
      "1, 2, 3, 4, \u001b[94m11\u001b[0m, 13, 15, 8, 9, 10, \u001b[94m5\u001b[0m, 12, 6, 14, 7\n",
      "1, 2, 3, \u001b[94m9\u001b[0m, 11, 13, 15, 8, \u001b[94m4\u001b[0m, 10, 5, 12, 6, 14, 7\n",
      "1, 2, \u001b[94m15\u001b[0m, 9, 11, 13, \u001b[94m3\u001b[0m, 8, 4, 10, 5, 12, 6, 14, 7\n",
      "1, 2, 15, 9, 11, 13, \u001b[94m14\u001b[0m, 8, 4, 10, 5, 12, 6, \u001b[94m3\u001b[0m, 7\n",
      "1, \u001b[94m11\u001b[0m, 15, 9, \u001b[94m2\u001b[0m, 13, 14, 8, 4, 10, 5, 12, 6, 3, 7\n",
      "1, 11, 15, 9, \u001b[94m10\u001b[0m, 13, 14, 8, 4, \u001b[94m2\u001b[0m, 5, 12, 6, 3, 7\n",
      "\u001b[94m15\u001b[0m, 11, \u001b[94m1\u001b[0m, 9, 10, 13, 14, 8, 4, 2, 5, 12, 6, 3, 7\n",
      "15, 11, \u001b[94m14\u001b[0m, 9, 10, 13, \u001b[94m1\u001b[0m, 8, 4, 2, 5, 12, 6, 3, 7\n",
      "15, 11, 14, 9, 10, 13, \u001b[94m7\u001b[0m, 8, 4, 2, 5, 12, 6, 3, \u001b[94m1\u001b[0m\n"
     ]
    }
   ],
   "source": [
    "arr = [x for x in range(1, 16)]\n",
    "\n",
    "print(arr)\n",
    "buildHeap(arr)"
   ]
  },
  {
   "cell_type": "code",
   "execution_count": null,
   "id": "c4cc90cf",
   "metadata": {},
   "outputs": [],
   "source": []
  }
 ],
 "metadata": {
  "kernelspec": {
   "display_name": "Python 3 (ipykernel)",
   "language": "python",
   "name": "python3"
  },
  "language_info": {
   "codemirror_mode": {
    "name": "ipython",
    "version": 3
   },
   "file_extension": ".py",
   "mimetype": "text/x-python",
   "name": "python",
   "nbconvert_exporter": "python",
   "pygments_lexer": "ipython3",
   "version": "3.11.4"
  }
 },
 "nbformat": 4,
 "nbformat_minor": 5
}
