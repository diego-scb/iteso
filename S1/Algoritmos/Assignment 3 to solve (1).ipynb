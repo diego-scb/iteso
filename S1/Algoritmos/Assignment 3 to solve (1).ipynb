{
 "cells": [
  {
   "cell_type": "markdown",
   "metadata": {},
   "source": [
    "## Assignment 3  Solution"
   ]
  },
  {
   "cell_type": "markdown",
   "metadata": {},
   "source": [
    "Name or names:  "
   ]
  },
  {
   "cell_type": "markdown",
   "metadata": {},
   "source": [
    "**Instructions:** Perform the a priori analysis of algorithms in the best case (25 QuickSort + 25 MergeSort) and the a posteriori analysis to obtain the average case (25 QS + 25 MS) + 10 bonus points for completing the MergeSort. If you obtain more than 100, you will be capped at 100 points."
   ]
  },
  {
   "cell_type": "markdown",
   "metadata": {},
   "source": [
    "## QuickSort\n",
    "\n",
    "QuickSort is a sorting algorithm that involves taking the last element as the pivot, moving elements smaller than the pivot to the left and elements greater to the right. In the end, the pivot is placed between these two blocks, making it its final position, effectively sorting it. This process is repeated recursively for both the left and right sides (two recursive calls) until the entire array is sorted."
   ]
  },
  {
   "cell_type": "code",
   "execution_count": null,
   "metadata": {
    "tags": []
   },
   "outputs": [],
   "source": [
    "def partition(arr, left, right, verbose):\n",
    "    pivot = arr[right]\n",
    "    p1 = left -1\n",
    "    p2 = right\n",
    "    while p1 <p2:\n",
    "        p1+=1\n",
    "        p2-=1\n",
    "        while arr[p1]<pivot: p1+=1\n",
    "        while arr[p2]>pivot: p2-=1\n",
    "        if p1 < p2:\n",
    "            arr[p1],arr[p2] = arr[p2], arr[p1]\n",
    "            if verbose: print(arr)\n",
    "    arr[p1], arr[right] = arr[right], arr[p1]\n",
    "    if verbose: print(arr)\n",
    "    return p1\n",
    "\n",
    "def _quickSort(arr, left, right, verbose):\n",
    "    if left >= right:  return \n",
    "    p = partition(arr, left, right,verbose)\n",
    "    _quickSort(arr, left, p-1, verbose)\n",
    "    _quickSort(arr,p+1,right,verbose)\n",
    "\n",
    "def quickSort(arr,verbose=False):\n",
    "    _quickSort(arr,0, len(arr)-1,verbose)\n",
    "    \n",
    "arr = [12,34,54,67,34,45,12,565,78,23]\n",
    "quickSort(arr,True)\n",
    "print(arr)"
   ]
  },
  {
   "cell_type": "markdown",
   "metadata": {},
   "source": [
    "\n",
    "### 1.1 Priori Analysis (Comparisons)\n",
    "\n",
    "**Best-case scenario in comparisons**: *your answer here*\n",
    "\n",
    "**A priori best-case analysis (comparisons)**: (You may or may not use summations, but justify your response thoroughly, mentioning the partition and _quicksort functions)\n",
    "\n",
    "*justify it well, don't just say it's Case X from the slides, explain why it falls into that case.*\n"
   ]
  },
  {
   "cell_type": "markdown",
   "metadata": {},
   "source": [
    "### 1.2 A Posteriori Analysis\n",
    "\n",
    "- Modify the given algorithm to return the number of comparisons and movements.\n",
    "- Perform a priori analysis for random arrays of sizes 5 to 500 with increments of 5 and 100 runs for each array size.\n",
    "- Graph the movements and comparisons.\n",
    "- In the same graph, plot a line of $n log_2(n)$ to compare against the asymptote.\n"
   ]
  },
  {
   "cell_type": "markdown",
   "metadata": {},
   "source": [
    "# MergeSort\n",
    "\n",
    "MergeSort involves recursively dividing the array into two parts until reaching an array of size 1. Then, the arrays are merged into a sorted array (left and right sides), repeating this process until the entire array is sorted.\n",
    "\n"
   ]
  },
  {
   "cell_type": "markdown",
   "metadata": {},
   "source": [
    "2.1 Complete the MergeSort code (follow the comments only) (10 Bonus Points for this task).\n",
    "\n"
   ]
  },
  {
   "cell_type": "code",
   "execution_count": null,
   "metadata": {
    "tags": []
   },
   "outputs": [],
   "source": [
    "def merge(array1, array2, verbose=False):\n",
    "    result=[]\n",
    "    a1Id =0  #array1\n",
    "    a2Id =0  #array2\n",
    "    totalLen = len(array1)+len(array2);\n",
    "    for i in range (totalLen):\n",
    "        if a2Id == len(array2) :\n",
    "            result.append(array1[a1Id])\n",
    "            a1Id+=1\n",
    "        elif a1Id == len(array1):\n",
    "            result.append(array2[a2Id])\n",
    "            a2Id+=1\n",
    "        elif array1[a1Id] < array2[a2Id]:\n",
    "            result.append(array1[a1Id])\n",
    "            a1Id+=1\n",
    "        else:\n",
    "            result.append(array2[a2Id])\n",
    "            a2Id+=1\n",
    "    if verbose: print(result)\n",
    "    return result;\n",
    "\n",
    "def mergeSort(array, verbose=False):\n",
    "    global moves, comp\n",
    "    comp += 1    \n",
    "\n",
    "    if verbose:\n",
    "        print(array)\n",
    "    \n",
    "    # Termination condition: return the array if its size is 1\n",
    "    if \n",
    "    # Get the midpoint\n",
    "    mid = \n",
    "    # Split the array into two: arrL and arrR\n",
    "   \n",
    "    arrL = # Left array\n",
    "    arrR =  # Right array\n",
    "    \n",
    "    # Call mergeSort recursively and obtain arrLSorted\n",
    "    arrLSorted = \n",
    "    # Call mergeSort recursively and obtain arrRSorted\n",
    "    arrRSorted =\n",
    "    # Return the merge\n",
    "    return merge(arrLSorted, arrRSorted, verbose)\n",
    "\n",
    "def mergeSortCounts(array, verbose = False):\n",
    "    global moves, comp\n",
    "    moves = comp = 0\n",
    "    mergeSort(array, False)\n",
    "    return moves,comp\n",
    "\n",
    "mergeSort([23,93,56,1,23,57,91,23,89,0], True) \n"
   ]
  },
  {
   "cell_type": "markdown",
   "metadata": {},
   "source": [
    "2.2 Priori Analysis for Comparisons\n",
    "\n",
    "\n",
    "*Your response here, justify it well, don't just say it's Case X from the slides, explain why it falls into that case.*\n",
    "\n"
   ]
  },
  {
   "cell_type": "markdown",
   "metadata": {},
   "source": [
    "2.3 A Posteriori Analysis\n",
    "\n",
    "*Do something similar to the a posteriori analysis of QuickSort.*\n"
   ]
  },
  {
   "cell_type": "markdown",
   "metadata": {},
   "source": [
    "**QuickSort vs MergeSort** \n",
    "\n",
    "In conclusion (not an exercise), I mention some advantages I found for each algorithm as a QuickSort vs. MergeSort comparison:\n",
    "\n",
    "- Quicksort has better locality of reference than mergesort, which means that the accesses performed in quicksort are usually faster than the corresponding accesses in mergesort.\n",
    "- Quicksort uses worst-case O(log n) generated memory (if implemented correctly), while mergesort requires O(n) memory due to the overhead of merging.\n",
    "- Quicksort is more efficient and works faster than merge sort in case of smaller array size or datasets\n",
    "- Quick sort is preferred for arrays. \n",
    "- Merge sort is preferred for linked lists.\n",
    "- MergeSort is stable by design, equal elements keep their original order.\n",
    "- MergeSort is well suited to be implemented parallel (multithreading).\n",
    "- MergeSort uses (about 30%) less comparisons than QuickSort. This is an often overlooked advantage, because a comparison can be quite expensive (e.g. when comparing several fields of database rows)."
   ]
  },
  {
   "cell_type": "code",
   "execution_count": null,
   "metadata": {},
   "outputs": [],
   "source": []
  }
 ],
 "metadata": {
  "kernelspec": {
   "display_name": "Python 3",
   "language": "python",
   "name": "python3"
  },
  "language_info": {
   "codemirror_mode": {
    "name": "ipython",
    "version": 3
   },
   "file_extension": ".py",
   "mimetype": "text/x-python",
   "name": "python",
   "nbconvert_exporter": "python",
   "pygments_lexer": "ipython3",
   "version": "3.9.12"
  }
 },
 "nbformat": 4,
 "nbformat_minor": 2
}
