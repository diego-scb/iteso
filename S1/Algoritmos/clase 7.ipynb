{
 "cells": [
  {
   "cell_type": "code",
   "execution_count": 5,
   "id": "9a802123",
   "metadata": {},
   "outputs": [
    {
     "data": {
      "text/plain": [
       "0"
      ]
     },
     "execution_count": 5,
     "metadata": {},
     "output_type": "execute_result"
    }
   ],
   "source": [
    "def getBit(value, position):\n",
    "    return value>>position & 0x01\n",
    "\n",
    "getBit(5,15)"
   ]
  },
  {
   "cell_type": "code",
   "execution_count": 79,
   "id": "bd690883",
   "metadata": {},
   "outputs": [
    {
     "name": "stdout",
     "output_type": "stream",
     "text": [
      "1\n",
      "1\n",
      "0\n",
      "0\n",
      "1\n",
      "0\n"
     ]
    }
   ],
   "source": [
    "def getBit2(value, position):\n",
    "    shifted = value // 2**(position)\n",
    "    ret = shifted % 2\n",
    "    return ret\n",
    "\n",
    "val = 19\n",
    "for i in range(6): print(getBit2(19, i))"
   ]
  },
  {
   "cell_type": "code",
   "execution_count": 63,
   "id": "50196c71",
   "metadata": {},
   "outputs": [],
   "source": [
    "class Node:\n",
    "    def __init__(self,value, index):\n",
    "        self.value= value\n",
    "        self.index = index\n",
    "        self.left = None\n",
    "        self.right = None\n",
    "\n",
    "\n",
    "def createDST(arr):\n",
    "    root = Node(arr[0], 0)\n",
    "\n",
    "    for i in range(1,len(arr)):\n",
    "        new = Node(arr[i], i)    \n",
    "        current = root\n",
    "        level = 0\n",
    "        while True:\n",
    "            if current.value == arr[i]:\n",
    "                break\n",
    "            bit = getBit(arr[i], level)\n",
    "            if bit == 0:\n",
    "                if current.left is None:\n",
    "                    current.left = new\n",
    "                    break\n",
    "                else:\n",
    "                    current = current.left\n",
    "            else:\n",
    "                if current.right is None:\n",
    "                    current.right = new\n",
    "                    break\n",
    "                else:\n",
    "                    current = current.right\n",
    "            level = level + 1\n",
    "    return root\n",
    "        \n",
    "            \n",
    "        "
   ]
  },
  {
   "cell_type": "code",
   "execution_count": 64,
   "id": "5123ed49",
   "metadata": {},
   "outputs": [],
   "source": [
    "def printDST(node:Node, spaces=\"\"):\n",
    "    if node is None:\n",
    "        print(spaces+\"-\")\n",
    "        return\n",
    "    print(\"{}{}-{}\".format(spaces, node.value, node.index))\n",
    "    printDST(node.left, spaces + \"\\t\")\n",
    "    printDST(node.right, spaces + \"\\t\")\n",
    "    "
   ]
  },
  {
   "cell_type": "code",
   "execution_count": 74,
   "id": "a7815cb0",
   "metadata": {},
   "outputs": [
    {
     "name": "stdout",
     "output_type": "stream",
     "text": [
      " 1-0\n",
      " \t-\n",
      " \t3-1\n",
      " \t\t5-2\n",
      " \t\t\t9-4\n",
      " \t\t\t\t-\n",
      " \t\t\t\t-\n",
      " \t\t\t13-6\n",
      " \t\t\t\t-\n",
      " \t\t\t\t-\n",
      " \t\t7-3\n",
      " \t\t\t11-5\n",
      " \t\t\t\t-\n",
      " \t\t\t\t-\n",
      " \t\t\t-\n"
     ]
    }
   ],
   "source": [
    "arr = [*range(1,15,2)]\n",
    "root = createDST(arr)\n",
    "printDST(root,\" \")"
   ]
  },
  {
   "cell_type": "code",
   "execution_count": 66,
   "id": "0cc7731d",
   "metadata": {},
   "outputs": [],
   "source": [
    "def searchDST(node, value, level=0):\n",
    "    if node is None:\n",
    "        return -1\n",
    "    if node.value == value:\n",
    "        return node.index\n",
    "    bit = getBit(value, level)\n",
    "    \n",
    "    if bit == 0:\n",
    "        return searchDST(node.left, value, level+1)\n",
    "    else:\n",
    "        return searchDST(node.right, value, level+1)\n",
    "        "
   ]
  },
  {
   "cell_type": "code",
   "execution_count": 78,
   "id": "49f1b2ec",
   "metadata": {},
   "outputs": [
    {
     "name": "stdout",
     "output_type": "stream",
     "text": [
      "-1\n",
      "9\n",
      "26\n",
      "43\n",
      "60\n",
      "77\n",
      "94\n",
      "111\n",
      "-1\n",
      "-1\n",
      "-1\n",
      "-1\n",
      "-1\n"
     ]
    }
   ],
   "source": [
    "arr = [*range(5,120,1)]\n",
    "root = createDST(arr)\n",
    "for i in range(-3, 217, 17):\n",
    "    print(searchDST(root, i))"
   ]
  },
  {
   "cell_type": "code",
   "execution_count": 83,
   "id": "f092d7a0",
   "metadata": {},
   "outputs": [
    {
     "name": "stdout",
     "output_type": "stream",
     "text": [
      "Collecting typing\n",
      "  Downloading typing-3.7.4.3.tar.gz (78 kB)\n",
      "     ---------------------------------------- 0.0/78.6 kB ? eta -:--:--\n",
      "     ------------------------------------ --- 71.7/78.6 kB 2.0 MB/s eta 0:00:01\n",
      "     ---------------------------------------- 78.6/78.6 kB 1.1 MB/s eta 0:00:00\n",
      "  Preparing metadata (setup.py): started\n",
      "  Preparing metadata (setup.py): finished with status 'done'\n",
      "Building wheels for collected packages: typing\n",
      "  Building wheel for typing (setup.py): started\n",
      "  Building wheel for typing (setup.py): finished with status 'done'\n",
      "  Created wheel for typing: filename=typing-3.7.4.3-py3-none-any.whl size=26325 sha256=9029f260af2263871578a71eb1f7e1bc09fb916d2c25f959a92029a67209804c\n",
      "  Stored in directory: c:\\users\\adrian.santacruz\\appdata\\local\\pip\\cache\\wheels\\9d\\67\\2f\\53e3ef32ec48d11d7d60245255e2d71e908201d20c880c08ee\n",
      "Successfully built typing\n",
      "Installing collected packages: typing\n",
      "Successfully installed typing-3.7.4.3\n"
     ]
    }
   ],
   "source": [
    "!pip install typing"
   ]
  },
  {
   "cell_type": "code",
   "execution_count": 121,
   "id": "76619f60",
   "metadata": {},
   "outputs": [
    {
     "name": "stdout",
     "output_type": "stream",
     "text": [
      "Number of customers 868\n"
     ]
    }
   ],
   "source": [
    "import csv\n",
    "from typing import List\n",
    " \n",
    "class Customer:\n",
    "    def __init__(self, rfc, name, address, index):\n",
    "        self.rfc = rfc\n",
    "        self.name = name\n",
    "        self.address = address\n",
    "        self.index = index\n",
    "    \n",
    "    def __str__(self):\n",
    "        return \"********\\nRFC:{}\\nNAME:{},\\nADDRESS:{}\\n,INDEX:{}\\n********\".format(self.rfc,self.name,self.address,self.index)\n",
    "    \n",
    "    def __repr__(self):\n",
    "        return self.__str__()\n",
    " \n",
    " \n",
    "def read_customers(filename):\n",
    "    customers =[]\n",
    "    csv.register_dialect('tabs', delimiter = '\\t')\n",
    "    \n",
    "    with open(filename, newline='', encoding=\"utf-8\", errors=\"ignore\") as csvfile:\n",
    "        data = list(csv.reader(csvfile, dialect='tabs'))\n",
    "        for i in range(1,len(data)):\n",
    "            line = data[i];\n",
    "            customers.append(Customer(line[1].strip(),line[0].strip(),line[2].strip(),i))\n",
    "    return customers\n",
    "customers = read_customers(\"Clientes.txt\")\n",
    "print(\"Number of customers\", len(customers))\n",
    "size = len(customers)"
   ]
  },
  {
   "cell_type": "code",
   "execution_count": 122,
   "id": "38c03c39",
   "metadata": {},
   "outputs": [],
   "source": [
    "def getValue(c):\n",
    "    # 0,...,9 -> 0,..,9\n",
    "    #A,...,Z -> 10,...,35\n",
    "    \n",
    "    if c.isdigit():\n",
    "        return int(c)\n",
    "    return ord(c) - ord(\"A\") + 10\n",
    "    "
   ]
  },
  {
   "cell_type": "code",
   "execution_count": 123,
   "id": "7f9374d5",
   "metadata": {},
   "outputs": [
    {
     "name": "stdout",
     "output_type": "stream",
     "text": [
      "0\n",
      "1\n",
      "2\n",
      "3\n",
      "4\n",
      "5\n",
      "6\n",
      "7\n",
      "8\n",
      "9\n",
      "10\n",
      "11\n",
      "12\n",
      "13\n",
      "14\n",
      "15\n",
      "16\n",
      "17\n",
      "18\n",
      "19\n",
      "20\n",
      "21\n",
      "22\n",
      "23\n",
      "24\n",
      "25\n",
      "26\n",
      "27\n",
      "28\n",
      "29\n",
      "30\n",
      "31\n",
      "32\n",
      "33\n",
      "34\n",
      "35\n"
     ]
    }
   ],
   "source": [
    "ALPHABET = [\"A\",\"B\",\"C\",\"D\",\"E\",\"F\",\"G\",\"H\",\"I\",\"J\",\"K\",\"L\",\"M\",\"N\",\"O\",\"P\",\"Q\",\"R\",\"S\",\"T\",\"U\",\"V\",\"W\",\"X\",\"Y\",\"Z\"]\n",
    "digits = [\"0\",\"1\",\"2\",\"3\",\"4\",\"5\",\"6\",\"7\",\"8\",\"9\"]\n",
    "characters = digits + ALPHABET\n",
    "\n",
    "for c in characters:\n",
    "    print(getValue(c))"
   ]
  },
  {
   "cell_type": "code",
   "execution_count": 124,
   "id": "49542aee",
   "metadata": {},
   "outputs": [],
   "source": [
    "def getHashCode(id):\n",
    "    h = getValue(id[0])\n",
    "    for i in range(1,len(id)):\n",
    "        h = ((h*36)+getValue(id[i])) % size\n",
    "    return h"
   ]
  },
  {
   "cell_type": "code",
   "execution_count": 125,
   "id": "55a287a0",
   "metadata": {},
   "outputs": [
    {
     "data": {
      "text/plain": [
       "499"
      ]
     },
     "execution_count": 125,
     "metadata": {},
     "output_type": "execute_result"
    }
   ],
   "source": [
    "getHashCode(\"ALE9610302H3\")"
   ]
  },
  {
   "cell_type": "code",
   "execution_count": 126,
   "id": "98da92d8",
   "metadata": {},
   "outputs": [],
   "source": [
    "class CustomerNode:\n",
    "    \n",
    "    def __init__(self, customer: Customer):\n",
    "        self.customer = Customer\n",
    "        self.next = None\n",
    "\n",
    "def CreateHashList(customers: List[Customer]):\n",
    "    hashList = [None]*size\n",
    "    \n",
    "    for customer in customers:\n",
    "        hashcode = getHashCode(customer.rfc)\n",
    "        \n",
    "        if hashList[hashcode] is None:\n",
    "            hashList[hashcode] = CustomerNode(customer)\n",
    "        else:\n",
    "            current = hashList[hashcode]\n",
    "            while current.next:\n",
    "                current = current.next\n",
    "            current.next = CustomerNode(customer)\n",
    "\n",
    "    return hashList\n",
    "\n",
    "def printHashList(hashList):\n",
    "    \n",
    "    for i in range(len(hashList)):\n",
    "        if hashList[i]:\n",
    "            current = hashList[i]\n",
    "            print(i, \": \", end=\"\")\n",
    "            while current is not None:\n",
    "                print(current.customer.rfc, \" \", end=\"\")\n",
    "                current = current.next\n",
    "        else:\n",
    "            print(i, \": -\")"
   ]
  },
  {
   "cell_type": "code",
   "execution_count": 128,
   "id": "c83120f7",
   "metadata": {},
   "outputs": [
    {
     "ename": "SyntaxError",
     "evalue": "invalid syntax (3813365118.py, line 34)",
     "output_type": "error",
     "traceback": [
      "\u001b[1;36m  Cell \u001b[1;32mIn[128], line 34\u001b[1;36m\u001b[0m\n\u001b[1;33m    tiene menú contextual\u001b[0m\n\u001b[1;37m          ^\u001b[0m\n\u001b[1;31mSyntaxError\u001b[0m\u001b[1;31m:\u001b[0m invalid syntax\n"
     ]
    }
   ],
   "source": [
    "def createHashList(customers: List[Customer]):\n",
    "    hashList = [None]*size\n",
    "\n",
    "    for customer in customers:\n",
    "        hashcode = getHashCode(customer.rfc)\n",
    "        if hashList[hashcode] is None:\n",
    "            hashList[hashcode]= CustomerNode(customer)\n",
    "        else:\n",
    "            current: CustomerNode = hashList[hashcode]\n",
    "            while current.next:\n",
    "                current = current.next\n",
    "            current.next = CustomerNode(customer)\n",
    "    return hashList\n",
    "\n",
    " \n",
    "\n",
    " \n",
    "\n",
    "def printHashList(hashList: List[CustomerNode]):\n",
    "    # for node in hashlist\n",
    "    for i in range(len(hashList)):\n",
    "        if hashList[i]:\n",
    "            current = hashList[i]\n",
    "            print(i, \": \", end=\"\")\n",
    "            while current is not None:\n",
    "                print(current.customer.rfc,\" \", end=\"\")\n",
    "                current = current.next\n",
    "            print(\"\")\n",
    "\n",
    "hashList = createHashList(customers)\n",
    "printHashList(hashList)\n",
    "\n",
    "\n",
    "tiene menú contextual\n",
    "Redactar"
   ]
  },
  {
   "cell_type": "code",
   "execution_count": 129,
   "id": "aa3640e8",
   "metadata": {
    "scrolled": true
   },
   "outputs": [
    {
     "name": "stdout",
     "output_type": "stream",
     "text": [
      "0 : "
     ]
    },
    {
     "ename": "AttributeError",
     "evalue": "type object 'Customer' has no attribute 'rfc'",
     "output_type": "error",
     "traceback": [
      "\u001b[1;31m---------------------------------------------------------------------------\u001b[0m",
      "\u001b[1;31mAttributeError\u001b[0m                            Traceback (most recent call last)",
      "Cell \u001b[1;32mIn[129], line 4\u001b[0m\n\u001b[0;32m      2\u001b[0m size \u001b[38;5;241m=\u001b[39m \u001b[38;5;28mlen\u001b[39m(customers)\n\u001b[0;32m      3\u001b[0m HashList \u001b[38;5;241m=\u001b[39m CreateHashList(customers)\n\u001b[1;32m----> 4\u001b[0m printHashList(HashList)\n",
      "Cell \u001b[1;32mIn[126], line 30\u001b[0m, in \u001b[0;36mprintHashList\u001b[1;34m(hashList)\u001b[0m\n\u001b[0;32m     28\u001b[0m     \u001b[38;5;28mprint\u001b[39m(i, \u001b[38;5;124m\"\u001b[39m\u001b[38;5;124m: \u001b[39m\u001b[38;5;124m\"\u001b[39m, end\u001b[38;5;241m=\u001b[39m\u001b[38;5;124m\"\u001b[39m\u001b[38;5;124m\"\u001b[39m)\n\u001b[0;32m     29\u001b[0m     \u001b[38;5;28;01mwhile\u001b[39;00m current \u001b[38;5;129;01mis\u001b[39;00m \u001b[38;5;129;01mnot\u001b[39;00m \u001b[38;5;28;01mNone\u001b[39;00m:\n\u001b[1;32m---> 30\u001b[0m         \u001b[38;5;28mprint\u001b[39m(current\u001b[38;5;241m.\u001b[39mcustomer\u001b[38;5;241m.\u001b[39mrfc, \u001b[38;5;124m\"\u001b[39m\u001b[38;5;124m \u001b[39m\u001b[38;5;124m\"\u001b[39m, end\u001b[38;5;241m=\u001b[39m\u001b[38;5;124m\"\u001b[39m\u001b[38;5;124m\"\u001b[39m)\n\u001b[0;32m     31\u001b[0m         current \u001b[38;5;241m=\u001b[39m current\u001b[38;5;241m.\u001b[39mnext\n\u001b[0;32m     32\u001b[0m \u001b[38;5;28;01melse\u001b[39;00m:\n",
      "\u001b[1;31mAttributeError\u001b[0m: type object 'Customer' has no attribute 'rfc'"
     ]
    }
   ],
   "source": [
    "customers = read_customers(\"Clientes.txt\")\n",
    "size = len(customers)\n",
    "HashList = CreateHashList(customers)\n",
    "printHashList(HashList)"
   ]
  },
  {
   "cell_type": "code",
   "execution_count": null,
   "id": "203386e5",
   "metadata": {},
   "outputs": [],
   "source": []
  }
 ],
 "metadata": {
  "kernelspec": {
   "display_name": "Python 3 (ipykernel)",
   "language": "python",
   "name": "python3"
  },
  "language_info": {
   "codemirror_mode": {
    "name": "ipython",
    "version": 3
   },
   "file_extension": ".py",
   "mimetype": "text/x-python",
   "name": "python",
   "nbconvert_exporter": "python",
   "pygments_lexer": "ipython3",
   "version": "3.11.4"
  }
 },
 "nbformat": 4,
 "nbformat_minor": 5
}
