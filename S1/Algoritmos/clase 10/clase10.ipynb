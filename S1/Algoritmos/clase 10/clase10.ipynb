{
 "cells": [
  {
   "cell_type": "code",
   "execution_count": null,
   "metadata": {},
   "outputs": [
    {
     "ename": "",
     "evalue": "",
     "output_type": "error",
     "traceback": [
      "\u001b[1;31mThe kernel failed to start as a dll could not be loaded.\n",
      "\u001b[1;31mClick <a href='https://aka.ms/kernelFailuresDllLoad'>here</a> for more info."
     ]
    }
   ],
   "source": [
    "import networkx as nx\n",
    "import random\n",
    "import matplotlib.pyplot as plt\n",
    "\n",
    "def createWeightDirectedRandomGraph(size, edgeProb, minV=1, maxV=100, seed=123):\n",
    "    G = nx.DiGraph()\n",
    "    G.add_nodes_from(list(range(size)))\n",
    "    random.seed(seed)\n",
    "    graph = [[None]*size for _ in range(size)]\n",
    "\n",
    "    for i in range(size):\n",
    "        for j in range(i, size):\n",
    "            if i == j or random.randint(0,100) > edgeProb:\n",
    "                continue\n",
    "            \n",
    "            n1, n2 = [i,j] if random.randint(0,100) < 50 else [j,i]\n",
    "            w = random.randint(minV,maxV)\n",
    "\n",
    "            graph[n1][n2] = w\n",
    "            #graph[j][i] = w\n",
    "            #i1, i2 = [i,j] if  i < j else [j,i]\n",
    "\n",
    "            G.add_edge(n1,n2, weight=w)\n",
    "    \n",
    "    return graph, G"
   ]
  },
  {
   "cell_type": "code",
   "execution_count": null,
   "metadata": {},
   "outputs": [
    {
     "ename": "",
     "evalue": "",
     "output_type": "error",
     "traceback": [
      "\u001b[1;31mThe kernel failed to start as a dll could not be loaded.\n",
      "\u001b[1;31mClick <a href='https://aka.ms/kernelFailuresDllLoad'>here</a> for more info."
     ]
    }
   ],
   "source": [
    "graph1, G1 = createWeightDirectedRandomGraph(10, 35, 1, 10, 346)\n",
    "pos = nx.circular_layout(G1)\n",
    "elabels=nx.get_edge_attributes(G1, \"weight\")\n",
    "nx.draw(G1, with_labels=True, pos = pos, arrowsize=20, arrows=True)\n",
    "nx.draw_networkx_edge_labels(G1,pos, edge_labels=elabels)\n",
    "graph1"
   ]
  },
  {
   "cell_type": "code",
   "execution_count": null,
   "metadata": {},
   "outputs": [
    {
     "ename": "",
     "evalue": "",
     "output_type": "error",
     "traceback": [
      "\u001b[1;31mThe kernel failed to start as a dll could not be loaded.\n",
      "\u001b[1;31mClick <a href='https://aka.ms/kernelFailuresDllLoad'>here</a> for more info."
     ]
    }
   ],
   "source": [
    "graph, G = createWeightDirectedRandomGraph(10, 35,1,10, 346)\n",
    "pos = nx.circular_layout(G)\n",
    "elabels=nx.get_edge_attributes(G, \"weight\")\n",
    "nx.draw(G, with_labels=True, pos = pos, arrowsize=20, arrows=True)\n",
    "nx.draw_networkx_edge_labels(G,pos, edge_labels=elabels)\n",
    "graph"
   ]
  },
  {
   "cell_type": "code",
   "execution_count": null,
   "metadata": {},
   "outputs": [
    {
     "ename": "",
     "evalue": "",
     "output_type": "error",
     "traceback": [
      "\u001b[1;31mThe kernel failed to start as a dll could not be loaded.\n",
      "\u001b[1;31mClick <a href='https://aka.ms/kernelFailuresDllLoad'>here</a> for more info."
     ]
    }
   ],
   "source": []
  }
 ],
 "metadata": {
  "kernelspec": {
   "display_name": "Python 3",
   "language": "python",
   "name": "python3"
  },
  "language_info": {
   "codemirror_mode": {
    "name": "ipython",
    "version": 3
   },
   "file_extension": ".py",
   "mimetype": "text/x-python",
   "name": "python",
   "nbconvert_exporter": "python",
   "pygments_lexer": "ipython3",
   "version": "3.9.13"
  }
 },
 "nbformat": 4,
 "nbformat_minor": 2
}
