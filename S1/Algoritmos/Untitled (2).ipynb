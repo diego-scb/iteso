{
 "cells": [
  {
   "cell_type": "code",
   "execution_count": 12,
   "id": "fc7d8668",
   "metadata": {},
   "outputs": [
    {
     "name": "stdout",
     "output_type": "stream",
     "text": [
      "1, \u001b[92m2\u001b[0m, 3, \u001b[92m4\u001b[0m, 5\n"
     ]
    }
   ],
   "source": [
    "def printSwapColored(arr, pos1, pos2, color='blue'):  \n",
    "        colors= {'yellow':'93', 'green':'92', 'red':'31', 'blue':'94', 'pink':'95'}\n",
    "        valColor = colors[color]\n",
    "        coloredArr =arr.copy()\n",
    "        coloredArr[pos1]= \"\\x1b[\"+valColor+\"m\" + str(arr[pos1]) + \"\\x1b[0m\"\n",
    "        coloredArr[pos2]= \"\\x1b[\"+valColor+\"m\" + str(arr[pos2]) + \"\\x1b[0m\"\n",
    "        arrstr = ', '.join(str(value) for value in coloredArr)\n",
    "        print(arrstr)\n",
    "printSwapColored([1,2,3,4,5], 1, 3, 'green')"
   ]
  },
  {
   "cell_type": "code",
   "execution_count": null,
   "id": "959d2a31",
   "metadata": {},
   "outputs": [],
   "source": []
  },
  {
   "cell_type": "code",
   "execution_count": 10,
   "id": "6645f6b1",
   "metadata": {},
   "outputs": [],
   "source": [
    "def maxChild(arr, root, heapsize):\n",
    "    \n",
    "    maxC = root\n",
    "    left_child = 2*root + 1\n",
    "    right_child = 2*root + 2\n",
    "    \n",
    "    if left_child < heapsize and arr[maxC] < arr[left_child]:\n",
    "        maxC = left_child\n",
    "        \n",
    "    if right_child < heapsize and arr[maxC] < arr[right_child]:\n",
    "        maxC = right_child\n",
    "    \n",
    "    return maxC"
   ]
  },
  {
   "cell_type": "code",
   "execution_count": null,
   "id": "1884c5d7",
   "metadata": {},
   "outputs": [],
   "source": []
  },
  {
   "cell_type": "code",
   "execution_count": 8,
   "id": "b785154f",
   "metadata": {},
   "outputs": [],
   "source": [
    "def maxHeapify(arr, root, heapsize):\n",
    "    \n",
    "    maxC = maxChild(arr, root, heapsize)\n",
    "    \n",
    "    if maxC != root:\n",
    "        arr[maxC],arr[root] = arr[root], arr[maxC]\n",
    "        printSwapColored(arr,maxC, root, \"blue\")\n",
    "        maxHeapify(arr, maxC, heapsize)\n",
    "        \n",
    "    return arr"
   ]
  },
  {
   "cell_type": "code",
   "execution_count": null,
   "id": "203328e9",
   "metadata": {},
   "outputs": [],
   "source": []
  },
  {
   "cell_type": "code",
   "execution_count": 6,
   "id": "7e06796d",
   "metadata": {},
   "outputs": [],
   "source": [
    "def buildHeap(arr):\n",
    "    \n",
    "    for i in range(len(arr)//2, -1, -1):\n",
    "        maxHeapify(arr, i, len(arr))\n",
    "        \n",
    "    return arr\n",
    "        "
   ]
  },
  {
   "cell_type": "code",
   "execution_count": null,
   "id": "61525556",
   "metadata": {},
   "outputs": [],
   "source": []
  },
  {
   "cell_type": "code",
   "execution_count": 13,
   "id": "4f366f2e",
   "metadata": {},
   "outputs": [
    {
     "name": "stdout",
     "output_type": "stream",
     "text": [
      "[1, 2, 3, 4, 5, 6, 7, 8, 9, 10, 11, 12, 13, 14, 15]\n",
      "1, 2, 3, 4, 5, 6, \u001b[94m15\u001b[0m, 8, 9, 10, 11, 12, 13, 14, \u001b[94m7\u001b[0m\n",
      "1, 2, 3, 4, 5, \u001b[94m13\u001b[0m, 15, 8, 9, 10, 11, 12, \u001b[94m6\u001b[0m, 14, 7\n",
      "1, 2, 3, 4, \u001b[94m11\u001b[0m, 13, 15, 8, 9, 10, \u001b[94m5\u001b[0m, 12, 6, 14, 7\n",
      "1, 2, 3, \u001b[94m9\u001b[0m, 11, 13, 15, 8, \u001b[94m4\u001b[0m, 10, 5, 12, 6, 14, 7\n",
      "1, 2, \u001b[94m15\u001b[0m, 9, 11, 13, \u001b[94m3\u001b[0m, 8, 4, 10, 5, 12, 6, 14, 7\n",
      "1, 2, 15, 9, 11, 13, \u001b[94m14\u001b[0m, 8, 4, 10, 5, 12, 6, \u001b[94m3\u001b[0m, 7\n",
      "1, \u001b[94m11\u001b[0m, 15, 9, \u001b[94m2\u001b[0m, 13, 14, 8, 4, 10, 5, 12, 6, 3, 7\n",
      "1, 11, 15, 9, \u001b[94m10\u001b[0m, 13, 14, 8, 4, \u001b[94m2\u001b[0m, 5, 12, 6, 3, 7\n",
      "\u001b[94m15\u001b[0m, 11, \u001b[94m1\u001b[0m, 9, 10, 13, 14, 8, 4, 2, 5, 12, 6, 3, 7\n",
      "15, 11, \u001b[94m14\u001b[0m, 9, 10, 13, \u001b[94m1\u001b[0m, 8, 4, 2, 5, 12, 6, 3, 7\n",
      "15, 11, 14, 9, 10, 13, \u001b[94m7\u001b[0m, 8, 4, 2, 5, 12, 6, 3, \u001b[94m1\u001b[0m\n"
     ]
    }
   ],
   "source": [
    "arr = [x for x in range(1, 16)]\n",
    "\n",
    "print(arr)\n",
    "buildHeap(arr)"
   ]
  },
  {
   "cell_type": "code",
   "execution_count": null,
   "id": "c99989a1",
   "metadata": {},
   "outputs": [],
   "source": []
  },
  {
   "cell_type": "code",
   "execution_count": 28,
   "id": "3e250896",
   "metadata": {},
   "outputs": [],
   "source": [
    "def HeapSort(arr):\n",
    "    \n",
    "    buildHeap(arr)\n",
    "    print(\"+++++\")\n",
    "    \n",
    "    for heapsize in range(len(arr) - 1, -1, -1):\n",
    "        arr[0], arr[heapsize] = arr[heapsize], arr[0]\n",
    "        printSwapColored(arr, 0, heapsize, \"red\")\n",
    "        Shortarr = buildHeap(arr[:heapsize])\n",
    "        for x in range(heapsize):\n",
    "            arr[x] = Shortarr[x]\n",
    "        "
   ]
  },
  {
   "cell_type": "code",
   "execution_count": 29,
   "id": "8313ecd1",
   "metadata": {},
   "outputs": [
    {
     "name": "stdout",
     "output_type": "stream",
     "text": [
      "[1, 2, 3, 4, 5, 6, 7, 8, 9, 10, 11, 12, 13, 14, 15]\n",
      "1, 2, 3, 4, 5, 6, \u001b[94m15\u001b[0m, 8, 9, 10, 11, 12, 13, 14, \u001b[94m7\u001b[0m\n",
      "1, 2, 3, 4, 5, \u001b[94m13\u001b[0m, 15, 8, 9, 10, 11, 12, \u001b[94m6\u001b[0m, 14, 7\n",
      "1, 2, 3, 4, \u001b[94m11\u001b[0m, 13, 15, 8, 9, 10, \u001b[94m5\u001b[0m, 12, 6, 14, 7\n",
      "1, 2, 3, \u001b[94m9\u001b[0m, 11, 13, 15, 8, \u001b[94m4\u001b[0m, 10, 5, 12, 6, 14, 7\n",
      "1, 2, \u001b[94m15\u001b[0m, 9, 11, 13, \u001b[94m3\u001b[0m, 8, 4, 10, 5, 12, 6, 14, 7\n",
      "1, 2, 15, 9, 11, 13, \u001b[94m14\u001b[0m, 8, 4, 10, 5, 12, 6, \u001b[94m3\u001b[0m, 7\n",
      "1, \u001b[94m11\u001b[0m, 15, 9, \u001b[94m2\u001b[0m, 13, 14, 8, 4, 10, 5, 12, 6, 3, 7\n",
      "1, 11, 15, 9, \u001b[94m10\u001b[0m, 13, 14, 8, 4, \u001b[94m2\u001b[0m, 5, 12, 6, 3, 7\n",
      "\u001b[94m15\u001b[0m, 11, \u001b[94m1\u001b[0m, 9, 10, 13, 14, 8, 4, 2, 5, 12, 6, 3, 7\n",
      "15, 11, \u001b[94m14\u001b[0m, 9, 10, 13, \u001b[94m1\u001b[0m, 8, 4, 2, 5, 12, 6, 3, 7\n",
      "15, 11, 14, 9, 10, 13, \u001b[94m7\u001b[0m, 8, 4, 2, 5, 12, 6, 3, \u001b[94m1\u001b[0m\n",
      "+++++\n",
      "\u001b[31m1\u001b[0m, 11, 14, 9, 10, 13, 7, 8, 4, 2, 5, 12, 6, 3, \u001b[31m15\u001b[0m\n",
      "\u001b[94m14\u001b[0m, 11, \u001b[94m1\u001b[0m, 9, 10, 13, 7, 8, 4, 2, 5, 12, 6, 3\n",
      "14, 11, \u001b[94m13\u001b[0m, 9, 10, \u001b[94m1\u001b[0m, 7, 8, 4, 2, 5, 12, 6, 3\n",
      "14, 11, 13, 9, 10, \u001b[94m12\u001b[0m, 7, 8, 4, 2, 5, \u001b[94m1\u001b[0m, 6, 3\n"
     ]
    },
    {
     "ename": "TypeError",
     "evalue": "'NoneType' object is not subscriptable",
     "output_type": "error",
     "traceback": [
      "\u001b[1;31m---------------------------------------------------------------------------\u001b[0m",
      "\u001b[1;31mTypeError\u001b[0m                                 Traceback (most recent call last)",
      "Cell \u001b[1;32mIn[29], line 4\u001b[0m\n\u001b[0;32m      1\u001b[0m arr \u001b[38;5;241m=\u001b[39m [x \u001b[38;5;28;01mfor\u001b[39;00m x \u001b[38;5;129;01min\u001b[39;00m \u001b[38;5;28mrange\u001b[39m(\u001b[38;5;241m1\u001b[39m, \u001b[38;5;241m16\u001b[39m)]\n\u001b[0;32m      3\u001b[0m \u001b[38;5;28mprint\u001b[39m(arr)\n\u001b[1;32m----> 4\u001b[0m HeapSort(arr)\n",
      "Cell \u001b[1;32mIn[28], line 11\u001b[0m, in \u001b[0;36mHeapSort\u001b[1;34m(arr)\u001b[0m\n\u001b[0;32m      9\u001b[0m Shortarr \u001b[38;5;241m=\u001b[39m buildHeap(arr[:heapsize])\n\u001b[0;32m     10\u001b[0m \u001b[38;5;28;01mfor\u001b[39;00m x \u001b[38;5;129;01min\u001b[39;00m \u001b[38;5;28mrange\u001b[39m(heapsize):\n\u001b[1;32m---> 11\u001b[0m     arr[x] \u001b[38;5;241m=\u001b[39m Shortarr[x]\n",
      "\u001b[1;31mTypeError\u001b[0m: 'NoneType' object is not subscriptable"
     ]
    }
   ],
   "source": [
    "arr = [x for x in range(1, 16)]\n",
    "\n",
    "print(arr)\n",
    "HeapSort(arr)"
   ]
  },
  {
   "cell_type": "code",
   "execution_count": null,
   "id": "345536e2",
   "metadata": {},
   "outputs": [],
   "source": []
  }
 ],
 "metadata": {
  "kernelspec": {
   "display_name": "Python 3 (ipykernel)",
   "language": "python",
   "name": "python3"
  },
  "language_info": {
   "codemirror_mode": {
    "name": "ipython",
    "version": 3
   },
   "file_extension": ".py",
   "mimetype": "text/x-python",
   "name": "python",
   "nbconvert_exporter": "python",
   "pygments_lexer": "ipython3",
   "version": "3.11.4"
  }
 },
 "nbformat": 4,
 "nbformat_minor": 5
}
