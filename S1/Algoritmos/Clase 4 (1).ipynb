{
 "cells": [
  {
   "cell_type": "markdown",
   "id": "030ee4d4",
   "metadata": {},
   "source": [
    "# BINARY SEARCH"
   ]
  },
  {
   "cell_type": "code",
   "execution_count": 16,
   "id": "12791c22",
   "metadata": {},
   "outputs": [],
   "source": [
    "def BinarySearch(arr, y, minV, maxV):\n",
    "    \n",
    "    mid = ((maxV - minV)//2) + minV\n",
    "    if minV > maxV:\n",
    "        return -1\n",
    "    \n",
    "    if y == arr[mid]:\n",
    "        return mid\n",
    "    \n",
    "    if y < arr[mid]:\n",
    "        return BinarySearch(arr, y, minV, mid - 1)\n",
    "    else:\n",
    "        return BinarySearch(arr, y, mid + 1, maxV)\n",
    "    \n",
    "    "
   ]
  },
  {
   "cell_type": "code",
   "execution_count": 17,
   "id": "4f949981",
   "metadata": {},
   "outputs": [
    {
     "data": {
      "text/plain": [
       "-1"
      ]
     },
     "execution_count": 17,
     "metadata": {},
     "output_type": "execute_result"
    }
   ],
   "source": [
    "arr = [5, 8, 10, 13, 19, 26, 35, 47]\n",
    "\n",
    "n = len(arr)\n",
    "\n",
    "y = 7\n",
    "\n",
    "i = BinarySearch(arr, y, 0, n-1)\n",
    "i"
   ]
  },
  {
   "cell_type": "code",
   "execution_count": null,
   "id": "ada3c1ef",
   "metadata": {},
   "outputs": [],
   "source": []
  },
  {
   "cell_type": "code",
   "execution_count": 28,
   "id": "6cec58f7",
   "metadata": {},
   "outputs": [],
   "source": [
    "def median(arr, K, verbose=True):\n",
    "    mid = len(arr) //2\n",
    "    MidElement = arr[mid]\n",
    "    \n",
    "    if verbose:\n",
    "        print(\"Middle element: \", MidElement, \"K: \", K)\n",
    "    \n",
    "    P = 0\n",
    "    for x in arr:\n",
    "        if x < MidElement:\n",
    "            P = P + 1\n",
    "    \n",
    "    if P == K:\n",
    "        return MidElement\n",
    "    \n",
    "    elif P > K:\n",
    "        L1 = []\n",
    "        for x in arr:\n",
    "            if x < MidElement:\n",
    "                L1.append(x)\n",
    "                return(median(L1, K))\n",
    "    else:\n",
    "        L2 = []\n",
    "        for x in arr:\n",
    "            if x > MidElement:\n",
    "                L2.append(x)\n",
    "                return(median(L2, K - P -1))\n",
    "        "
   ]
  },
  {
   "cell_type": "code",
   "execution_count": 29,
   "id": "6833c01c",
   "metadata": {},
   "outputs": [
    {
     "name": "stdout",
     "output_type": "stream",
     "text": [
      "Middle element:  13 K:  4\n",
      "Middle element:  19 K:  0\n"
     ]
    },
    {
     "data": {
      "text/plain": [
       "19"
      ]
     },
     "execution_count": 29,
     "metadata": {},
     "output_type": "execute_result"
    }
   ],
   "source": [
    "arr = [19, 10, 47, 5, 13, 26, 8, 35]\n",
    "K = len(arr)//2\n",
    "\n",
    "median(arr, K)"
   ]
  },
  {
   "cell_type": "code",
   "execution_count": null,
   "id": "f8f9ced5",
   "metadata": {},
   "outputs": [],
   "source": []
  },
  {
   "cell_type": "code",
   "execution_count": 57,
   "id": "9fe638ee",
   "metadata": {},
   "outputs": [],
   "source": [
    "def Partition(arr):\n",
    "    print(arr)\n",
    "    \n",
    "    n = len(arr)\n",
    "    \n",
    "    pivot = arr[-1]\n",
    "    \n",
    "    i = 0\n",
    "    while arr[i] < pivot:\n",
    "        i = i + 1\n",
    "    p1 = arr[i]\n",
    "    print(p1)\n",
    "    \n",
    "    j = n - 2\n",
    "    while arr[j] > pivot:\n",
    "        j = j - 1\n",
    "    p2 = arr[j]\n",
    "    print(p2)\n",
    "    \n",
    "    if i < j:\n",
    "        arr[i], arr[j] = arr[j], arr[i]\n",
    "        return Partition(arr)\n",
    "    \n",
    "    else:\n",
    "        print(arr)\n",
    "        print(p1, p2)\n",
    "        arr[-1], arr[i] = arr[i], arr[-1]\n",
    "        return arr\n"
   ]
  },
  {
   "cell_type": "code",
   "execution_count": 58,
   "id": "3bb2f829",
   "metadata": {},
   "outputs": [
    {
     "name": "stdout",
     "output_type": "stream",
     "text": [
      "[11, 13, 7, 15, 19, 27, 40, 14]\n",
      "15\n",
      "7\n",
      "[11, 13, 7, 15, 19, 27, 40, 14]\n",
      "15 7\n"
     ]
    },
    {
     "data": {
      "text/plain": [
       "[11, 13, 7, 14, 19, 27, 40, 15]"
      ]
     },
     "execution_count": 58,
     "metadata": {},
     "output_type": "execute_result"
    }
   ],
   "source": [
    "arr = [11, 13, 7, 15, 19, 27, 40, 14]\n",
    "\n",
    "Partition(arr)"
   ]
  },
  {
   "cell_type": "code",
   "execution_count": 66,
   "id": "266ece30",
   "metadata": {},
   "outputs": [],
   "source": [
    "def Partition(arr):\n",
    "    \n",
    "    n = len(arr)\n",
    "    i = 0\n",
    "    j = n-2\n",
    "    \n",
    "    while i < j:\n",
    "        print(arr)\n",
    "    \n",
    "        pivot = arr[-1]\n",
    "\n",
    "        while arr[i] < pivot:\n",
    "            i = i + 1\n",
    "        p1 = arr[i]\n",
    "        print(p1)\n",
    "\n",
    "        while arr[j] > pivot:\n",
    "            j = j - 1\n",
    "        p2 = arr[j]\n",
    "        print(p2)\n",
    "        \n",
    "        i, j = j, i\n",
    "        arr[i], arr[j] = arr[j], arr[i]\n",
    "\n",
    "    \n",
    "\n",
    "    print(arr)\n",
    "    print(p1, p2)\n",
    "    arr[-1], arr[i] = arr[i], arr[-1]\n",
    "    return arr\n"
   ]
  },
  {
   "cell_type": "code",
   "execution_count": 67,
   "id": "e86e3282",
   "metadata": {},
   "outputs": [
    {
     "name": "stdout",
     "output_type": "stream",
     "text": [
      "[11, 13, 7, 15, 19, 27, 40, 14]\n",
      "15\n",
      "7\n",
      "[11, 13, 15, 7, 19, 27, 40, 14]\n",
      "15\n",
      "7\n",
      "[11, 13, 7, 15, 19, 27, 40, 14]\n",
      "15 7\n"
     ]
    },
    {
     "data": {
      "text/plain": [
       "[11, 13, 7, 14, 19, 27, 40, 15]"
      ]
     },
     "execution_count": 67,
     "metadata": {},
     "output_type": "execute_result"
    }
   ],
   "source": [
    "arr = [11, 13, 7, 15, 19, 27, 40, 14]\n",
    "\n",
    "Partition(arr)"
   ]
  },
  {
   "cell_type": "code",
   "execution_count": null,
   "id": "9a68c638",
   "metadata": {},
   "outputs": [],
   "source": []
  }
 ],
 "metadata": {
  "kernelspec": {
   "display_name": "Python 3 (ipykernel)",
   "language": "python",
   "name": "python3"
  },
  "language_info": {
   "codemirror_mode": {
    "name": "ipython",
    "version": 3
   },
   "file_extension": ".py",
   "mimetype": "text/x-python",
   "name": "python",
   "nbconvert_exporter": "python",
   "pygments_lexer": "ipython3",
   "version": "3.11.4"
  }
 },
 "nbformat": 4,
 "nbformat_minor": 5
}
