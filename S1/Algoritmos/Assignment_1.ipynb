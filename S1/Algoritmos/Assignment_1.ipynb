{
 "cells": [
  {
   "cell_type": "markdown",
   "metadata": {},
   "source": [
    "# Assignment 1. Analysis and Design of Algorithms\n"
   ]
  },
  {
   "cell_type": "markdown",
   "metadata": {},
   "source": [
    "**Instructions**: Indicate the time and space complexity for each exercise and briefly and clearly justify your answer. Modify the corresponding cell to input your response. In this task, input size is also considered for space complexity. Each exercise is worth 10 points (except the last one). If you get more than 100 points, your grade will be 100. "
   ]
  },
  {
   "cell_type": "markdown",
   "metadata": {},
   "source": [
    "## Exercise 1:\n",
    "Obtain the common elements of 2 unordered arrays with non-repeated values.\n",
    "\n",
    "**Time**:\n",
    "- Complexity: *Replace with the answer, e.g., EXPONENTIAL*\n",
    "- Justification: Example: because it requires $2^n$ operations. In case you need to include equations like $x=\\frac{\\sqrt{n}}{\\sqrt{n^{2a}}}$, use symbols like $\\alpha, \\beta, \\delta, \\log_b(n), \\neq $.\n",
    "\n",
    "**Space**:\n",
    "- Complexity: *Replace with the answer*\n",
    "- Justification:\n"
   ]
  },
  {
   "cell_type": "markdown",
   "metadata": {},
   "source": [
    "# Exercise 2:\n",
    "Calculation of the statistical mode in an unordered list of integers.\n",
    "\n",
    "**Time**:\n",
    "- Complexity: *Replace with the answer*\n",
    "- Justification: *Replace with the answer*\n",
    "\n",
    "**Space**:\n",
    "- Complexity: *Replace with the answer*\n",
    "- Justification: *Replace with the answer*"
   ]
  },
  {
   "cell_type": "markdown",
   "metadata": {},
   "source": [
    "## Exercise 3:\n",
    "Matrix multiplication of square matrices.\n",
    "\n",
    "**Time**:\n",
    "- Complexity: *Replace with the answer*\n",
    "- Justification: *Replace with the answer*\n",
    "\n",
    "**Space**:\n",
    "- Complexity: *Replace with the answer*\n",
    "- Justification: *Replace with the answer*\n"
   ]
  },
  {
   "cell_type": "markdown",
   "metadata": {},
   "source": [
    "## Exercise 4:\n",
    "Counting prime numbers in the range [a…b].\n",
    "\n",
    "**Time**:\n",
    "- Complexity: *Replace with the answer*\n",
    "- Justification: *Replace with the answer*\n",
    "\n",
    "**Space**:\n",
    "- Complexity: *Replace with the answer*\n",
    "- Justification: *Replace with the answer*"
   ]
  },
  {
   "cell_type": "markdown",
   "metadata": {},
   "source": [
    "## Exercise 5:\n",
    "Storing and displaying the results of dividing an integer by 6 until reaching 1. Assume the initial number is a power of 6.\n",
    "\n",
    "**Time**:\n",
    "- Complexity: *Replace with the answer*\n",
    "- Justification: *Replace with the answer*\n",
    "\n",
    "**Space**:\n",
    "- Complexity: *Replace with the answer*\n",
    "- Justification: *Replace with the answer*\n"
   ]
  },
  {
   "cell_type": "markdown",
   "metadata": {},
   "source": [
    "### Exercise 6:\n",
    "Finding the number of groupings of N digits (identical or different) that, when summed, are not greater than a value M. Consider, for example: $\\{0, 1, 2, 3\\} \\neq \\{1, 0, 2, 3\\}$.\n",
    "\n",
    "**Time**:\n",
    "- Complexity: *Replace with the answer*\n",
    "- Justification: *Replace with the answer*\n",
    "\n",
    "**Space**:\n",
    "- Complexity: *Replace with the answer*\n",
    "- Justification: *Replace with the answer*"
   ]
  },
  {
   "cell_type": "markdown",
   "metadata": {},
   "source": [
    "**Instructions**: The Euclidean algorithm that calculates the greatest common divisor of two integers A, B is considered the first interesting algorithm in history because it efficiently solves this problem. The time and space complexity in the *worst case* are both O(log n). This occurs (the worst case) when A and B are two consecutive Fibonacci numbers. **Verify this complexity of the Euclidean algorithm with Fibonacci numbers practically**"
   ]
  },
  {
   "cell_type": "markdown",
   "metadata": {},
   "source": [
    "## Exercise 7:\n",
    "\n",
    "Implement the Euclidean algorithm in Python. Assume that A > B. (complete the missing code). The \"conteo\" refers to the number of times the function is entered recursively, in other words, it counts the number of divisions the algorithm performs to reach the answer.\n"
   ]
  },
  {
   "cell_type": "code",
   "execution_count": null,
   "metadata": {},
   "outputs": [],
   "source": [
    "def gdc(a, b, count=0): # returns 2 values: the result and the count of function executions.\n",
    "    # complete the base case\n",
    "  \n",
    "    count += 1 \n",
    "    return  # complete with a recursive call\n",
    "\n",
    "res, cnt = gdc(15, 10)\n",
    "print(\"result:\", res)\n",
    "print(\"count:\", cnt)"
   ]
  },
  {
   "cell_type": "code",
   "execution_count": null,
   "metadata": {},
   "outputs": [],
   "source": [
    "## check your code\n",
    "\n",
    "print(\"gdc(15,10)\",\"OK\" if gdc(15,10)== (5,2) else   \"ERROR\")\n",
    "print(\"gdc(20,32)\",\"OK\" if gdc(32,20)== (4,4) else   \"ERROR\")\n",
    "print(\"gdc(24,18)\",\"OK\" if gdc(24,18)== (6,2) else   \"ERROR\")\n",
    "print(\"gdc(80,60)\",\"OK\" if gdc(80,60)== (20,2) else  \"ERROR\")\n",
    "print(\"gdc(83,79)\",\"OK\" if gdc(83,79)== (1,4) else   \"ERROR\")\n",
    "print(\"gdc(80,40)\",\"OK\" if gdc(80,40)== (40,1) else  \"ERROR\")\n"
   ]
  },
  {
   "cell_type": "markdown",
   "metadata": {},
   "source": [
    "## Exercise 8:\n",
    "\n",
    "Return 2 lists: the first n numbers of the Fibonacci series, where the first value in the list is 2, and the second list is the count.\n",
    "- Example: `fibonacciList(3)` returns `[2, 3, 5]` and `count` returns `[1, 2, 3]`.\n",
    "- Example: `fibonacciList(1)` returns `[2]` and `count` returns `[1]`.\n"
   ]
  },
  {
   "cell_type": "code",
   "execution_count": null,
   "metadata": {},
   "outputs": [],
   "source": [
    "def fibonacciList(n):\n",
    "    #complete code\n",
    "    return fibonacciValues, gdcCount\n",
    "\n",
    "lFibonacciValues,lgdcCount= fibonacciList(15)\n",
    "print(lFibonacciValues)\n",
    "print(lgdcCount)"
   ]
  },
  {
   "cell_type": "markdown",
   "metadata": {},
   "source": [
    "## Exercise 9\n",
    "\n",
    "Plot (5 points) and display the trend of the GCD using the Fibonacci sequence as input. You should show the equation and display the trend line that fits the data. Research how to do this in Python. Example: $coeficient_0 log_2(n) + coeficient1$ (5 points)  Tip: search for numpy polyfit and poly1d\n"
   ]
  },
  {
   "cell_type": "code",
   "execution_count": null,
   "metadata": {},
   "outputs": [],
   "source": [
    "import matplotlib.pyplot as plt\n",
    "import numpy as np\n",
    "import math\n",
    "\n",
    "lFibonacciValues, lgdcCount = fibonacciList(20)\n",
    "plt.plot(lFibonacciValues, lgdcCount, 'g*')\n",
    "\n",
    "# Get the trend line and coefficients. You can assume it's logarithmic.\n",
    "\n",
    "#plt.plot   # plot the fitting line\n",
    "\n",
    "plt.legend()\n",
    "print(\"{} \\\\log_2(x) + {}\".format(coefficients[0], coefficients[1]))\n",
    "\n"
   ]
  },
  {
   "cell_type": "markdown",
   "metadata": {},
   "source": [
    "## Exercise 10\n",
    "\n",
    "Using the obtained equation, demonstrate that $f(N) \\in O(\\log N)$.\n",
    "\n",
    "**Answer**:\n",
    "\n",
    "$f(N) = $\n",
    "\n",
    "$g(N) = $\n",
    "\n",
    "*complete*\n"
   ]
  },
  {
   "cell_type": "code",
   "execution_count": null,
   "metadata": {},
   "outputs": [],
   "source": [
    "import math\n",
    "import numpy as np\n",
    "import matplotlib.pyplot as plt\n",
    "\n",
    "t = np.arange(0.1, 6., .1)\n",
    "c0lg2N = [2*math.log2(x) for x in t]\n",
    "gn = [1.44*math.log2(x)-0.34 for x in t]\n",
    "labels=[\"2g(N)=2lg(N)\",\"f(N)=1.44lg(N)-0.34\"]\n",
    "\n",
    "plt.plot(t,c0lg2N,'g*', label=labels[0] )\n",
    "plt.plot(t,gn,'b-', label=labels[1] )\n",
    "plt.legend()"
   ]
  },
  {
   "cell_type": "markdown",
   "metadata": {},
   "source": [
    "## Exercise 11 (15 points)\n",
    "\n",
    "- State the condition that A and B must satisfy to be considered the best case, assuming A > 0 and B > 0, and what is the complexity of the best case (5 Points)\n",
    "  - *Answer*: \n",
    "- Demonstrate whether $f(N)$ from the best case (previous point) belongs or does not belong to $\\Omega(\\log N)$ (10 points only if f(N) is correct).\n",
    "  - *Answer*: \n",
    "\n"
   ]
  }
 ],
 "metadata": {
  "kernelspec": {
   "display_name": "Python 3.9.12 ('base')",
   "language": "python",
   "name": "python3"
  },
  "language_info": {
   "codemirror_mode": {
    "name": "ipython",
    "version": 3
   },
   "file_extension": ".py",
   "mimetype": "text/x-python",
   "name": "python",
   "nbconvert_exporter": "python",
   "pygments_lexer": "ipython3",
   "version": "3.9.12"
  },
  "vscode": {
   "interpreter": {
    "hash": "ee9c296264a8b6803c6844833b739715a1cce56a1764060cc50ddeae466ea71c"
   }
  }
 },
 "nbformat": 4,
 "nbformat_minor": 4
}
