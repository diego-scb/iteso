{
 "cells": [
  {
   "cell_type": "markdown",
   "metadata": {},
   "source": [
    "# Assignment 2.  Quadratic Sorting Algorithms"
   ]
  },
  {
   "cell_type": "markdown",
   "metadata": {},
   "source": [
    "**Name**: *put you name here*"
   ]
  },
  {
   "cell_type": "markdown",
   "metadata": {},
   "source": [
    "**Instructions**: Complete what is requested and justify with the corresponding code. Upon finishing the task, fill in the following table summarizing the work.\n",
    "\n",
    "**Evaluation**:\n",
    "- A priori analysis of the sorted array, 5 points for each exercise.\n",
    "- A priori analysis of the unsorted array, 10 points for each exercise.\n",
    "- A posteriori analysis (graph and polynomial), 6 points.\n",
    " "
   ]
  },
  {
   "cell_type": "markdown",
   "metadata": {},
   "source": [
    "<table width=\"100%\">\n",
    "    <thead>\n",
    "        <tr>\n",
    "            <th>Algorithm</th>\n",
    "            <th>Criterion</th>\n",
    "            <th>Sorted <br> (a priori)</th>\n",
    "            <th>Random <br> (posteriori)</th>\n",
    "            <th>Reversed <br> (a priori)</th>\n",
    "        </tr>\n",
    "    </thead>\n",
    "    <tbody>\n",
    "        <tr>\n",
    "            <td rowspan=\"2\">Selection</td>\n",
    "            <td>Comparisons</td>\n",
    "            <td>$0.5n^2-0.5 \\in O(n^2)$</td>\n",
    "            <td>$ \\in O()$</td>\n",
    "            <td>$0.5n^2-0.5 \\in O(n^2)$</td>\n",
    "        </tr>\n",
    "        <tr>\n",
    "            <td>Movements</td>\n",
    "            <td>$0 \\in O(k)$</td>\n",
    "            <td>$ \\in O()$</td>\n",
    "            <td>$1.5n \\in O(n)$</td>\n",
    "        </tr>\n",
    "        <tr>\n",
    "            <td rowspan=\"2\">Insertion</td>\n",
    "            <td>Comparisons</td>\n",
    "            <td>$ \\in O()$</td>\n",
    "            <td>$ \\in O()$</td>\n",
    "            <td>$ \\in O()$</td>\n",
    "        </tr>\n",
    "        <tr>\n",
    "            <td>Movements</td>\n",
    "            <td>$ \\in O()$</td>\n",
    "            <td>$ \\in O()$</td>\n",
    "            <td>$ \\in O()$</td>\n",
    "        </tr>\n",
    "        <tr>\n",
    "            <td rowspan=\"2\">Bubble</td>\n",
    "            <td>Comparisons</td>\n",
    "            <td>$ \\in O()$</td>\n",
    "            <td>$ \\in O()$</td>\n",
    "            <td>$ \\in O()$</td>\n",
    "        </tr>\n",
    "        <tr>\n",
    "            <td>Movements</td>\n",
    "            <td>$ \\in O()$</td>\n",
    "            <td>$ \\in O()$</td>\n",
    "            <td>$ \\in O()$</td>\n",
    "        </tr>\n",
    "        <tr>\n",
    "            <td></td>\n",
    "            <td>Total Points</td>\n",
    "            <td>4*5=20</td>\n",
    "            <td>6*6=36</td>\n",
    "            <td>4*11=44</td>\n",
    "        </tr>\n",
    "    </tbody>\n",
    "</table>\n"
   ]
  },
  {
   "cell_type": "markdown",
   "metadata": {},
   "source": [
    "# Exercise 1: Insertion Sort"
   ]
  },
  {
   "cell_type": "code",
   "execution_count": null,
   "metadata": {
    "tags": []
   },
   "outputs": [],
   "source": [
    "def insertionSort(arr, verbose=False):\n",
    "    if verbose: print(arr)\n",
    "    moves = comp = 0\n",
    "    for i in range(1, len(arr)):\n",
    "        temp = arr[i]\n",
    "        moves += 1  # counting the movement from array to temporary\n",
    "        j = i - 1\n",
    "        # comp += 1  # for the sake of this task, we consider this only in the best case (when not entering the while loop)\n",
    "        while j >= 0 and temp < arr[j]:\n",
    "            comp += 1\n",
    "            arr[j + 1] = arr[j]\n",
    "            moves += 1  # counting the movement from array to temporary\n",
    "            j -= 1\n",
    "            if verbose: print(arr)\n",
    "        \n",
    "        arr[j + 1] = temp\n",
    "        moves += 1  # counting the previous assignment\n",
    "        if verbose: print(arr)\n",
    "    return comp, moves\n",
    "\n",
    "arr = [97, 53, 43, 32, 29, 16]\n",
    "insertionSort(arr, True)\n",
    "\n"
   ]
  },
  {
   "cell_type": "markdown",
   "metadata": {},
   "source": [
    "\n",
    "## 1.A) A priori Analysis of Sorted Array\n",
    "\n",
    "* ## Comparisons\n",
    "\n",
    "    Here, the procedure is described as $\\sum_{i=0}^{n}$\n",
    "    $$\\sum_{i=0}^{n}=$$\n",
    "    \n",
    "* ## Movements\n",
    "\n",
    "    Here, the procedure is described as $\\sum_{i=0}^{n}$\n",
    "    $$\\sum_{i=0}^{n}=$$\n",
    "    \n",
    "\n",
    "## 1.B) A priori Analysis of Reversed Array\n",
    "\n",
    "* ## Comparisons\n",
    "\n",
    "    Here, the procedure is described as $\\sum_{i=0}^{n}$\n",
    "    $$\\sum_{i=0}^{n}=$$\n",
    "    \n",
    "* ## Movements\n",
    "\n",
    "    Here, the procedure is described as $\\sum_{i=0}^{n}$\n",
    "    $$\\sum_{i=0}^{n}=$$\n",
    "\n"
   ]
  },
  {
   "cell_type": "markdown",
   "metadata": {},
   "source": [
    "## 1.C) A Posteriori Analysis\n",
    "\n",
    "The a posteriori analysis involves running the algorithm under test multiple times for various input array sizes. For each input size, multiple runs of the algorithm are performed using random arrays, and an average is obtained for both movements and comparisons. This process is repeated for different array sizes. The averages are plotted, revealing a trend."
   ]
  },
  {
   "cell_type": "code",
   "execution_count": null,
   "metadata": {},
   "outputs": [],
   "source": [
    "# Here the code is completed to gather all the data for plotting\n",
    "\n",
    "# This function creates random arrays of size 'size' with values between minVal and maxVal\n",
    "import random \n",
    "def createIntArray(size, minVal, maxVal):\n",
    "    return [random.randint(minVal, maxVal) for x in range(size)]\n",
    "\n",
    "#---------------------------------------------------------------------\n",
    "\n",
    "''' minSize, maxSize: array sizes ranging from minSize to maxSize-1\n",
    "    step: interval between array sizes: minSize, minSize+step, minSize+step*2, ..., maxSize\n",
    "    runs: number of runs for each array size \n",
    "    Note: For each run, a random array is created and the sorting algorithm is executed'''\n",
    "    \n",
    "def dataForInsertionSortPlot(minSize=2, maxSize=100, step=1, runs=200):\n",
    "    totalC = []# An array to store the average comparisons for each array size\n",
    "    totalM = []# An array to store the average movements for each array size\n",
    "    \n",
    "    # Loop through different array sizes, tip: range(minSize, maxSize, step):\n",
    "        #initialize the sum of comparison and moves variables \n",
    "                \n",
    "        # Run the algorithm multiple times for each array size (in the range of runs )\n",
    "        \n",
    "            # Create a random array of the given size\n",
    "            # Run the sorting algorithm and get comparisons and movements\n",
    "            #sum the comparisos\n",
    "            #sum the moves\n",
    "        \n",
    "        # Calculate the average comparisons and movements\n",
    "             \n",
    "        # Store the average values in the respective arrays totalC and totalM\n",
    "               \n",
    "    # Return the arrays containing the average comparisons and movements\n",
    "    return totalC, totalM\n",
    "\n",
    "print(dataForInsertionSortPlot(2, 20, 2, 20))\n",
    "\n"
   ]
  },
  {
   "cell_type": "code",
   "execution_count": null,
   "metadata": {},
   "outputs": [],
   "source": [
    "\n",
    "# The graph will be displayed here, and the coefficients will be obtained assuming quadratic or linear behavior in this case.\n",
    "\n",
    "import numpy as np\n",
    "import math \n",
    "import matplotlib.pyplot as plt\n",
    "\n",
    "minSize = 5\n",
    "maxSize = 400\n",
    "step = 5\n",
    "runs = 50\n",
    "\n",
    "C, M = dataForInsertionSortPlot(minSize, maxSize, step, runs)\n",
    "\n",
    "x = [x for x in range(minSize, maxSize, step)]\n",
    "\n",
    "# Obtain polynomial coefficients using polyfit\n",
    "\n",
    "# Change the labels in the following table\n",
    "# Add the polynomial as it should be (quadratic or linear)\n",
    "# with their respective coefficients.\n",
    "\n",
    "plt.plot(x, C, 'g*', label=\"Comparisons c0x^2+c1\") \n",
    "plt.plot(x, M, 'bs', label=\"Movements k0x^2+k1\") \n",
    "\n",
    "plt.legend()\n"
   ]
  },
  {
   "cell_type": "markdown",
   "metadata": {},
   "source": [
    "# Exercise 2: Bubble Sort"
   ]
  },
  {
   "cell_type": "code",
   "execution_count": null,
   "metadata": {
    "tags": []
   },
   "outputs": [],
   "source": [
    "def bubbleSort(arr, verbose=False):\n",
    "    if verbose: print(arr)\n",
    "    moves = comp = 0\n",
    "    swapped = True\n",
    "    for i in range(len(arr)-1):\n",
    "        # Here is a comparison, but we won't consider it to make the task easier for you.\n",
    "        if swapped: \n",
    "            swapped = False\n",
    "            for j in range(len(arr)-i-1):\n",
    "                comp += 1\n",
    "                if arr[j] > arr[j+1]:\n",
    "                    arr[j], arr[j+1] = arr[j+1], arr[j]\n",
    "                    moves += 3  # considering 3 movements\n",
    "                    swapped = True\n",
    "                    if verbose: print(arr)\n",
    "        else:\n",
    "            break\n",
    "            \n",
    "    return comp, moves\n",
    "\n",
    "arr2 = [97, 53, 43, 32, 29, 16]\n",
    "\n",
    "bubbleSort(arr2, True)\n"
   ]
  },
  {
   "cell_type": "markdown",
   "metadata": {},
   "source": [
    "\n",
    "## 2.A) A priori Analysis of Sorted Array\n",
    "\n",
    "* ## Comparisons\n",
    "\n",
    "    Here, the procedure is described as $\\sum_{i=0}^{n}$\n",
    "    $$\\sum_{i=0}^{n}=$$\n",
    "    \n",
    "* ## Movements\n",
    "\n",
    "    Here, the procedure is described as $\\sum_{i=0}^{n}$\n",
    "    $$\\sum_{i=0}^{n}=$$\n",
    "    \n",
    "\n",
    "## 2.B) A priori Analysis of Reversed Array\n",
    "\n",
    "* ## Comparisons\n",
    "\n",
    "    Here, the procedure is described as $\\sum_{i=0}^{n}$\n",
    "    $$\\sum_{i=0}^{n}=$$\n",
    "    \n",
    "* ## Movements\n",
    "\n",
    "    Here, the procedure is described as $\\sum_{i=0}^{n}$\n",
    "    $$\\sum_{i=0}^{n}=$$\n",
    "\n"
   ]
  },
  {
   "cell_type": "markdown",
   "metadata": {},
   "source": [
    "## 2.C) A posteriori analysis"
   ]
  },
  {
   "cell_type": "code",
   "execution_count": null,
   "metadata": {},
   "outputs": [],
   "source": [
    "def dataForBubbleSortPlot(minSize, maxSize, step, runs):\n",
    "    totalC = []  # array with the average comparisons for each array size\n",
    "    totalM = []  # array with the average movements for each array size\n",
    "    # put code here\n",
    "    return totalC, totalM\n",
    "    "
   ]
  },
  {
   "cell_type": "code",
   "execution_count": null,
   "metadata": {},
   "outputs": [],
   "source": [
    "import numpy as np\n",
    "import math \n",
    "import matplotlib.pyplot as plt\n",
    "\n",
    "\n",
    "minSize = 5\n",
    "maxSize = 400\n",
    "step = 5\n",
    "runs = 50\n",
    "\n",
    "C, M = dataForBubbleSortPlot(minSize, maxSize, step, runs)\n",
    "\n",
    "x = [x for x in range(minSize, maxSize, step)]\n",
    "\n",
    "# Obtain polynomial coefficients using polyfit\n",
    "\n",
    "# Change the labels in the following table\n",
    "# Add the polynomial as it should be (quadratic or linear)\n",
    "# with their respective coefficients.\n",
    "\n",
    "plt.plot(x, C, 'g*', label=\"Comparisons c0x^2+c1\") \n",
    "plt.plot(x, M, 'bs', label=\"Movements k0x^2+k1 \") \n",
    "\n",
    "plt.legend()"
   ]
  },
  {
   "cell_type": "markdown",
   "metadata": {},
   "source": [
    "# 3. Selection sort"
   ]
  },
  {
   "cell_type": "code",
   "execution_count": 6,
   "metadata": {},
   "outputs": [
    {
     "name": "stdout",
     "output_type": "stream",
     "text": [
      "[97, 53, 43, 32, 29, 16]\n",
      "[16, 53, 43, 32, 29, 97]\n",
      "[16, 29, 43, 32, 53, 97]\n",
      "[16, 29, 32, 43, 53, 97]\n"
     ]
    },
    {
     "data": {
      "text/plain": [
       "(15, 3)"
      ]
     },
     "execution_count": 6,
     "metadata": {},
     "output_type": "execute_result"
    }
   ],
   "source": [
    "def selectionSort(arr, verbose=True):\n",
    "    if verbose:\n",
    "        print(arr)\n",
    "    moves = comp = 0\n",
    "    for i in range (len(arr)-1):\n",
    "        minV = i\n",
    "        for j in range(i+1,len(arr)):\n",
    "            comp+=1\n",
    "            if(arr[j]<arr[minV]):\n",
    "                minV = j\n",
    "            \n",
    "        if(minV != i):\n",
    "            moves+=1\n",
    "            arr[i], arr[minV] = arr[minV],arr[i]\n",
    "            if verbose:\n",
    "                print(arr)\n",
    "    return comp,moves\n",
    "            \n",
    "selectionSort([97,53,43,32,29,16])"
   ]
  },
  {
   "cell_type": "markdown",
   "metadata": {},
   "source": [
    "## A Posteriori Analysis of Selection Sort"
   ]
  },
  {
   "cell_type": "code",
   "execution_count": 7,
   "metadata": {},
   "outputs": [],
   "source": [
    "# Similar to the other 2 algorithms\n"
   ]
  },
  {
   "cell_type": "markdown",
   "metadata": {},
   "source": [
    "# 4. Extra Points: ShellSort (15 points)\n",
    "\n",
    "Perform an **a posteriori** analysis of the shell sort algorithm for comparisons and movements.\n",
    "\n",
    "- Implement the shellsort (you can base it on code you find online)\n",
    "- With array sizes: 100 to 4000 with intervals of 10.\n",
    "- Perform 100 runs for each array size.\n",
    "- Plot and display the polynomial.\n",
    "- *If you obtain a score greater than 100, you will be capped at 100.*"
   ]
  }
 ],
 "metadata": {
  "kernelspec": {
   "display_name": "Python 3.9.12 ('base')",
   "language": "python",
   "name": "python3"
  },
  "language_info": {
   "codemirror_mode": {
    "name": "ipython",
    "version": 3
   },
   "file_extension": ".py",
   "mimetype": "text/x-python",
   "name": "python",
   "nbconvert_exporter": "python",
   "pygments_lexer": "ipython3",
   "version": "3.9.12"
  },
  "vscode": {
   "interpreter": {
    "hash": "ee9c296264a8b6803c6844833b739715a1cce56a1764060cc50ddeae466ea71c"
   }
  }
 },
 "nbformat": 4,
 "nbformat_minor": 2
}
